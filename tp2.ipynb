{
  "nbformat": 4,
  "nbformat_minor": 0,
  "metadata": {
    "colab": {
      "name": "tp2",
      "provenance": [],
      "collapsed_sections": [],
      "authorship_tag": "ABX9TyMyAr8YKcqZvfKSrGARX7ya",
      "include_colab_link": true
    },
    "kernelspec": {
      "name": "python3",
      "display_name": "Python 3"
    },
    "language_info": {
      "name": "python"
    }
  },
  "cells": [
    {
      "cell_type": "markdown",
      "metadata": {
        "id": "view-in-github",
        "colab_type": "text"
      },
      "source": [
        "<a href=\"https://colab.research.google.com/github/RassimCHEBLI/RassimCHEBLI/blob/circleci-project-setup/tp2.ipynb\" target=\"_parent\"><img src=\"https://colab.research.google.com/assets/colab-badge.svg\" alt=\"Open In Colab\"/></a>"
      ]
    },
    {
      "cell_type": "code",
      "execution_count": 1,
      "metadata": {
        "colab": {
          "base_uri": "https://localhost:8080/"
        },
        "id": "N5GVC1WBz3L4",
        "outputId": "d5c3e549-89f9-47a8-80f4-a26efdb7d167"
      },
      "outputs": [
        {
          "output_type": "stream",
          "name": "stdout",
          "text": [
            "Mounted at drive/\n"
          ]
        }
      ],
      "source": [
        "import os\n",
        "from google.colab import drive\n",
        "drive.mount('drive/')"
      ]
    },
    {
      "cell_type": "code",
      "source": [
        "from google.colab import drive\n",
        "drive.mount('/content/drive')"
      ],
      "metadata": {
        "colab": {
          "base_uri": "https://localhost:8080/"
        },
        "id": "TTqWf_o90KmX",
        "outputId": "c5a9a5bf-65b7-4449-c818-2072ed70497a"
      },
      "execution_count": 2,
      "outputs": [
        {
          "output_type": "stream",
          "name": "stdout",
          "text": [
            "Drive already mounted at /content/drive; to attempt to forcibly remount, call drive.mount(\"/content/drive\", force_remount=True).\n"
          ]
        }
      ]
    },
    {
      "cell_type": "code",
      "source": [
        "os.chdir('drive/My Drive/datascience_nlp')"
      ],
      "metadata": {
        "id": "sFDSppSb0PjG"
      },
      "execution_count": 3,
      "outputs": []
    },
    {
      "cell_type": "code",
      "source": [
        "ls"
      ],
      "metadata": {
        "colab": {
          "base_uri": "https://localhost:8080/"
        },
        "id": "F44tyk6O0aAH",
        "outputId": "931a313f-eaf8-4206-8e00-dcfb55286513"
      },
      "execution_count": 4,
      "outputs": [
        {
          "output_type": "stream",
          "name": "stdout",
          "text": [
            " allocine_squidgame.csv   house.csv                  tweets_visualisation.html\n",
            " comments_1.csv           KNN.xlsx                   winequality-white.csv\n",
            "'data_corona (1).csv'    'KNN.xlsx - Feuil1.csv'\n",
            " data_corona.csv          tweets_politics_2022.csv\n"
          ]
        }
      ]
    },
    {
      "cell_type": "code",
      "source": [
        "import numpy as np\n",
        "import pandas as pd\n",
        "import matplotlib.pyplot as plt\n",
        "import seaborn as sns\n",
        "import datetime\n",
        "import re\n",
        "import nltk\n",
        "from nltk.corpus import stopwords\n",
        "nltk.download('stopwords')\n",
        "import matplotlib.pyplot as plt\n",
        "from sklearn.metrics import confusion_matrix\n",
        "from sklearn.metrics import ConfusionMatrixDisplay"
      ],
      "metadata": {
        "colab": {
          "base_uri": "https://localhost:8080/"
        },
        "id": "4aQtQ2I41ESO",
        "outputId": "652d4a54-caba-4516-d72f-c7b12df9af2e"
      },
      "execution_count": 89,
      "outputs": [
        {
          "output_type": "stream",
          "name": "stdout",
          "text": [
            "[nltk_data] Downloading package stopwords to /root/nltk_data...\n",
            "[nltk_data]   Package stopwords is already up-to-date!\n"
          ]
        }
      ]
    },
    {
      "cell_type": "code",
      "source": [
        "data=pd.read_csv('allocine_squidgame.csv')"
      ],
      "metadata": {
        "id": "2Vg2_J7n0e5T"
      },
      "execution_count": 6,
      "outputs": []
    },
    {
      "cell_type": "code",
      "source": [
        "data"
      ],
      "metadata": {
        "colab": {
          "base_uri": "https://localhost:8080/",
          "height": 423
        },
        "id": "HPo9t0xl4Iuf",
        "outputId": "1ec4edb4-381b-4e97-ab49-e12f8e4698e8"
      },
      "execution_count": 7,
      "outputs": [
        {
          "output_type": "execute_result",
          "data": {
            "text/plain": [
              "    Note                                        Description  \\\n",
              "0    3,0  On s'attendait à une fin plus élaborée, claire...   \n",
              "1    2,5  Encore une série très sur-côtée ! Tout est pré...   \n",
              "2    4,5  Pas fan des séries coréennes en général. Je do...   \n",
              "3    4,5  Disons le tout de suite, je suis fan depuis 30...   \n",
              "4    4,0  Visuellement recherché, très ludique, rythmé e...   \n",
              "..   ...                                                ...   \n",
              "336  5,0  Vraiment une des meilleures séries que j'ai vu...   \n",
              "337  4,5  Une série qui fait réfléchir.La série met en s...   \n",
              "338  4,0  très bonne série nous tiens en haleine du débu...   \n",
              "339  3,5  Bonne série,je trouve que c'est une version so...   \n",
              "340  4,5  Squid Game, encore une série Coréenne exceptio...   \n",
              "\n",
              "                             Date nombre_good        nombre_follow  key  \n",
              "0       Publiée le 2 octobre 2021  22\\n\\n\\n10  Suivre son activité    0  \n",
              "1       Publiée le 1 octobre 2021  24\\n\\n\\n12  Suivre son activité    1  \n",
              "2    Publiée le 22 septembre 2021  20\\n\\n\\n21  Suivre son activité    2  \n",
              "3       Publiée le 5 octobre 2021   9\\n\\n\\n10  Suivre son activité    3  \n",
              "4    Publiée le 25 septembre 2021  7\\n\\n\\n\\n9  Suivre son activité    4  \n",
              "..                            ...         ...                  ...  ...  \n",
              "336    Publiée le 24 octobre 2021    0\\n\\n\\n1  Suivre son activité   10  \n",
              "337    Publiée le 26 octobre 2021    0\\n\\n\\n0  Suivre son activité   11  \n",
              "338    Publiée le 26 octobre 2021    0\\n\\n\\n0  Suivre son activité   12  \n",
              "339    Publiée le 21 octobre 2021    0\\n\\n\\n0  Suivre son activité   13  \n",
              "340    Publiée le 26 octobre 2021    0\\n\\n\\n0  Suivre son activité   14  \n",
              "\n",
              "[341 rows x 6 columns]"
            ],
            "text/html": [
              "\n",
              "  <div id=\"df-ea08bec7-120a-4fac-a697-fd2eed1bac87\">\n",
              "    <div class=\"colab-df-container\">\n",
              "      <div>\n",
              "<style scoped>\n",
              "    .dataframe tbody tr th:only-of-type {\n",
              "        vertical-align: middle;\n",
              "    }\n",
              "\n",
              "    .dataframe tbody tr th {\n",
              "        vertical-align: top;\n",
              "    }\n",
              "\n",
              "    .dataframe thead th {\n",
              "        text-align: right;\n",
              "    }\n",
              "</style>\n",
              "<table border=\"1\" class=\"dataframe\">\n",
              "  <thead>\n",
              "    <tr style=\"text-align: right;\">\n",
              "      <th></th>\n",
              "      <th>Note</th>\n",
              "      <th>Description</th>\n",
              "      <th>Date</th>\n",
              "      <th>nombre_good</th>\n",
              "      <th>nombre_follow</th>\n",
              "      <th>key</th>\n",
              "    </tr>\n",
              "  </thead>\n",
              "  <tbody>\n",
              "    <tr>\n",
              "      <th>0</th>\n",
              "      <td>3,0</td>\n",
              "      <td>On s'attendait à une fin plus élaborée, claire...</td>\n",
              "      <td>Publiée le 2 octobre 2021</td>\n",
              "      <td>22\\n\\n\\n10</td>\n",
              "      <td>Suivre son activité</td>\n",
              "      <td>0</td>\n",
              "    </tr>\n",
              "    <tr>\n",
              "      <th>1</th>\n",
              "      <td>2,5</td>\n",
              "      <td>Encore une série très sur-côtée ! Tout est pré...</td>\n",
              "      <td>Publiée le 1 octobre 2021</td>\n",
              "      <td>24\\n\\n\\n12</td>\n",
              "      <td>Suivre son activité</td>\n",
              "      <td>1</td>\n",
              "    </tr>\n",
              "    <tr>\n",
              "      <th>2</th>\n",
              "      <td>4,5</td>\n",
              "      <td>Pas fan des séries coréennes en général. Je do...</td>\n",
              "      <td>Publiée le 22 septembre 2021</td>\n",
              "      <td>20\\n\\n\\n21</td>\n",
              "      <td>Suivre son activité</td>\n",
              "      <td>2</td>\n",
              "    </tr>\n",
              "    <tr>\n",
              "      <th>3</th>\n",
              "      <td>4,5</td>\n",
              "      <td>Disons le tout de suite, je suis fan depuis 30...</td>\n",
              "      <td>Publiée le 5 octobre 2021</td>\n",
              "      <td>9\\n\\n\\n10</td>\n",
              "      <td>Suivre son activité</td>\n",
              "      <td>3</td>\n",
              "    </tr>\n",
              "    <tr>\n",
              "      <th>4</th>\n",
              "      <td>4,0</td>\n",
              "      <td>Visuellement recherché, très ludique, rythmé e...</td>\n",
              "      <td>Publiée le 25 septembre 2021</td>\n",
              "      <td>7\\n\\n\\n\\n9</td>\n",
              "      <td>Suivre son activité</td>\n",
              "      <td>4</td>\n",
              "    </tr>\n",
              "    <tr>\n",
              "      <th>...</th>\n",
              "      <td>...</td>\n",
              "      <td>...</td>\n",
              "      <td>...</td>\n",
              "      <td>...</td>\n",
              "      <td>...</td>\n",
              "      <td>...</td>\n",
              "    </tr>\n",
              "    <tr>\n",
              "      <th>336</th>\n",
              "      <td>5,0</td>\n",
              "      <td>Vraiment une des meilleures séries que j'ai vu...</td>\n",
              "      <td>Publiée le 24 octobre 2021</td>\n",
              "      <td>0\\n\\n\\n1</td>\n",
              "      <td>Suivre son activité</td>\n",
              "      <td>10</td>\n",
              "    </tr>\n",
              "    <tr>\n",
              "      <th>337</th>\n",
              "      <td>4,5</td>\n",
              "      <td>Une série qui fait réfléchir.La série met en s...</td>\n",
              "      <td>Publiée le 26 octobre 2021</td>\n",
              "      <td>0\\n\\n\\n0</td>\n",
              "      <td>Suivre son activité</td>\n",
              "      <td>11</td>\n",
              "    </tr>\n",
              "    <tr>\n",
              "      <th>338</th>\n",
              "      <td>4,0</td>\n",
              "      <td>très bonne série nous tiens en haleine du débu...</td>\n",
              "      <td>Publiée le 26 octobre 2021</td>\n",
              "      <td>0\\n\\n\\n0</td>\n",
              "      <td>Suivre son activité</td>\n",
              "      <td>12</td>\n",
              "    </tr>\n",
              "    <tr>\n",
              "      <th>339</th>\n",
              "      <td>3,5</td>\n",
              "      <td>Bonne série,je trouve que c'est une version so...</td>\n",
              "      <td>Publiée le 21 octobre 2021</td>\n",
              "      <td>0\\n\\n\\n0</td>\n",
              "      <td>Suivre son activité</td>\n",
              "      <td>13</td>\n",
              "    </tr>\n",
              "    <tr>\n",
              "      <th>340</th>\n",
              "      <td>4,5</td>\n",
              "      <td>Squid Game, encore une série Coréenne exceptio...</td>\n",
              "      <td>Publiée le 26 octobre 2021</td>\n",
              "      <td>0\\n\\n\\n0</td>\n",
              "      <td>Suivre son activité</td>\n",
              "      <td>14</td>\n",
              "    </tr>\n",
              "  </tbody>\n",
              "</table>\n",
              "<p>341 rows × 6 columns</p>\n",
              "</div>\n",
              "      <button class=\"colab-df-convert\" onclick=\"convertToInteractive('df-ea08bec7-120a-4fac-a697-fd2eed1bac87')\"\n",
              "              title=\"Convert this dataframe to an interactive table.\"\n",
              "              style=\"display:none;\">\n",
              "        \n",
              "  <svg xmlns=\"http://www.w3.org/2000/svg\" height=\"24px\"viewBox=\"0 0 24 24\"\n",
              "       width=\"24px\">\n",
              "    <path d=\"M0 0h24v24H0V0z\" fill=\"none\"/>\n",
              "    <path d=\"M18.56 5.44l.94 2.06.94-2.06 2.06-.94-2.06-.94-.94-2.06-.94 2.06-2.06.94zm-11 1L8.5 8.5l.94-2.06 2.06-.94-2.06-.94L8.5 2.5l-.94 2.06-2.06.94zm10 10l.94 2.06.94-2.06 2.06-.94-2.06-.94-.94-2.06-.94 2.06-2.06.94z\"/><path d=\"M17.41 7.96l-1.37-1.37c-.4-.4-.92-.59-1.43-.59-.52 0-1.04.2-1.43.59L10.3 9.45l-7.72 7.72c-.78.78-.78 2.05 0 2.83L4 21.41c.39.39.9.59 1.41.59.51 0 1.02-.2 1.41-.59l7.78-7.78 2.81-2.81c.8-.78.8-2.07 0-2.86zM5.41 20L4 18.59l7.72-7.72 1.47 1.35L5.41 20z\"/>\n",
              "  </svg>\n",
              "      </button>\n",
              "      \n",
              "  <style>\n",
              "    .colab-df-container {\n",
              "      display:flex;\n",
              "      flex-wrap:wrap;\n",
              "      gap: 12px;\n",
              "    }\n",
              "\n",
              "    .colab-df-convert {\n",
              "      background-color: #E8F0FE;\n",
              "      border: none;\n",
              "      border-radius: 50%;\n",
              "      cursor: pointer;\n",
              "      display: none;\n",
              "      fill: #1967D2;\n",
              "      height: 32px;\n",
              "      padding: 0 0 0 0;\n",
              "      width: 32px;\n",
              "    }\n",
              "\n",
              "    .colab-df-convert:hover {\n",
              "      background-color: #E2EBFA;\n",
              "      box-shadow: 0px 1px 2px rgba(60, 64, 67, 0.3), 0px 1px 3px 1px rgba(60, 64, 67, 0.15);\n",
              "      fill: #174EA6;\n",
              "    }\n",
              "\n",
              "    [theme=dark] .colab-df-convert {\n",
              "      background-color: #3B4455;\n",
              "      fill: #D2E3FC;\n",
              "    }\n",
              "\n",
              "    [theme=dark] .colab-df-convert:hover {\n",
              "      background-color: #434B5C;\n",
              "      box-shadow: 0px 1px 3px 1px rgba(0, 0, 0, 0.15);\n",
              "      filter: drop-shadow(0px 1px 2px rgba(0, 0, 0, 0.3));\n",
              "      fill: #FFFFFF;\n",
              "    }\n",
              "  </style>\n",
              "\n",
              "      <script>\n",
              "        const buttonEl =\n",
              "          document.querySelector('#df-ea08bec7-120a-4fac-a697-fd2eed1bac87 button.colab-df-convert');\n",
              "        buttonEl.style.display =\n",
              "          google.colab.kernel.accessAllowed ? 'block' : 'none';\n",
              "\n",
              "        async function convertToInteractive(key) {\n",
              "          const element = document.querySelector('#df-ea08bec7-120a-4fac-a697-fd2eed1bac87');\n",
              "          const dataTable =\n",
              "            await google.colab.kernel.invokeFunction('convertToInteractive',\n",
              "                                                     [key], {});\n",
              "          if (!dataTable) return;\n",
              "\n",
              "          const docLinkHtml = 'Like what you see? Visit the ' +\n",
              "            '<a target=\"_blank\" href=https://colab.research.google.com/notebooks/data_table.ipynb>data table notebook</a>'\n",
              "            + ' to learn more about interactive tables.';\n",
              "          element.innerHTML = '';\n",
              "          dataTable['output_type'] = 'display_data';\n",
              "          await google.colab.output.renderOutput(dataTable, element);\n",
              "          const docLink = document.createElement('div');\n",
              "          docLink.innerHTML = docLinkHtml;\n",
              "          element.appendChild(docLink);\n",
              "        }\n",
              "      </script>\n",
              "    </div>\n",
              "  </div>\n",
              "  "
            ]
          },
          "metadata": {},
          "execution_count": 7
        }
      ]
    },
    {
      "cell_type": "code",
      "source": [
        "data.isna().sum()"
      ],
      "metadata": {
        "colab": {
          "base_uri": "https://localhost:8080/"
        },
        "id": "TPPbxDU0LWAH",
        "outputId": "1783a3a5-2006-4445-940f-2b5db30ca755"
      },
      "execution_count": 8,
      "outputs": [
        {
          "output_type": "execute_result",
          "data": {
            "text/plain": [
              "Note             0\n",
              "Description      0\n",
              "Date             0\n",
              "nombre_good      0\n",
              "nombre_follow    0\n",
              "key              0\n",
              "dtype: int64"
            ]
          },
          "metadata": {},
          "execution_count": 8
        }
      ]
    },
    {
      "cell_type": "code",
      "source": [
        "data.dtypes.value_counts()"
      ],
      "metadata": {
        "colab": {
          "base_uri": "https://localhost:8080/"
        },
        "id": "WW757A8mLa9j",
        "outputId": "50fe6ac0-e376-4319-88cf-eab9c0f21dbf"
      },
      "execution_count": 9,
      "outputs": [
        {
          "output_type": "execute_result",
          "data": {
            "text/plain": [
              "object    5\n",
              "int64     1\n",
              "dtype: int64"
            ]
          },
          "metadata": {},
          "execution_count": 9
        }
      ]
    },
    {
      "cell_type": "code",
      "source": [
        "data.shape"
      ],
      "metadata": {
        "colab": {
          "base_uri": "https://localhost:8080/"
        },
        "id": "OwOfsTv2Lc5u",
        "outputId": "91cb65c9-92c8-4f3e-965f-e55a7c1cff97"
      },
      "execution_count": 10,
      "outputs": [
        {
          "output_type": "execute_result",
          "data": {
            "text/plain": [
              "(341, 6)"
            ]
          },
          "metadata": {},
          "execution_count": 10
        }
      ]
    },
    {
      "cell_type": "code",
      "source": [
        "data.head(10)"
      ],
      "metadata": {
        "colab": {
          "base_uri": "https://localhost:8080/",
          "height": 363
        },
        "id": "o6VpxkSgLed0",
        "outputId": "ed4052d3-4be7-4564-d0a2-30ee5c32703d"
      },
      "execution_count": 11,
      "outputs": [
        {
          "output_type": "execute_result",
          "data": {
            "text/plain": [
              "  Note                                        Description  \\\n",
              "0  3,0  On s'attendait à une fin plus élaborée, claire...   \n",
              "1  2,5  Encore une série très sur-côtée ! Tout est pré...   \n",
              "2  4,5  Pas fan des séries coréennes en général. Je do...   \n",
              "3  4,5  Disons le tout de suite, je suis fan depuis 30...   \n",
              "4  4,0  Visuellement recherché, très ludique, rythmé e...   \n",
              "5  1,0  Encore un show fast-food à consommer par les a...   \n",
              "6  5,0  Très très bonne série. Un mélange de thriller,...   \n",
              "7  0,5  Considérant le degré d'horreur de Squid Game, ...   \n",
              "8  1,5  Une série phénomène pathétique, rempli de mome...   \n",
              "9  3,5  Plutôt bien réalisé et interprété mais bénéfic...   \n",
              "\n",
              "                           Date nombre_good        nombre_follow  key  \n",
              "0     Publiée le 2 octobre 2021  22\\n\\n\\n10  Suivre son activité    0  \n",
              "1     Publiée le 1 octobre 2021  24\\n\\n\\n12  Suivre son activité    1  \n",
              "2  Publiée le 22 septembre 2021  20\\n\\n\\n21  Suivre son activité    2  \n",
              "3     Publiée le 5 octobre 2021   9\\n\\n\\n10  Suivre son activité    3  \n",
              "4  Publiée le 25 septembre 2021  7\\n\\n\\n\\n9  Suivre son activité    4  \n",
              "5  Publiée le 29 septembre 2021  34\\n\\n\\n25  Suivre son activité    5  \n",
              "6  Publiée le 18 septembre 2021  28\\n\\n\\n29  Suivre son activité    6  \n",
              "7     Publiée le 4 octobre 2021  22\\n\\n\\n25  Suivre son activité    7  \n",
              "8     Publiée le 3 octobre 2021  16\\n\\n\\n10  Suivre son activité    8  \n",
              "9     Publiée le 2 octobre 2021    4\\n\\n\\n4  Suivre son activité    9  "
            ],
            "text/html": [
              "\n",
              "  <div id=\"df-329d1d98-9d4b-4cd1-8b5d-4644ea24d1d7\">\n",
              "    <div class=\"colab-df-container\">\n",
              "      <div>\n",
              "<style scoped>\n",
              "    .dataframe tbody tr th:only-of-type {\n",
              "        vertical-align: middle;\n",
              "    }\n",
              "\n",
              "    .dataframe tbody tr th {\n",
              "        vertical-align: top;\n",
              "    }\n",
              "\n",
              "    .dataframe thead th {\n",
              "        text-align: right;\n",
              "    }\n",
              "</style>\n",
              "<table border=\"1\" class=\"dataframe\">\n",
              "  <thead>\n",
              "    <tr style=\"text-align: right;\">\n",
              "      <th></th>\n",
              "      <th>Note</th>\n",
              "      <th>Description</th>\n",
              "      <th>Date</th>\n",
              "      <th>nombre_good</th>\n",
              "      <th>nombre_follow</th>\n",
              "      <th>key</th>\n",
              "    </tr>\n",
              "  </thead>\n",
              "  <tbody>\n",
              "    <tr>\n",
              "      <th>0</th>\n",
              "      <td>3,0</td>\n",
              "      <td>On s'attendait à une fin plus élaborée, claire...</td>\n",
              "      <td>Publiée le 2 octobre 2021</td>\n",
              "      <td>22\\n\\n\\n10</td>\n",
              "      <td>Suivre son activité</td>\n",
              "      <td>0</td>\n",
              "    </tr>\n",
              "    <tr>\n",
              "      <th>1</th>\n",
              "      <td>2,5</td>\n",
              "      <td>Encore une série très sur-côtée ! Tout est pré...</td>\n",
              "      <td>Publiée le 1 octobre 2021</td>\n",
              "      <td>24\\n\\n\\n12</td>\n",
              "      <td>Suivre son activité</td>\n",
              "      <td>1</td>\n",
              "    </tr>\n",
              "    <tr>\n",
              "      <th>2</th>\n",
              "      <td>4,5</td>\n",
              "      <td>Pas fan des séries coréennes en général. Je do...</td>\n",
              "      <td>Publiée le 22 septembre 2021</td>\n",
              "      <td>20\\n\\n\\n21</td>\n",
              "      <td>Suivre son activité</td>\n",
              "      <td>2</td>\n",
              "    </tr>\n",
              "    <tr>\n",
              "      <th>3</th>\n",
              "      <td>4,5</td>\n",
              "      <td>Disons le tout de suite, je suis fan depuis 30...</td>\n",
              "      <td>Publiée le 5 octobre 2021</td>\n",
              "      <td>9\\n\\n\\n10</td>\n",
              "      <td>Suivre son activité</td>\n",
              "      <td>3</td>\n",
              "    </tr>\n",
              "    <tr>\n",
              "      <th>4</th>\n",
              "      <td>4,0</td>\n",
              "      <td>Visuellement recherché, très ludique, rythmé e...</td>\n",
              "      <td>Publiée le 25 septembre 2021</td>\n",
              "      <td>7\\n\\n\\n\\n9</td>\n",
              "      <td>Suivre son activité</td>\n",
              "      <td>4</td>\n",
              "    </tr>\n",
              "    <tr>\n",
              "      <th>5</th>\n",
              "      <td>1,0</td>\n",
              "      <td>Encore un show fast-food à consommer par les a...</td>\n",
              "      <td>Publiée le 29 septembre 2021</td>\n",
              "      <td>34\\n\\n\\n25</td>\n",
              "      <td>Suivre son activité</td>\n",
              "      <td>5</td>\n",
              "    </tr>\n",
              "    <tr>\n",
              "      <th>6</th>\n",
              "      <td>5,0</td>\n",
              "      <td>Très très bonne série. Un mélange de thriller,...</td>\n",
              "      <td>Publiée le 18 septembre 2021</td>\n",
              "      <td>28\\n\\n\\n29</td>\n",
              "      <td>Suivre son activité</td>\n",
              "      <td>6</td>\n",
              "    </tr>\n",
              "    <tr>\n",
              "      <th>7</th>\n",
              "      <td>0,5</td>\n",
              "      <td>Considérant le degré d'horreur de Squid Game, ...</td>\n",
              "      <td>Publiée le 4 octobre 2021</td>\n",
              "      <td>22\\n\\n\\n25</td>\n",
              "      <td>Suivre son activité</td>\n",
              "      <td>7</td>\n",
              "    </tr>\n",
              "    <tr>\n",
              "      <th>8</th>\n",
              "      <td>1,5</td>\n",
              "      <td>Une série phénomène pathétique, rempli de mome...</td>\n",
              "      <td>Publiée le 3 octobre 2021</td>\n",
              "      <td>16\\n\\n\\n10</td>\n",
              "      <td>Suivre son activité</td>\n",
              "      <td>8</td>\n",
              "    </tr>\n",
              "    <tr>\n",
              "      <th>9</th>\n",
              "      <td>3,5</td>\n",
              "      <td>Plutôt bien réalisé et interprété mais bénéfic...</td>\n",
              "      <td>Publiée le 2 octobre 2021</td>\n",
              "      <td>4\\n\\n\\n4</td>\n",
              "      <td>Suivre son activité</td>\n",
              "      <td>9</td>\n",
              "    </tr>\n",
              "  </tbody>\n",
              "</table>\n",
              "</div>\n",
              "      <button class=\"colab-df-convert\" onclick=\"convertToInteractive('df-329d1d98-9d4b-4cd1-8b5d-4644ea24d1d7')\"\n",
              "              title=\"Convert this dataframe to an interactive table.\"\n",
              "              style=\"display:none;\">\n",
              "        \n",
              "  <svg xmlns=\"http://www.w3.org/2000/svg\" height=\"24px\"viewBox=\"0 0 24 24\"\n",
              "       width=\"24px\">\n",
              "    <path d=\"M0 0h24v24H0V0z\" fill=\"none\"/>\n",
              "    <path d=\"M18.56 5.44l.94 2.06.94-2.06 2.06-.94-2.06-.94-.94-2.06-.94 2.06-2.06.94zm-11 1L8.5 8.5l.94-2.06 2.06-.94-2.06-.94L8.5 2.5l-.94 2.06-2.06.94zm10 10l.94 2.06.94-2.06 2.06-.94-2.06-.94-.94-2.06-.94 2.06-2.06.94z\"/><path d=\"M17.41 7.96l-1.37-1.37c-.4-.4-.92-.59-1.43-.59-.52 0-1.04.2-1.43.59L10.3 9.45l-7.72 7.72c-.78.78-.78 2.05 0 2.83L4 21.41c.39.39.9.59 1.41.59.51 0 1.02-.2 1.41-.59l7.78-7.78 2.81-2.81c.8-.78.8-2.07 0-2.86zM5.41 20L4 18.59l7.72-7.72 1.47 1.35L5.41 20z\"/>\n",
              "  </svg>\n",
              "      </button>\n",
              "      \n",
              "  <style>\n",
              "    .colab-df-container {\n",
              "      display:flex;\n",
              "      flex-wrap:wrap;\n",
              "      gap: 12px;\n",
              "    }\n",
              "\n",
              "    .colab-df-convert {\n",
              "      background-color: #E8F0FE;\n",
              "      border: none;\n",
              "      border-radius: 50%;\n",
              "      cursor: pointer;\n",
              "      display: none;\n",
              "      fill: #1967D2;\n",
              "      height: 32px;\n",
              "      padding: 0 0 0 0;\n",
              "      width: 32px;\n",
              "    }\n",
              "\n",
              "    .colab-df-convert:hover {\n",
              "      background-color: #E2EBFA;\n",
              "      box-shadow: 0px 1px 2px rgba(60, 64, 67, 0.3), 0px 1px 3px 1px rgba(60, 64, 67, 0.15);\n",
              "      fill: #174EA6;\n",
              "    }\n",
              "\n",
              "    [theme=dark] .colab-df-convert {\n",
              "      background-color: #3B4455;\n",
              "      fill: #D2E3FC;\n",
              "    }\n",
              "\n",
              "    [theme=dark] .colab-df-convert:hover {\n",
              "      background-color: #434B5C;\n",
              "      box-shadow: 0px 1px 3px 1px rgba(0, 0, 0, 0.15);\n",
              "      filter: drop-shadow(0px 1px 2px rgba(0, 0, 0, 0.3));\n",
              "      fill: #FFFFFF;\n",
              "    }\n",
              "  </style>\n",
              "\n",
              "      <script>\n",
              "        const buttonEl =\n",
              "          document.querySelector('#df-329d1d98-9d4b-4cd1-8b5d-4644ea24d1d7 button.colab-df-convert');\n",
              "        buttonEl.style.display =\n",
              "          google.colab.kernel.accessAllowed ? 'block' : 'none';\n",
              "\n",
              "        async function convertToInteractive(key) {\n",
              "          const element = document.querySelector('#df-329d1d98-9d4b-4cd1-8b5d-4644ea24d1d7');\n",
              "          const dataTable =\n",
              "            await google.colab.kernel.invokeFunction('convertToInteractive',\n",
              "                                                     [key], {});\n",
              "          if (!dataTable) return;\n",
              "\n",
              "          const docLinkHtml = 'Like what you see? Visit the ' +\n",
              "            '<a target=\"_blank\" href=https://colab.research.google.com/notebooks/data_table.ipynb>data table notebook</a>'\n",
              "            + ' to learn more about interactive tables.';\n",
              "          element.innerHTML = '';\n",
              "          dataTable['output_type'] = 'display_data';\n",
              "          await google.colab.output.renderOutput(dataTable, element);\n",
              "          const docLink = document.createElement('div');\n",
              "          docLink.innerHTML = docLinkHtml;\n",
              "          element.appendChild(docLink);\n",
              "        }\n",
              "      </script>\n",
              "    </div>\n",
              "  </div>\n",
              "  "
            ]
          },
          "metadata": {},
          "execution_count": 11
        }
      ]
    },
    {
      "cell_type": "code",
      "source": [
        "data['nombre_follow'].value_counts()"
      ],
      "metadata": {
        "colab": {
          "base_uri": "https://localhost:8080/"
        },
        "id": "BIj1mxnAyJIB",
        "outputId": "7d4edf83-ebb4-4e6f-9adc-508609fd8bef"
      },
      "execution_count": 12,
      "outputs": [
        {
          "output_type": "execute_result",
          "data": {
            "text/plain": [
              "Suivre son activité    341\n",
              "Name: nombre_follow, dtype: int64"
            ]
          },
          "metadata": {},
          "execution_count": 12
        }
      ]
    },
    {
      "cell_type": "markdown",
      "source": [
        "Cleanning data\n"
      ],
      "metadata": {
        "id": "7wAQJi2fyP1F"
      }
    },
    {
      "cell_type": "code",
      "source": [
        "data.drop('nombre_follow', axis=1, inplace=True)#on Supprime la colone nombre follow\n",
        "data.drop('key', axis=1, inplace=True)# On supprime la colone key"
      ],
      "metadata": {
        "id": "m8Pgr6TbySqq"
      },
      "execution_count": 13,
      "outputs": []
    },
    {
      "cell_type": "code",
      "source": [
        "data"
      ],
      "metadata": {
        "colab": {
          "base_uri": "https://localhost:8080/",
          "height": 423
        },
        "id": "13shkuOgyoeQ",
        "outputId": "2c389571-2e43-470a-bbe4-65258dc68770"
      },
      "execution_count": 14,
      "outputs": [
        {
          "output_type": "execute_result",
          "data": {
            "text/plain": [
              "    Note                                        Description  \\\n",
              "0    3,0  On s'attendait à une fin plus élaborée, claire...   \n",
              "1    2,5  Encore une série très sur-côtée ! Tout est pré...   \n",
              "2    4,5  Pas fan des séries coréennes en général. Je do...   \n",
              "3    4,5  Disons le tout de suite, je suis fan depuis 30...   \n",
              "4    4,0  Visuellement recherché, très ludique, rythmé e...   \n",
              "..   ...                                                ...   \n",
              "336  5,0  Vraiment une des meilleures séries que j'ai vu...   \n",
              "337  4,5  Une série qui fait réfléchir.La série met en s...   \n",
              "338  4,0  très bonne série nous tiens en haleine du débu...   \n",
              "339  3,5  Bonne série,je trouve que c'est une version so...   \n",
              "340  4,5  Squid Game, encore une série Coréenne exceptio...   \n",
              "\n",
              "                             Date nombre_good  \n",
              "0       Publiée le 2 octobre 2021  22\\n\\n\\n10  \n",
              "1       Publiée le 1 octobre 2021  24\\n\\n\\n12  \n",
              "2    Publiée le 22 septembre 2021  20\\n\\n\\n21  \n",
              "3       Publiée le 5 octobre 2021   9\\n\\n\\n10  \n",
              "4    Publiée le 25 septembre 2021  7\\n\\n\\n\\n9  \n",
              "..                            ...         ...  \n",
              "336    Publiée le 24 octobre 2021    0\\n\\n\\n1  \n",
              "337    Publiée le 26 octobre 2021    0\\n\\n\\n0  \n",
              "338    Publiée le 26 octobre 2021    0\\n\\n\\n0  \n",
              "339    Publiée le 21 octobre 2021    0\\n\\n\\n0  \n",
              "340    Publiée le 26 octobre 2021    0\\n\\n\\n0  \n",
              "\n",
              "[341 rows x 4 columns]"
            ],
            "text/html": [
              "\n",
              "  <div id=\"df-54716ccb-39c1-4b2e-af18-c6bb22a4fad3\">\n",
              "    <div class=\"colab-df-container\">\n",
              "      <div>\n",
              "<style scoped>\n",
              "    .dataframe tbody tr th:only-of-type {\n",
              "        vertical-align: middle;\n",
              "    }\n",
              "\n",
              "    .dataframe tbody tr th {\n",
              "        vertical-align: top;\n",
              "    }\n",
              "\n",
              "    .dataframe thead th {\n",
              "        text-align: right;\n",
              "    }\n",
              "</style>\n",
              "<table border=\"1\" class=\"dataframe\">\n",
              "  <thead>\n",
              "    <tr style=\"text-align: right;\">\n",
              "      <th></th>\n",
              "      <th>Note</th>\n",
              "      <th>Description</th>\n",
              "      <th>Date</th>\n",
              "      <th>nombre_good</th>\n",
              "    </tr>\n",
              "  </thead>\n",
              "  <tbody>\n",
              "    <tr>\n",
              "      <th>0</th>\n",
              "      <td>3,0</td>\n",
              "      <td>On s'attendait à une fin plus élaborée, claire...</td>\n",
              "      <td>Publiée le 2 octobre 2021</td>\n",
              "      <td>22\\n\\n\\n10</td>\n",
              "    </tr>\n",
              "    <tr>\n",
              "      <th>1</th>\n",
              "      <td>2,5</td>\n",
              "      <td>Encore une série très sur-côtée ! Tout est pré...</td>\n",
              "      <td>Publiée le 1 octobre 2021</td>\n",
              "      <td>24\\n\\n\\n12</td>\n",
              "    </tr>\n",
              "    <tr>\n",
              "      <th>2</th>\n",
              "      <td>4,5</td>\n",
              "      <td>Pas fan des séries coréennes en général. Je do...</td>\n",
              "      <td>Publiée le 22 septembre 2021</td>\n",
              "      <td>20\\n\\n\\n21</td>\n",
              "    </tr>\n",
              "    <tr>\n",
              "      <th>3</th>\n",
              "      <td>4,5</td>\n",
              "      <td>Disons le tout de suite, je suis fan depuis 30...</td>\n",
              "      <td>Publiée le 5 octobre 2021</td>\n",
              "      <td>9\\n\\n\\n10</td>\n",
              "    </tr>\n",
              "    <tr>\n",
              "      <th>4</th>\n",
              "      <td>4,0</td>\n",
              "      <td>Visuellement recherché, très ludique, rythmé e...</td>\n",
              "      <td>Publiée le 25 septembre 2021</td>\n",
              "      <td>7\\n\\n\\n\\n9</td>\n",
              "    </tr>\n",
              "    <tr>\n",
              "      <th>...</th>\n",
              "      <td>...</td>\n",
              "      <td>...</td>\n",
              "      <td>...</td>\n",
              "      <td>...</td>\n",
              "    </tr>\n",
              "    <tr>\n",
              "      <th>336</th>\n",
              "      <td>5,0</td>\n",
              "      <td>Vraiment une des meilleures séries que j'ai vu...</td>\n",
              "      <td>Publiée le 24 octobre 2021</td>\n",
              "      <td>0\\n\\n\\n1</td>\n",
              "    </tr>\n",
              "    <tr>\n",
              "      <th>337</th>\n",
              "      <td>4,5</td>\n",
              "      <td>Une série qui fait réfléchir.La série met en s...</td>\n",
              "      <td>Publiée le 26 octobre 2021</td>\n",
              "      <td>0\\n\\n\\n0</td>\n",
              "    </tr>\n",
              "    <tr>\n",
              "      <th>338</th>\n",
              "      <td>4,0</td>\n",
              "      <td>très bonne série nous tiens en haleine du débu...</td>\n",
              "      <td>Publiée le 26 octobre 2021</td>\n",
              "      <td>0\\n\\n\\n0</td>\n",
              "    </tr>\n",
              "    <tr>\n",
              "      <th>339</th>\n",
              "      <td>3,5</td>\n",
              "      <td>Bonne série,je trouve que c'est une version so...</td>\n",
              "      <td>Publiée le 21 octobre 2021</td>\n",
              "      <td>0\\n\\n\\n0</td>\n",
              "    </tr>\n",
              "    <tr>\n",
              "      <th>340</th>\n",
              "      <td>4,5</td>\n",
              "      <td>Squid Game, encore une série Coréenne exceptio...</td>\n",
              "      <td>Publiée le 26 octobre 2021</td>\n",
              "      <td>0\\n\\n\\n0</td>\n",
              "    </tr>\n",
              "  </tbody>\n",
              "</table>\n",
              "<p>341 rows × 4 columns</p>\n",
              "</div>\n",
              "      <button class=\"colab-df-convert\" onclick=\"convertToInteractive('df-54716ccb-39c1-4b2e-af18-c6bb22a4fad3')\"\n",
              "              title=\"Convert this dataframe to an interactive table.\"\n",
              "              style=\"display:none;\">\n",
              "        \n",
              "  <svg xmlns=\"http://www.w3.org/2000/svg\" height=\"24px\"viewBox=\"0 0 24 24\"\n",
              "       width=\"24px\">\n",
              "    <path d=\"M0 0h24v24H0V0z\" fill=\"none\"/>\n",
              "    <path d=\"M18.56 5.44l.94 2.06.94-2.06 2.06-.94-2.06-.94-.94-2.06-.94 2.06-2.06.94zm-11 1L8.5 8.5l.94-2.06 2.06-.94-2.06-.94L8.5 2.5l-.94 2.06-2.06.94zm10 10l.94 2.06.94-2.06 2.06-.94-2.06-.94-.94-2.06-.94 2.06-2.06.94z\"/><path d=\"M17.41 7.96l-1.37-1.37c-.4-.4-.92-.59-1.43-.59-.52 0-1.04.2-1.43.59L10.3 9.45l-7.72 7.72c-.78.78-.78 2.05 0 2.83L4 21.41c.39.39.9.59 1.41.59.51 0 1.02-.2 1.41-.59l7.78-7.78 2.81-2.81c.8-.78.8-2.07 0-2.86zM5.41 20L4 18.59l7.72-7.72 1.47 1.35L5.41 20z\"/>\n",
              "  </svg>\n",
              "      </button>\n",
              "      \n",
              "  <style>\n",
              "    .colab-df-container {\n",
              "      display:flex;\n",
              "      flex-wrap:wrap;\n",
              "      gap: 12px;\n",
              "    }\n",
              "\n",
              "    .colab-df-convert {\n",
              "      background-color: #E8F0FE;\n",
              "      border: none;\n",
              "      border-radius: 50%;\n",
              "      cursor: pointer;\n",
              "      display: none;\n",
              "      fill: #1967D2;\n",
              "      height: 32px;\n",
              "      padding: 0 0 0 0;\n",
              "      width: 32px;\n",
              "    }\n",
              "\n",
              "    .colab-df-convert:hover {\n",
              "      background-color: #E2EBFA;\n",
              "      box-shadow: 0px 1px 2px rgba(60, 64, 67, 0.3), 0px 1px 3px 1px rgba(60, 64, 67, 0.15);\n",
              "      fill: #174EA6;\n",
              "    }\n",
              "\n",
              "    [theme=dark] .colab-df-convert {\n",
              "      background-color: #3B4455;\n",
              "      fill: #D2E3FC;\n",
              "    }\n",
              "\n",
              "    [theme=dark] .colab-df-convert:hover {\n",
              "      background-color: #434B5C;\n",
              "      box-shadow: 0px 1px 3px 1px rgba(0, 0, 0, 0.15);\n",
              "      filter: drop-shadow(0px 1px 2px rgba(0, 0, 0, 0.3));\n",
              "      fill: #FFFFFF;\n",
              "    }\n",
              "  </style>\n",
              "\n",
              "      <script>\n",
              "        const buttonEl =\n",
              "          document.querySelector('#df-54716ccb-39c1-4b2e-af18-c6bb22a4fad3 button.colab-df-convert');\n",
              "        buttonEl.style.display =\n",
              "          google.colab.kernel.accessAllowed ? 'block' : 'none';\n",
              "\n",
              "        async function convertToInteractive(key) {\n",
              "          const element = document.querySelector('#df-54716ccb-39c1-4b2e-af18-c6bb22a4fad3');\n",
              "          const dataTable =\n",
              "            await google.colab.kernel.invokeFunction('convertToInteractive',\n",
              "                                                     [key], {});\n",
              "          if (!dataTable) return;\n",
              "\n",
              "          const docLinkHtml = 'Like what you see? Visit the ' +\n",
              "            '<a target=\"_blank\" href=https://colab.research.google.com/notebooks/data_table.ipynb>data table notebook</a>'\n",
              "            + ' to learn more about interactive tables.';\n",
              "          element.innerHTML = '';\n",
              "          dataTable['output_type'] = 'display_data';\n",
              "          await google.colab.output.renderOutput(dataTable, element);\n",
              "          const docLink = document.createElement('div');\n",
              "          docLink.innerHTML = docLinkHtml;\n",
              "          element.appendChild(docLink);\n",
              "        }\n",
              "      </script>\n",
              "    </div>\n",
              "  </div>\n",
              "  "
            ]
          },
          "metadata": {},
          "execution_count": 14
        }
      ]
    },
    {
      "cell_type": "code",
      "source": [
        "data['good'] = data.nombre_good.apply(lambda x: re.split(\"\\s+\", x)[0])# On rajoute la collonne good cette méthode régex nous permet de matcher tous sauf les espaces \n",
        "data['bad'] = data.nombre_good.apply(lambda x: re.split(\"\\s+\", x)[1])\n",
        "\n",
        "data.drop('nombre_good', axis=1, inplace=True)# on supprime la colone nombre_good"
      ],
      "metadata": {
        "id": "N9FH49pFytI7"
      },
      "execution_count": 16,
      "outputs": []
    },
    {
      "cell_type": "code",
      "source": [
        "data"
      ],
      "metadata": {
        "colab": {
          "base_uri": "https://localhost:8080/",
          "height": 423
        },
        "id": "Ss4ltw1QzJ1U",
        "outputId": "ce28a487-c199-4442-ff1c-7414dbe2ee0d"
      },
      "execution_count": 17,
      "outputs": [
        {
          "output_type": "execute_result",
          "data": {
            "text/plain": [
              "    Note                                        Description  \\\n",
              "0    3,0  On s'attendait à une fin plus élaborée, claire...   \n",
              "1    2,5  Encore une série très sur-côtée ! Tout est pré...   \n",
              "2    4,5  Pas fan des séries coréennes en général. Je do...   \n",
              "3    4,5  Disons le tout de suite, je suis fan depuis 30...   \n",
              "4    4,0  Visuellement recherché, très ludique, rythmé e...   \n",
              "..   ...                                                ...   \n",
              "336  5,0  Vraiment une des meilleures séries que j'ai vu...   \n",
              "337  4,5  Une série qui fait réfléchir.La série met en s...   \n",
              "338  4,0  très bonne série nous tiens en haleine du débu...   \n",
              "339  3,5  Bonne série,je trouve que c'est une version so...   \n",
              "340  4,5  Squid Game, encore une série Coréenne exceptio...   \n",
              "\n",
              "                             Date good bad  \n",
              "0       Publiée le 2 octobre 2021   22  10  \n",
              "1       Publiée le 1 octobre 2021   24  12  \n",
              "2    Publiée le 22 septembre 2021   20  21  \n",
              "3       Publiée le 5 octobre 2021    9  10  \n",
              "4    Publiée le 25 septembre 2021    7   9  \n",
              "..                            ...  ...  ..  \n",
              "336    Publiée le 24 octobre 2021    0   1  \n",
              "337    Publiée le 26 octobre 2021    0   0  \n",
              "338    Publiée le 26 octobre 2021    0   0  \n",
              "339    Publiée le 21 octobre 2021    0   0  \n",
              "340    Publiée le 26 octobre 2021    0   0  \n",
              "\n",
              "[341 rows x 5 columns]"
            ],
            "text/html": [
              "\n",
              "  <div id=\"df-b642756b-1be7-4000-9937-e3981a27e4fa\">\n",
              "    <div class=\"colab-df-container\">\n",
              "      <div>\n",
              "<style scoped>\n",
              "    .dataframe tbody tr th:only-of-type {\n",
              "        vertical-align: middle;\n",
              "    }\n",
              "\n",
              "    .dataframe tbody tr th {\n",
              "        vertical-align: top;\n",
              "    }\n",
              "\n",
              "    .dataframe thead th {\n",
              "        text-align: right;\n",
              "    }\n",
              "</style>\n",
              "<table border=\"1\" class=\"dataframe\">\n",
              "  <thead>\n",
              "    <tr style=\"text-align: right;\">\n",
              "      <th></th>\n",
              "      <th>Note</th>\n",
              "      <th>Description</th>\n",
              "      <th>Date</th>\n",
              "      <th>good</th>\n",
              "      <th>bad</th>\n",
              "    </tr>\n",
              "  </thead>\n",
              "  <tbody>\n",
              "    <tr>\n",
              "      <th>0</th>\n",
              "      <td>3,0</td>\n",
              "      <td>On s'attendait à une fin plus élaborée, claire...</td>\n",
              "      <td>Publiée le 2 octobre 2021</td>\n",
              "      <td>22</td>\n",
              "      <td>10</td>\n",
              "    </tr>\n",
              "    <tr>\n",
              "      <th>1</th>\n",
              "      <td>2,5</td>\n",
              "      <td>Encore une série très sur-côtée ! Tout est pré...</td>\n",
              "      <td>Publiée le 1 octobre 2021</td>\n",
              "      <td>24</td>\n",
              "      <td>12</td>\n",
              "    </tr>\n",
              "    <tr>\n",
              "      <th>2</th>\n",
              "      <td>4,5</td>\n",
              "      <td>Pas fan des séries coréennes en général. Je do...</td>\n",
              "      <td>Publiée le 22 septembre 2021</td>\n",
              "      <td>20</td>\n",
              "      <td>21</td>\n",
              "    </tr>\n",
              "    <tr>\n",
              "      <th>3</th>\n",
              "      <td>4,5</td>\n",
              "      <td>Disons le tout de suite, je suis fan depuis 30...</td>\n",
              "      <td>Publiée le 5 octobre 2021</td>\n",
              "      <td>9</td>\n",
              "      <td>10</td>\n",
              "    </tr>\n",
              "    <tr>\n",
              "      <th>4</th>\n",
              "      <td>4,0</td>\n",
              "      <td>Visuellement recherché, très ludique, rythmé e...</td>\n",
              "      <td>Publiée le 25 septembre 2021</td>\n",
              "      <td>7</td>\n",
              "      <td>9</td>\n",
              "    </tr>\n",
              "    <tr>\n",
              "      <th>...</th>\n",
              "      <td>...</td>\n",
              "      <td>...</td>\n",
              "      <td>...</td>\n",
              "      <td>...</td>\n",
              "      <td>...</td>\n",
              "    </tr>\n",
              "    <tr>\n",
              "      <th>336</th>\n",
              "      <td>5,0</td>\n",
              "      <td>Vraiment une des meilleures séries que j'ai vu...</td>\n",
              "      <td>Publiée le 24 octobre 2021</td>\n",
              "      <td>0</td>\n",
              "      <td>1</td>\n",
              "    </tr>\n",
              "    <tr>\n",
              "      <th>337</th>\n",
              "      <td>4,5</td>\n",
              "      <td>Une série qui fait réfléchir.La série met en s...</td>\n",
              "      <td>Publiée le 26 octobre 2021</td>\n",
              "      <td>0</td>\n",
              "      <td>0</td>\n",
              "    </tr>\n",
              "    <tr>\n",
              "      <th>338</th>\n",
              "      <td>4,0</td>\n",
              "      <td>très bonne série nous tiens en haleine du débu...</td>\n",
              "      <td>Publiée le 26 octobre 2021</td>\n",
              "      <td>0</td>\n",
              "      <td>0</td>\n",
              "    </tr>\n",
              "    <tr>\n",
              "      <th>339</th>\n",
              "      <td>3,5</td>\n",
              "      <td>Bonne série,je trouve que c'est une version so...</td>\n",
              "      <td>Publiée le 21 octobre 2021</td>\n",
              "      <td>0</td>\n",
              "      <td>0</td>\n",
              "    </tr>\n",
              "    <tr>\n",
              "      <th>340</th>\n",
              "      <td>4,5</td>\n",
              "      <td>Squid Game, encore une série Coréenne exceptio...</td>\n",
              "      <td>Publiée le 26 octobre 2021</td>\n",
              "      <td>0</td>\n",
              "      <td>0</td>\n",
              "    </tr>\n",
              "  </tbody>\n",
              "</table>\n",
              "<p>341 rows × 5 columns</p>\n",
              "</div>\n",
              "      <button class=\"colab-df-convert\" onclick=\"convertToInteractive('df-b642756b-1be7-4000-9937-e3981a27e4fa')\"\n",
              "              title=\"Convert this dataframe to an interactive table.\"\n",
              "              style=\"display:none;\">\n",
              "        \n",
              "  <svg xmlns=\"http://www.w3.org/2000/svg\" height=\"24px\"viewBox=\"0 0 24 24\"\n",
              "       width=\"24px\">\n",
              "    <path d=\"M0 0h24v24H0V0z\" fill=\"none\"/>\n",
              "    <path d=\"M18.56 5.44l.94 2.06.94-2.06 2.06-.94-2.06-.94-.94-2.06-.94 2.06-2.06.94zm-11 1L8.5 8.5l.94-2.06 2.06-.94-2.06-.94L8.5 2.5l-.94 2.06-2.06.94zm10 10l.94 2.06.94-2.06 2.06-.94-2.06-.94-.94-2.06-.94 2.06-2.06.94z\"/><path d=\"M17.41 7.96l-1.37-1.37c-.4-.4-.92-.59-1.43-.59-.52 0-1.04.2-1.43.59L10.3 9.45l-7.72 7.72c-.78.78-.78 2.05 0 2.83L4 21.41c.39.39.9.59 1.41.59.51 0 1.02-.2 1.41-.59l7.78-7.78 2.81-2.81c.8-.78.8-2.07 0-2.86zM5.41 20L4 18.59l7.72-7.72 1.47 1.35L5.41 20z\"/>\n",
              "  </svg>\n",
              "      </button>\n",
              "      \n",
              "  <style>\n",
              "    .colab-df-container {\n",
              "      display:flex;\n",
              "      flex-wrap:wrap;\n",
              "      gap: 12px;\n",
              "    }\n",
              "\n",
              "    .colab-df-convert {\n",
              "      background-color: #E8F0FE;\n",
              "      border: none;\n",
              "      border-radius: 50%;\n",
              "      cursor: pointer;\n",
              "      display: none;\n",
              "      fill: #1967D2;\n",
              "      height: 32px;\n",
              "      padding: 0 0 0 0;\n",
              "      width: 32px;\n",
              "    }\n",
              "\n",
              "    .colab-df-convert:hover {\n",
              "      background-color: #E2EBFA;\n",
              "      box-shadow: 0px 1px 2px rgba(60, 64, 67, 0.3), 0px 1px 3px 1px rgba(60, 64, 67, 0.15);\n",
              "      fill: #174EA6;\n",
              "    }\n",
              "\n",
              "    [theme=dark] .colab-df-convert {\n",
              "      background-color: #3B4455;\n",
              "      fill: #D2E3FC;\n",
              "    }\n",
              "\n",
              "    [theme=dark] .colab-df-convert:hover {\n",
              "      background-color: #434B5C;\n",
              "      box-shadow: 0px 1px 3px 1px rgba(0, 0, 0, 0.15);\n",
              "      filter: drop-shadow(0px 1px 2px rgba(0, 0, 0, 0.3));\n",
              "      fill: #FFFFFF;\n",
              "    }\n",
              "  </style>\n",
              "\n",
              "      <script>\n",
              "        const buttonEl =\n",
              "          document.querySelector('#df-b642756b-1be7-4000-9937-e3981a27e4fa button.colab-df-convert');\n",
              "        buttonEl.style.display =\n",
              "          google.colab.kernel.accessAllowed ? 'block' : 'none';\n",
              "\n",
              "        async function convertToInteractive(key) {\n",
              "          const element = document.querySelector('#df-b642756b-1be7-4000-9937-e3981a27e4fa');\n",
              "          const dataTable =\n",
              "            await google.colab.kernel.invokeFunction('convertToInteractive',\n",
              "                                                     [key], {});\n",
              "          if (!dataTable) return;\n",
              "\n",
              "          const docLinkHtml = 'Like what you see? Visit the ' +\n",
              "            '<a target=\"_blank\" href=https://colab.research.google.com/notebooks/data_table.ipynb>data table notebook</a>'\n",
              "            + ' to learn more about interactive tables.';\n",
              "          element.innerHTML = '';\n",
              "          dataTable['output_type'] = 'display_data';\n",
              "          await google.colab.output.renderOutput(dataTable, element);\n",
              "          const docLink = document.createElement('div');\n",
              "          docLink.innerHTML = docLinkHtml;\n",
              "          element.appendChild(docLink);\n",
              "        }\n",
              "      </script>\n",
              "    </div>\n",
              "  </div>\n",
              "  "
            ]
          },
          "metadata": {},
          "execution_count": 17
        }
      ]
    },
    {
      "cell_type": "code",
      "source": [
        "data['Note'] = data['Note'].apply(lambda x: x.replace(',', '.'))\n",
        "data['Note'] = data['Note'].astype(float)"
      ],
      "metadata": {
        "id": "Xpl0pYgFzdT-"
      },
      "execution_count": 18,
      "outputs": []
    },
    {
      "cell_type": "code",
      "source": [
        "!pip install dateparser"
      ],
      "metadata": {
        "colab": {
          "base_uri": "https://localhost:8080/"
        },
        "id": "KXaSXaZVzlwv",
        "outputId": "43df5471-8b11-4ff8-e85b-d2682ceb6934"
      },
      "execution_count": 19,
      "outputs": [
        {
          "output_type": "stream",
          "name": "stdout",
          "text": [
            "Collecting dateparser\n",
            "  Downloading dateparser-1.1.0-py2.py3-none-any.whl (288 kB)\n",
            "\u001b[?25l\r\u001b[K     |█▏                              | 10 kB 16.3 MB/s eta 0:00:01\r\u001b[K     |██▎                             | 20 kB 10.6 MB/s eta 0:00:01\r\u001b[K     |███▍                            | 30 kB 6.4 MB/s eta 0:00:01\r\u001b[K     |████▌                           | 40 kB 2.7 MB/s eta 0:00:01\r\u001b[K     |█████▊                          | 51 kB 2.7 MB/s eta 0:00:01\r\u001b[K     |██████▉                         | 61 kB 3.2 MB/s eta 0:00:01\r\u001b[K     |████████                        | 71 kB 3.4 MB/s eta 0:00:01\r\u001b[K     |█████████                       | 81 kB 3.6 MB/s eta 0:00:01\r\u001b[K     |██████████▏                     | 92 kB 4.0 MB/s eta 0:00:01\r\u001b[K     |███████████▍                    | 102 kB 3.2 MB/s eta 0:00:01\r\u001b[K     |████████████▌                   | 112 kB 3.2 MB/s eta 0:00:01\r\u001b[K     |█████████████▋                  | 122 kB 3.2 MB/s eta 0:00:01\r\u001b[K     |██████████████▊                 | 133 kB 3.2 MB/s eta 0:00:01\r\u001b[K     |████████████████                | 143 kB 3.2 MB/s eta 0:00:01\r\u001b[K     |█████████████████               | 153 kB 3.2 MB/s eta 0:00:01\r\u001b[K     |██████████████████▏             | 163 kB 3.2 MB/s eta 0:00:01\r\u001b[K     |███████████████████▎            | 174 kB 3.2 MB/s eta 0:00:01\r\u001b[K     |████████████████████▍           | 184 kB 3.2 MB/s eta 0:00:01\r\u001b[K     |█████████████████████▋          | 194 kB 3.2 MB/s eta 0:00:01\r\u001b[K     |██████████████████████▊         | 204 kB 3.2 MB/s eta 0:00:01\r\u001b[K     |███████████████████████▉        | 215 kB 3.2 MB/s eta 0:00:01\r\u001b[K     |█████████████████████████       | 225 kB 3.2 MB/s eta 0:00:01\r\u001b[K     |██████████████████████████      | 235 kB 3.2 MB/s eta 0:00:01\r\u001b[K     |███████████████████████████▎    | 245 kB 3.2 MB/s eta 0:00:01\r\u001b[K     |████████████████████████████▍   | 256 kB 3.2 MB/s eta 0:00:01\r\u001b[K     |█████████████████████████████▌  | 266 kB 3.2 MB/s eta 0:00:01\r\u001b[K     |██████████████████████████████▋ | 276 kB 3.2 MB/s eta 0:00:01\r\u001b[K     |███████████████████████████████▉| 286 kB 3.2 MB/s eta 0:00:01\r\u001b[K     |████████████████████████████████| 288 kB 3.2 MB/s \n",
            "\u001b[?25hRequirement already satisfied: python-dateutil in /usr/local/lib/python3.7/dist-packages (from dateparser) (2.8.2)\n",
            "Requirement already satisfied: regex!=2019.02.19,!=2021.8.27 in /usr/local/lib/python3.7/dist-packages (from dateparser) (2019.12.20)\n",
            "Requirement already satisfied: pytz in /usr/local/lib/python3.7/dist-packages (from dateparser) (2018.9)\n",
            "Requirement already satisfied: tzlocal in /usr/local/lib/python3.7/dist-packages (from dateparser) (1.5.1)\n",
            "Requirement already satisfied: six>=1.5 in /usr/local/lib/python3.7/dist-packages (from python-dateutil->dateparser) (1.15.0)\n",
            "Installing collected packages: dateparser\n",
            "Successfully installed dateparser-1.1.0\n"
          ]
        }
      ]
    },
    {
      "cell_type": "code",
      "source": [
        "import dateparser"
      ],
      "metadata": {
        "id": "_I861SUBzooF"
      },
      "execution_count": 20,
      "outputs": []
    },
    {
      "cell_type": "code",
      "source": [
        "data['Date'] = data['Date'].apply(lambda x: re.sub('Publiée le ', '', x))\n"
      ],
      "metadata": {
        "id": "HqECKXYkzqiS"
      },
      "execution_count": 21,
      "outputs": []
    },
    {
      "cell_type": "code",
      "source": [
        "data"
      ],
      "metadata": {
        "colab": {
          "base_uri": "https://localhost:8080/",
          "height": 423
        },
        "id": "0hzaphNjzthg",
        "outputId": "47a5d55e-eaf3-47cf-ddf4-daf14f766623"
      },
      "execution_count": 22,
      "outputs": [
        {
          "output_type": "execute_result",
          "data": {
            "text/plain": [
              "     Note                                        Description  \\\n",
              "0     3.0  On s'attendait à une fin plus élaborée, claire...   \n",
              "1     2.5  Encore une série très sur-côtée ! Tout est pré...   \n",
              "2     4.5  Pas fan des séries coréennes en général. Je do...   \n",
              "3     4.5  Disons le tout de suite, je suis fan depuis 30...   \n",
              "4     4.0  Visuellement recherché, très ludique, rythmé e...   \n",
              "..    ...                                                ...   \n",
              "336   5.0  Vraiment une des meilleures séries que j'ai vu...   \n",
              "337   4.5  Une série qui fait réfléchir.La série met en s...   \n",
              "338   4.0  très bonne série nous tiens en haleine du débu...   \n",
              "339   3.5  Bonne série,je trouve que c'est une version so...   \n",
              "340   4.5  Squid Game, encore une série Coréenne exceptio...   \n",
              "\n",
              "                  Date good bad  \n",
              "0       2 octobre 2021   22  10  \n",
              "1       1 octobre 2021   24  12  \n",
              "2    22 septembre 2021   20  21  \n",
              "3       5 octobre 2021    9  10  \n",
              "4    25 septembre 2021    7   9  \n",
              "..                 ...  ...  ..  \n",
              "336    24 octobre 2021    0   1  \n",
              "337    26 octobre 2021    0   0  \n",
              "338    26 octobre 2021    0   0  \n",
              "339    21 octobre 2021    0   0  \n",
              "340    26 octobre 2021    0   0  \n",
              "\n",
              "[341 rows x 5 columns]"
            ],
            "text/html": [
              "\n",
              "  <div id=\"df-b5f49ebd-4da5-4101-a321-57b2be4f29fb\">\n",
              "    <div class=\"colab-df-container\">\n",
              "      <div>\n",
              "<style scoped>\n",
              "    .dataframe tbody tr th:only-of-type {\n",
              "        vertical-align: middle;\n",
              "    }\n",
              "\n",
              "    .dataframe tbody tr th {\n",
              "        vertical-align: top;\n",
              "    }\n",
              "\n",
              "    .dataframe thead th {\n",
              "        text-align: right;\n",
              "    }\n",
              "</style>\n",
              "<table border=\"1\" class=\"dataframe\">\n",
              "  <thead>\n",
              "    <tr style=\"text-align: right;\">\n",
              "      <th></th>\n",
              "      <th>Note</th>\n",
              "      <th>Description</th>\n",
              "      <th>Date</th>\n",
              "      <th>good</th>\n",
              "      <th>bad</th>\n",
              "    </tr>\n",
              "  </thead>\n",
              "  <tbody>\n",
              "    <tr>\n",
              "      <th>0</th>\n",
              "      <td>3.0</td>\n",
              "      <td>On s'attendait à une fin plus élaborée, claire...</td>\n",
              "      <td>2 octobre 2021</td>\n",
              "      <td>22</td>\n",
              "      <td>10</td>\n",
              "    </tr>\n",
              "    <tr>\n",
              "      <th>1</th>\n",
              "      <td>2.5</td>\n",
              "      <td>Encore une série très sur-côtée ! Tout est pré...</td>\n",
              "      <td>1 octobre 2021</td>\n",
              "      <td>24</td>\n",
              "      <td>12</td>\n",
              "    </tr>\n",
              "    <tr>\n",
              "      <th>2</th>\n",
              "      <td>4.5</td>\n",
              "      <td>Pas fan des séries coréennes en général. Je do...</td>\n",
              "      <td>22 septembre 2021</td>\n",
              "      <td>20</td>\n",
              "      <td>21</td>\n",
              "    </tr>\n",
              "    <tr>\n",
              "      <th>3</th>\n",
              "      <td>4.5</td>\n",
              "      <td>Disons le tout de suite, je suis fan depuis 30...</td>\n",
              "      <td>5 octobre 2021</td>\n",
              "      <td>9</td>\n",
              "      <td>10</td>\n",
              "    </tr>\n",
              "    <tr>\n",
              "      <th>4</th>\n",
              "      <td>4.0</td>\n",
              "      <td>Visuellement recherché, très ludique, rythmé e...</td>\n",
              "      <td>25 septembre 2021</td>\n",
              "      <td>7</td>\n",
              "      <td>9</td>\n",
              "    </tr>\n",
              "    <tr>\n",
              "      <th>...</th>\n",
              "      <td>...</td>\n",
              "      <td>...</td>\n",
              "      <td>...</td>\n",
              "      <td>...</td>\n",
              "      <td>...</td>\n",
              "    </tr>\n",
              "    <tr>\n",
              "      <th>336</th>\n",
              "      <td>5.0</td>\n",
              "      <td>Vraiment une des meilleures séries que j'ai vu...</td>\n",
              "      <td>24 octobre 2021</td>\n",
              "      <td>0</td>\n",
              "      <td>1</td>\n",
              "    </tr>\n",
              "    <tr>\n",
              "      <th>337</th>\n",
              "      <td>4.5</td>\n",
              "      <td>Une série qui fait réfléchir.La série met en s...</td>\n",
              "      <td>26 octobre 2021</td>\n",
              "      <td>0</td>\n",
              "      <td>0</td>\n",
              "    </tr>\n",
              "    <tr>\n",
              "      <th>338</th>\n",
              "      <td>4.0</td>\n",
              "      <td>très bonne série nous tiens en haleine du débu...</td>\n",
              "      <td>26 octobre 2021</td>\n",
              "      <td>0</td>\n",
              "      <td>0</td>\n",
              "    </tr>\n",
              "    <tr>\n",
              "      <th>339</th>\n",
              "      <td>3.5</td>\n",
              "      <td>Bonne série,je trouve que c'est une version so...</td>\n",
              "      <td>21 octobre 2021</td>\n",
              "      <td>0</td>\n",
              "      <td>0</td>\n",
              "    </tr>\n",
              "    <tr>\n",
              "      <th>340</th>\n",
              "      <td>4.5</td>\n",
              "      <td>Squid Game, encore une série Coréenne exceptio...</td>\n",
              "      <td>26 octobre 2021</td>\n",
              "      <td>0</td>\n",
              "      <td>0</td>\n",
              "    </tr>\n",
              "  </tbody>\n",
              "</table>\n",
              "<p>341 rows × 5 columns</p>\n",
              "</div>\n",
              "      <button class=\"colab-df-convert\" onclick=\"convertToInteractive('df-b5f49ebd-4da5-4101-a321-57b2be4f29fb')\"\n",
              "              title=\"Convert this dataframe to an interactive table.\"\n",
              "              style=\"display:none;\">\n",
              "        \n",
              "  <svg xmlns=\"http://www.w3.org/2000/svg\" height=\"24px\"viewBox=\"0 0 24 24\"\n",
              "       width=\"24px\">\n",
              "    <path d=\"M0 0h24v24H0V0z\" fill=\"none\"/>\n",
              "    <path d=\"M18.56 5.44l.94 2.06.94-2.06 2.06-.94-2.06-.94-.94-2.06-.94 2.06-2.06.94zm-11 1L8.5 8.5l.94-2.06 2.06-.94-2.06-.94L8.5 2.5l-.94 2.06-2.06.94zm10 10l.94 2.06.94-2.06 2.06-.94-2.06-.94-.94-2.06-.94 2.06-2.06.94z\"/><path d=\"M17.41 7.96l-1.37-1.37c-.4-.4-.92-.59-1.43-.59-.52 0-1.04.2-1.43.59L10.3 9.45l-7.72 7.72c-.78.78-.78 2.05 0 2.83L4 21.41c.39.39.9.59 1.41.59.51 0 1.02-.2 1.41-.59l7.78-7.78 2.81-2.81c.8-.78.8-2.07 0-2.86zM5.41 20L4 18.59l7.72-7.72 1.47 1.35L5.41 20z\"/>\n",
              "  </svg>\n",
              "      </button>\n",
              "      \n",
              "  <style>\n",
              "    .colab-df-container {\n",
              "      display:flex;\n",
              "      flex-wrap:wrap;\n",
              "      gap: 12px;\n",
              "    }\n",
              "\n",
              "    .colab-df-convert {\n",
              "      background-color: #E8F0FE;\n",
              "      border: none;\n",
              "      border-radius: 50%;\n",
              "      cursor: pointer;\n",
              "      display: none;\n",
              "      fill: #1967D2;\n",
              "      height: 32px;\n",
              "      padding: 0 0 0 0;\n",
              "      width: 32px;\n",
              "    }\n",
              "\n",
              "    .colab-df-convert:hover {\n",
              "      background-color: #E2EBFA;\n",
              "      box-shadow: 0px 1px 2px rgba(60, 64, 67, 0.3), 0px 1px 3px 1px rgba(60, 64, 67, 0.15);\n",
              "      fill: #174EA6;\n",
              "    }\n",
              "\n",
              "    [theme=dark] .colab-df-convert {\n",
              "      background-color: #3B4455;\n",
              "      fill: #D2E3FC;\n",
              "    }\n",
              "\n",
              "    [theme=dark] .colab-df-convert:hover {\n",
              "      background-color: #434B5C;\n",
              "      box-shadow: 0px 1px 3px 1px rgba(0, 0, 0, 0.15);\n",
              "      filter: drop-shadow(0px 1px 2px rgba(0, 0, 0, 0.3));\n",
              "      fill: #FFFFFF;\n",
              "    }\n",
              "  </style>\n",
              "\n",
              "      <script>\n",
              "        const buttonEl =\n",
              "          document.querySelector('#df-b5f49ebd-4da5-4101-a321-57b2be4f29fb button.colab-df-convert');\n",
              "        buttonEl.style.display =\n",
              "          google.colab.kernel.accessAllowed ? 'block' : 'none';\n",
              "\n",
              "        async function convertToInteractive(key) {\n",
              "          const element = document.querySelector('#df-b5f49ebd-4da5-4101-a321-57b2be4f29fb');\n",
              "          const dataTable =\n",
              "            await google.colab.kernel.invokeFunction('convertToInteractive',\n",
              "                                                     [key], {});\n",
              "          if (!dataTable) return;\n",
              "\n",
              "          const docLinkHtml = 'Like what you see? Visit the ' +\n",
              "            '<a target=\"_blank\" href=https://colab.research.google.com/notebooks/data_table.ipynb>data table notebook</a>'\n",
              "            + ' to learn more about interactive tables.';\n",
              "          element.innerHTML = '';\n",
              "          dataTable['output_type'] = 'display_data';\n",
              "          await google.colab.output.renderOutput(dataTable, element);\n",
              "          const docLink = document.createElement('div');\n",
              "          docLink.innerHTML = docLinkHtml;\n",
              "          element.appendChild(docLink);\n",
              "        }\n",
              "      </script>\n",
              "    </div>\n",
              "  </div>\n",
              "  "
            ]
          },
          "metadata": {},
          "execution_count": 22
        }
      ]
    },
    {
      "cell_type": "code",
      "source": [
        "data['Date'] = data.apply(lambda row: dateparser.parse(row['Date']), axis = 1)"
      ],
      "metadata": {
        "id": "tShn5OQvz6qk"
      },
      "execution_count": 23,
      "outputs": []
    },
    {
      "cell_type": "code",
      "source": [
        "data.head()"
      ],
      "metadata": {
        "colab": {
          "base_uri": "https://localhost:8080/",
          "height": 206
        },
        "id": "BfPll7Euz_G9",
        "outputId": "4b288525-dd0a-4c71-bafe-8b5e2895eca4"
      },
      "execution_count": 24,
      "outputs": [
        {
          "output_type": "execute_result",
          "data": {
            "text/plain": [
              "   Note                                        Description       Date good bad\n",
              "0   3.0  On s'attendait à une fin plus élaborée, claire... 2021-10-02   22  10\n",
              "1   2.5  Encore une série très sur-côtée ! Tout est pré... 2021-10-01   24  12\n",
              "2   4.5  Pas fan des séries coréennes en général. Je do... 2021-09-22   20  21\n",
              "3   4.5  Disons le tout de suite, je suis fan depuis 30... 2021-10-05    9  10\n",
              "4   4.0  Visuellement recherché, très ludique, rythmé e... 2021-09-25    7   9"
            ],
            "text/html": [
              "\n",
              "  <div id=\"df-20f66729-c7de-4856-a739-1807aad20752\">\n",
              "    <div class=\"colab-df-container\">\n",
              "      <div>\n",
              "<style scoped>\n",
              "    .dataframe tbody tr th:only-of-type {\n",
              "        vertical-align: middle;\n",
              "    }\n",
              "\n",
              "    .dataframe tbody tr th {\n",
              "        vertical-align: top;\n",
              "    }\n",
              "\n",
              "    .dataframe thead th {\n",
              "        text-align: right;\n",
              "    }\n",
              "</style>\n",
              "<table border=\"1\" class=\"dataframe\">\n",
              "  <thead>\n",
              "    <tr style=\"text-align: right;\">\n",
              "      <th></th>\n",
              "      <th>Note</th>\n",
              "      <th>Description</th>\n",
              "      <th>Date</th>\n",
              "      <th>good</th>\n",
              "      <th>bad</th>\n",
              "    </tr>\n",
              "  </thead>\n",
              "  <tbody>\n",
              "    <tr>\n",
              "      <th>0</th>\n",
              "      <td>3.0</td>\n",
              "      <td>On s'attendait à une fin plus élaborée, claire...</td>\n",
              "      <td>2021-10-02</td>\n",
              "      <td>22</td>\n",
              "      <td>10</td>\n",
              "    </tr>\n",
              "    <tr>\n",
              "      <th>1</th>\n",
              "      <td>2.5</td>\n",
              "      <td>Encore une série très sur-côtée ! Tout est pré...</td>\n",
              "      <td>2021-10-01</td>\n",
              "      <td>24</td>\n",
              "      <td>12</td>\n",
              "    </tr>\n",
              "    <tr>\n",
              "      <th>2</th>\n",
              "      <td>4.5</td>\n",
              "      <td>Pas fan des séries coréennes en général. Je do...</td>\n",
              "      <td>2021-09-22</td>\n",
              "      <td>20</td>\n",
              "      <td>21</td>\n",
              "    </tr>\n",
              "    <tr>\n",
              "      <th>3</th>\n",
              "      <td>4.5</td>\n",
              "      <td>Disons le tout de suite, je suis fan depuis 30...</td>\n",
              "      <td>2021-10-05</td>\n",
              "      <td>9</td>\n",
              "      <td>10</td>\n",
              "    </tr>\n",
              "    <tr>\n",
              "      <th>4</th>\n",
              "      <td>4.0</td>\n",
              "      <td>Visuellement recherché, très ludique, rythmé e...</td>\n",
              "      <td>2021-09-25</td>\n",
              "      <td>7</td>\n",
              "      <td>9</td>\n",
              "    </tr>\n",
              "  </tbody>\n",
              "</table>\n",
              "</div>\n",
              "      <button class=\"colab-df-convert\" onclick=\"convertToInteractive('df-20f66729-c7de-4856-a739-1807aad20752')\"\n",
              "              title=\"Convert this dataframe to an interactive table.\"\n",
              "              style=\"display:none;\">\n",
              "        \n",
              "  <svg xmlns=\"http://www.w3.org/2000/svg\" height=\"24px\"viewBox=\"0 0 24 24\"\n",
              "       width=\"24px\">\n",
              "    <path d=\"M0 0h24v24H0V0z\" fill=\"none\"/>\n",
              "    <path d=\"M18.56 5.44l.94 2.06.94-2.06 2.06-.94-2.06-.94-.94-2.06-.94 2.06-2.06.94zm-11 1L8.5 8.5l.94-2.06 2.06-.94-2.06-.94L8.5 2.5l-.94 2.06-2.06.94zm10 10l.94 2.06.94-2.06 2.06-.94-2.06-.94-.94-2.06-.94 2.06-2.06.94z\"/><path d=\"M17.41 7.96l-1.37-1.37c-.4-.4-.92-.59-1.43-.59-.52 0-1.04.2-1.43.59L10.3 9.45l-7.72 7.72c-.78.78-.78 2.05 0 2.83L4 21.41c.39.39.9.59 1.41.59.51 0 1.02-.2 1.41-.59l7.78-7.78 2.81-2.81c.8-.78.8-2.07 0-2.86zM5.41 20L4 18.59l7.72-7.72 1.47 1.35L5.41 20z\"/>\n",
              "  </svg>\n",
              "      </button>\n",
              "      \n",
              "  <style>\n",
              "    .colab-df-container {\n",
              "      display:flex;\n",
              "      flex-wrap:wrap;\n",
              "      gap: 12px;\n",
              "    }\n",
              "\n",
              "    .colab-df-convert {\n",
              "      background-color: #E8F0FE;\n",
              "      border: none;\n",
              "      border-radius: 50%;\n",
              "      cursor: pointer;\n",
              "      display: none;\n",
              "      fill: #1967D2;\n",
              "      height: 32px;\n",
              "      padding: 0 0 0 0;\n",
              "      width: 32px;\n",
              "    }\n",
              "\n",
              "    .colab-df-convert:hover {\n",
              "      background-color: #E2EBFA;\n",
              "      box-shadow: 0px 1px 2px rgba(60, 64, 67, 0.3), 0px 1px 3px 1px rgba(60, 64, 67, 0.15);\n",
              "      fill: #174EA6;\n",
              "    }\n",
              "\n",
              "    [theme=dark] .colab-df-convert {\n",
              "      background-color: #3B4455;\n",
              "      fill: #D2E3FC;\n",
              "    }\n",
              "\n",
              "    [theme=dark] .colab-df-convert:hover {\n",
              "      background-color: #434B5C;\n",
              "      box-shadow: 0px 1px 3px 1px rgba(0, 0, 0, 0.15);\n",
              "      filter: drop-shadow(0px 1px 2px rgba(0, 0, 0, 0.3));\n",
              "      fill: #FFFFFF;\n",
              "    }\n",
              "  </style>\n",
              "\n",
              "      <script>\n",
              "        const buttonEl =\n",
              "          document.querySelector('#df-20f66729-c7de-4856-a739-1807aad20752 button.colab-df-convert');\n",
              "        buttonEl.style.display =\n",
              "          google.colab.kernel.accessAllowed ? 'block' : 'none';\n",
              "\n",
              "        async function convertToInteractive(key) {\n",
              "          const element = document.querySelector('#df-20f66729-c7de-4856-a739-1807aad20752');\n",
              "          const dataTable =\n",
              "            await google.colab.kernel.invokeFunction('convertToInteractive',\n",
              "                                                     [key], {});\n",
              "          if (!dataTable) return;\n",
              "\n",
              "          const docLinkHtml = 'Like what you see? Visit the ' +\n",
              "            '<a target=\"_blank\" href=https://colab.research.google.com/notebooks/data_table.ipynb>data table notebook</a>'\n",
              "            + ' to learn more about interactive tables.';\n",
              "          element.innerHTML = '';\n",
              "          dataTable['output_type'] = 'display_data';\n",
              "          await google.colab.output.renderOutput(dataTable, element);\n",
              "          const docLink = document.createElement('div');\n",
              "          docLink.innerHTML = docLinkHtml;\n",
              "          element.appendChild(docLink);\n",
              "        }\n",
              "      </script>\n",
              "    </div>\n",
              "  </div>\n",
              "  "
            ]
          },
          "metadata": {},
          "execution_count": 24
        }
      ]
    },
    {
      "cell_type": "markdown",
      "source": [
        "TOKENISATION\n"
      ],
      "metadata": {
        "id": "s_qQSEj-0Gq5"
      }
    },
    {
      "cell_type": "code",
      "source": [
        "import nltk\n",
        "from nltk.tokenize import word_tokenize\n",
        "nltk.download('punkt')\n",
        "from nltk.corpus import stopwords\n",
        "nltk.download('stopwords')"
      ],
      "metadata": {
        "colab": {
          "base_uri": "https://localhost:8080/"
        },
        "id": "Kgb6W0y80J9l",
        "outputId": "266385a1-e28a-4706-eaa8-5299b9abe994"
      },
      "execution_count": 25,
      "outputs": [
        {
          "output_type": "stream",
          "name": "stdout",
          "text": [
            "[nltk_data] Downloading package punkt to /root/nltk_data...\n",
            "[nltk_data]   Unzipping tokenizers/punkt.zip.\n",
            "[nltk_data] Downloading package stopwords to /root/nltk_data...\n",
            "[nltk_data]   Package stopwords is already up-to-date!\n"
          ]
        },
        {
          "output_type": "execute_result",
          "data": {
            "text/plain": [
              "True"
            ]
          },
          "metadata": {},
          "execution_count": 25
        }
      ]
    },
    {
      "cell_type": "code",
      "source": [
        "data['description_clean'] = data['Description'].copy()# On Copie la colone Description\n",
        "data['description_clean'] = data['description_clean'].map(lambda x : re.sub('[,\\.!?()\"]', '', x))#Remplacer les caracteres speciale par espace avec le regex\n",
        "data['description_clean'] = data['description_clean'].map(lambda x : re.sub('\\d', '', x)) #Remplacer les nombre entre 0 et 9  par espace avec le regex"
      ],
      "metadata": {
        "id": "RfGMIrmh0Pf1"
      },
      "execution_count": 26,
      "outputs": []
    },
    {
      "cell_type": "code",
      "source": [
        "data"
      ],
      "metadata": {
        "colab": {
          "base_uri": "https://localhost:8080/",
          "height": 423
        },
        "id": "7lz_VbaQ0d6Q",
        "outputId": "f289d516-f50a-4ba8-cfef-a4e520f8b55b"
      },
      "execution_count": 27,
      "outputs": [
        {
          "output_type": "execute_result",
          "data": {
            "text/plain": [
              "     Note                                        Description       Date good  \\\n",
              "0     3.0  On s'attendait à une fin plus élaborée, claire... 2021-10-02   22   \n",
              "1     2.5  Encore une série très sur-côtée ! Tout est pré... 2021-10-01   24   \n",
              "2     4.5  Pas fan des séries coréennes en général. Je do... 2021-09-22   20   \n",
              "3     4.5  Disons le tout de suite, je suis fan depuis 30... 2021-10-05    9   \n",
              "4     4.0  Visuellement recherché, très ludique, rythmé e... 2021-09-25    7   \n",
              "..    ...                                                ...        ...  ...   \n",
              "336   5.0  Vraiment une des meilleures séries que j'ai vu... 2021-10-24    0   \n",
              "337   4.5  Une série qui fait réfléchir.La série met en s... 2021-10-26    0   \n",
              "338   4.0  très bonne série nous tiens en haleine du débu... 2021-10-26    0   \n",
              "339   3.5  Bonne série,je trouve que c'est une version so... 2021-10-21    0   \n",
              "340   4.5  Squid Game, encore une série Coréenne exceptio... 2021-10-26    0   \n",
              "\n",
              "    bad                                  description_clean  \n",
              "0    10  On s'attendait à une fin plus élaborée clairem...  \n",
              "1    12  Encore une série très sur-côtée  Tout est prév...  \n",
              "2    21  Pas fan des séries coréennes en général Je doi...  \n",
              "3    10  Disons le tout de suite je suis fan depuis  an...  \n",
              "4     9  Visuellement recherché très ludique rythmé et ...  \n",
              "..   ..                                                ...  \n",
              "336   1  Vraiment une des meilleures séries que j'ai vu...  \n",
              "337   0  Une série qui fait réfléchirLa série met en sc...  \n",
              "338   0  très bonne série nous tiens en haleine du débu...  \n",
              "339   0  Bonne sérieje trouve que c'est une version sof...  \n",
              "340   0  Squid Game encore une série Coréenne exception...  \n",
              "\n",
              "[341 rows x 6 columns]"
            ],
            "text/html": [
              "\n",
              "  <div id=\"df-ecf35013-3441-428d-89a6-aff857b6d226\">\n",
              "    <div class=\"colab-df-container\">\n",
              "      <div>\n",
              "<style scoped>\n",
              "    .dataframe tbody tr th:only-of-type {\n",
              "        vertical-align: middle;\n",
              "    }\n",
              "\n",
              "    .dataframe tbody tr th {\n",
              "        vertical-align: top;\n",
              "    }\n",
              "\n",
              "    .dataframe thead th {\n",
              "        text-align: right;\n",
              "    }\n",
              "</style>\n",
              "<table border=\"1\" class=\"dataframe\">\n",
              "  <thead>\n",
              "    <tr style=\"text-align: right;\">\n",
              "      <th></th>\n",
              "      <th>Note</th>\n",
              "      <th>Description</th>\n",
              "      <th>Date</th>\n",
              "      <th>good</th>\n",
              "      <th>bad</th>\n",
              "      <th>description_clean</th>\n",
              "    </tr>\n",
              "  </thead>\n",
              "  <tbody>\n",
              "    <tr>\n",
              "      <th>0</th>\n",
              "      <td>3.0</td>\n",
              "      <td>On s'attendait à une fin plus élaborée, claire...</td>\n",
              "      <td>2021-10-02</td>\n",
              "      <td>22</td>\n",
              "      <td>10</td>\n",
              "      <td>On s'attendait à une fin plus élaborée clairem...</td>\n",
              "    </tr>\n",
              "    <tr>\n",
              "      <th>1</th>\n",
              "      <td>2.5</td>\n",
              "      <td>Encore une série très sur-côtée ! Tout est pré...</td>\n",
              "      <td>2021-10-01</td>\n",
              "      <td>24</td>\n",
              "      <td>12</td>\n",
              "      <td>Encore une série très sur-côtée  Tout est prév...</td>\n",
              "    </tr>\n",
              "    <tr>\n",
              "      <th>2</th>\n",
              "      <td>4.5</td>\n",
              "      <td>Pas fan des séries coréennes en général. Je do...</td>\n",
              "      <td>2021-09-22</td>\n",
              "      <td>20</td>\n",
              "      <td>21</td>\n",
              "      <td>Pas fan des séries coréennes en général Je doi...</td>\n",
              "    </tr>\n",
              "    <tr>\n",
              "      <th>3</th>\n",
              "      <td>4.5</td>\n",
              "      <td>Disons le tout de suite, je suis fan depuis 30...</td>\n",
              "      <td>2021-10-05</td>\n",
              "      <td>9</td>\n",
              "      <td>10</td>\n",
              "      <td>Disons le tout de suite je suis fan depuis  an...</td>\n",
              "    </tr>\n",
              "    <tr>\n",
              "      <th>4</th>\n",
              "      <td>4.0</td>\n",
              "      <td>Visuellement recherché, très ludique, rythmé e...</td>\n",
              "      <td>2021-09-25</td>\n",
              "      <td>7</td>\n",
              "      <td>9</td>\n",
              "      <td>Visuellement recherché très ludique rythmé et ...</td>\n",
              "    </tr>\n",
              "    <tr>\n",
              "      <th>...</th>\n",
              "      <td>...</td>\n",
              "      <td>...</td>\n",
              "      <td>...</td>\n",
              "      <td>...</td>\n",
              "      <td>...</td>\n",
              "      <td>...</td>\n",
              "    </tr>\n",
              "    <tr>\n",
              "      <th>336</th>\n",
              "      <td>5.0</td>\n",
              "      <td>Vraiment une des meilleures séries que j'ai vu...</td>\n",
              "      <td>2021-10-24</td>\n",
              "      <td>0</td>\n",
              "      <td>1</td>\n",
              "      <td>Vraiment une des meilleures séries que j'ai vu...</td>\n",
              "    </tr>\n",
              "    <tr>\n",
              "      <th>337</th>\n",
              "      <td>4.5</td>\n",
              "      <td>Une série qui fait réfléchir.La série met en s...</td>\n",
              "      <td>2021-10-26</td>\n",
              "      <td>0</td>\n",
              "      <td>0</td>\n",
              "      <td>Une série qui fait réfléchirLa série met en sc...</td>\n",
              "    </tr>\n",
              "    <tr>\n",
              "      <th>338</th>\n",
              "      <td>4.0</td>\n",
              "      <td>très bonne série nous tiens en haleine du débu...</td>\n",
              "      <td>2021-10-26</td>\n",
              "      <td>0</td>\n",
              "      <td>0</td>\n",
              "      <td>très bonne série nous tiens en haleine du débu...</td>\n",
              "    </tr>\n",
              "    <tr>\n",
              "      <th>339</th>\n",
              "      <td>3.5</td>\n",
              "      <td>Bonne série,je trouve que c'est une version so...</td>\n",
              "      <td>2021-10-21</td>\n",
              "      <td>0</td>\n",
              "      <td>0</td>\n",
              "      <td>Bonne sérieje trouve que c'est une version sof...</td>\n",
              "    </tr>\n",
              "    <tr>\n",
              "      <th>340</th>\n",
              "      <td>4.5</td>\n",
              "      <td>Squid Game, encore une série Coréenne exceptio...</td>\n",
              "      <td>2021-10-26</td>\n",
              "      <td>0</td>\n",
              "      <td>0</td>\n",
              "      <td>Squid Game encore une série Coréenne exception...</td>\n",
              "    </tr>\n",
              "  </tbody>\n",
              "</table>\n",
              "<p>341 rows × 6 columns</p>\n",
              "</div>\n",
              "      <button class=\"colab-df-convert\" onclick=\"convertToInteractive('df-ecf35013-3441-428d-89a6-aff857b6d226')\"\n",
              "              title=\"Convert this dataframe to an interactive table.\"\n",
              "              style=\"display:none;\">\n",
              "        \n",
              "  <svg xmlns=\"http://www.w3.org/2000/svg\" height=\"24px\"viewBox=\"0 0 24 24\"\n",
              "       width=\"24px\">\n",
              "    <path d=\"M0 0h24v24H0V0z\" fill=\"none\"/>\n",
              "    <path d=\"M18.56 5.44l.94 2.06.94-2.06 2.06-.94-2.06-.94-.94-2.06-.94 2.06-2.06.94zm-11 1L8.5 8.5l.94-2.06 2.06-.94-2.06-.94L8.5 2.5l-.94 2.06-2.06.94zm10 10l.94 2.06.94-2.06 2.06-.94-2.06-.94-.94-2.06-.94 2.06-2.06.94z\"/><path d=\"M17.41 7.96l-1.37-1.37c-.4-.4-.92-.59-1.43-.59-.52 0-1.04.2-1.43.59L10.3 9.45l-7.72 7.72c-.78.78-.78 2.05 0 2.83L4 21.41c.39.39.9.59 1.41.59.51 0 1.02-.2 1.41-.59l7.78-7.78 2.81-2.81c.8-.78.8-2.07 0-2.86zM5.41 20L4 18.59l7.72-7.72 1.47 1.35L5.41 20z\"/>\n",
              "  </svg>\n",
              "      </button>\n",
              "      \n",
              "  <style>\n",
              "    .colab-df-container {\n",
              "      display:flex;\n",
              "      flex-wrap:wrap;\n",
              "      gap: 12px;\n",
              "    }\n",
              "\n",
              "    .colab-df-convert {\n",
              "      background-color: #E8F0FE;\n",
              "      border: none;\n",
              "      border-radius: 50%;\n",
              "      cursor: pointer;\n",
              "      display: none;\n",
              "      fill: #1967D2;\n",
              "      height: 32px;\n",
              "      padding: 0 0 0 0;\n",
              "      width: 32px;\n",
              "    }\n",
              "\n",
              "    .colab-df-convert:hover {\n",
              "      background-color: #E2EBFA;\n",
              "      box-shadow: 0px 1px 2px rgba(60, 64, 67, 0.3), 0px 1px 3px 1px rgba(60, 64, 67, 0.15);\n",
              "      fill: #174EA6;\n",
              "    }\n",
              "\n",
              "    [theme=dark] .colab-df-convert {\n",
              "      background-color: #3B4455;\n",
              "      fill: #D2E3FC;\n",
              "    }\n",
              "\n",
              "    [theme=dark] .colab-df-convert:hover {\n",
              "      background-color: #434B5C;\n",
              "      box-shadow: 0px 1px 3px 1px rgba(0, 0, 0, 0.15);\n",
              "      filter: drop-shadow(0px 1px 2px rgba(0, 0, 0, 0.3));\n",
              "      fill: #FFFFFF;\n",
              "    }\n",
              "  </style>\n",
              "\n",
              "      <script>\n",
              "        const buttonEl =\n",
              "          document.querySelector('#df-ecf35013-3441-428d-89a6-aff857b6d226 button.colab-df-convert');\n",
              "        buttonEl.style.display =\n",
              "          google.colab.kernel.accessAllowed ? 'block' : 'none';\n",
              "\n",
              "        async function convertToInteractive(key) {\n",
              "          const element = document.querySelector('#df-ecf35013-3441-428d-89a6-aff857b6d226');\n",
              "          const dataTable =\n",
              "            await google.colab.kernel.invokeFunction('convertToInteractive',\n",
              "                                                     [key], {});\n",
              "          if (!dataTable) return;\n",
              "\n",
              "          const docLinkHtml = 'Like what you see? Visit the ' +\n",
              "            '<a target=\"_blank\" href=https://colab.research.google.com/notebooks/data_table.ipynb>data table notebook</a>'\n",
              "            + ' to learn more about interactive tables.';\n",
              "          element.innerHTML = '';\n",
              "          dataTable['output_type'] = 'display_data';\n",
              "          await google.colab.output.renderOutput(dataTable, element);\n",
              "          const docLink = document.createElement('div');\n",
              "          docLink.innerHTML = docLinkHtml;\n",
              "          element.appendChild(docLink);\n",
              "        }\n",
              "      </script>\n",
              "    </div>\n",
              "  </div>\n",
              "  "
            ]
          },
          "metadata": {},
          "execution_count": 27
        }
      ]
    },
    {
      "cell_type": "code",
      "source": [
        "data['token'] = data.apply(lambda row : word_tokenize(str(row['description_clean'])), axis=1)"
      ],
      "metadata": {
        "id": "7fpP9ZE10hC2"
      },
      "execution_count": 28,
      "outputs": []
    },
    {
      "cell_type": "code",
      "source": [
        "data"
      ],
      "metadata": {
        "colab": {
          "base_uri": "https://localhost:8080/",
          "height": 423
        },
        "id": "jL2J4MRs0mb6",
        "outputId": "34c4b1f8-4d5b-4ee4-ac00-0b1e78eb0439"
      },
      "execution_count": 29,
      "outputs": [
        {
          "output_type": "execute_result",
          "data": {
            "text/plain": [
              "     Note                                        Description       Date good  \\\n",
              "0     3.0  On s'attendait à une fin plus élaborée, claire... 2021-10-02   22   \n",
              "1     2.5  Encore une série très sur-côtée ! Tout est pré... 2021-10-01   24   \n",
              "2     4.5  Pas fan des séries coréennes en général. Je do... 2021-09-22   20   \n",
              "3     4.5  Disons le tout de suite, je suis fan depuis 30... 2021-10-05    9   \n",
              "4     4.0  Visuellement recherché, très ludique, rythmé e... 2021-09-25    7   \n",
              "..    ...                                                ...        ...  ...   \n",
              "336   5.0  Vraiment une des meilleures séries que j'ai vu... 2021-10-24    0   \n",
              "337   4.5  Une série qui fait réfléchir.La série met en s... 2021-10-26    0   \n",
              "338   4.0  très bonne série nous tiens en haleine du débu... 2021-10-26    0   \n",
              "339   3.5  Bonne série,je trouve que c'est une version so... 2021-10-21    0   \n",
              "340   4.5  Squid Game, encore une série Coréenne exceptio... 2021-10-26    0   \n",
              "\n",
              "    bad                                  description_clean  \\\n",
              "0    10  On s'attendait à une fin plus élaborée clairem...   \n",
              "1    12  Encore une série très sur-côtée  Tout est prév...   \n",
              "2    21  Pas fan des séries coréennes en général Je doi...   \n",
              "3    10  Disons le tout de suite je suis fan depuis  an...   \n",
              "4     9  Visuellement recherché très ludique rythmé et ...   \n",
              "..   ..                                                ...   \n",
              "336   1  Vraiment une des meilleures séries que j'ai vu...   \n",
              "337   0  Une série qui fait réfléchirLa série met en sc...   \n",
              "338   0  très bonne série nous tiens en haleine du débu...   \n",
              "339   0  Bonne sérieje trouve que c'est une version sof...   \n",
              "340   0  Squid Game encore une série Coréenne exception...   \n",
              "\n",
              "                                                 token  \n",
              "0    [On, s'attendait, à, une, fin, plus, élaborée,...  \n",
              "1    [Encore, une, série, très, sur-côtée, Tout, es...  \n",
              "2    [Pas, fan, des, séries, coréennes, en, général...  \n",
              "3    [Disons, le, tout, de, suite, je, suis, fan, d...  \n",
              "4    [Visuellement, recherché, très, ludique, rythm...  \n",
              "..                                                 ...  \n",
              "336  [Vraiment, une, des, meilleures, séries, que, ...  \n",
              "337  [Une, série, qui, fait, réfléchirLa, série, me...  \n",
              "338  [très, bonne, série, nous, tiens, en, haleine,...  \n",
              "339  [Bonne, sérieje, trouve, que, c'est, une, vers...  \n",
              "340  [Squid, Game, encore, une, série, Coréenne, ex...  \n",
              "\n",
              "[341 rows x 7 columns]"
            ],
            "text/html": [
              "\n",
              "  <div id=\"df-145faf40-6de8-4b15-ab9b-354d7f325a34\">\n",
              "    <div class=\"colab-df-container\">\n",
              "      <div>\n",
              "<style scoped>\n",
              "    .dataframe tbody tr th:only-of-type {\n",
              "        vertical-align: middle;\n",
              "    }\n",
              "\n",
              "    .dataframe tbody tr th {\n",
              "        vertical-align: top;\n",
              "    }\n",
              "\n",
              "    .dataframe thead th {\n",
              "        text-align: right;\n",
              "    }\n",
              "</style>\n",
              "<table border=\"1\" class=\"dataframe\">\n",
              "  <thead>\n",
              "    <tr style=\"text-align: right;\">\n",
              "      <th></th>\n",
              "      <th>Note</th>\n",
              "      <th>Description</th>\n",
              "      <th>Date</th>\n",
              "      <th>good</th>\n",
              "      <th>bad</th>\n",
              "      <th>description_clean</th>\n",
              "      <th>token</th>\n",
              "    </tr>\n",
              "  </thead>\n",
              "  <tbody>\n",
              "    <tr>\n",
              "      <th>0</th>\n",
              "      <td>3.0</td>\n",
              "      <td>On s'attendait à une fin plus élaborée, claire...</td>\n",
              "      <td>2021-10-02</td>\n",
              "      <td>22</td>\n",
              "      <td>10</td>\n",
              "      <td>On s'attendait à une fin plus élaborée clairem...</td>\n",
              "      <td>[On, s'attendait, à, une, fin, plus, élaborée,...</td>\n",
              "    </tr>\n",
              "    <tr>\n",
              "      <th>1</th>\n",
              "      <td>2.5</td>\n",
              "      <td>Encore une série très sur-côtée ! Tout est pré...</td>\n",
              "      <td>2021-10-01</td>\n",
              "      <td>24</td>\n",
              "      <td>12</td>\n",
              "      <td>Encore une série très sur-côtée  Tout est prév...</td>\n",
              "      <td>[Encore, une, série, très, sur-côtée, Tout, es...</td>\n",
              "    </tr>\n",
              "    <tr>\n",
              "      <th>2</th>\n",
              "      <td>4.5</td>\n",
              "      <td>Pas fan des séries coréennes en général. Je do...</td>\n",
              "      <td>2021-09-22</td>\n",
              "      <td>20</td>\n",
              "      <td>21</td>\n",
              "      <td>Pas fan des séries coréennes en général Je doi...</td>\n",
              "      <td>[Pas, fan, des, séries, coréennes, en, général...</td>\n",
              "    </tr>\n",
              "    <tr>\n",
              "      <th>3</th>\n",
              "      <td>4.5</td>\n",
              "      <td>Disons le tout de suite, je suis fan depuis 30...</td>\n",
              "      <td>2021-10-05</td>\n",
              "      <td>9</td>\n",
              "      <td>10</td>\n",
              "      <td>Disons le tout de suite je suis fan depuis  an...</td>\n",
              "      <td>[Disons, le, tout, de, suite, je, suis, fan, d...</td>\n",
              "    </tr>\n",
              "    <tr>\n",
              "      <th>4</th>\n",
              "      <td>4.0</td>\n",
              "      <td>Visuellement recherché, très ludique, rythmé e...</td>\n",
              "      <td>2021-09-25</td>\n",
              "      <td>7</td>\n",
              "      <td>9</td>\n",
              "      <td>Visuellement recherché très ludique rythmé et ...</td>\n",
              "      <td>[Visuellement, recherché, très, ludique, rythm...</td>\n",
              "    </tr>\n",
              "    <tr>\n",
              "      <th>...</th>\n",
              "      <td>...</td>\n",
              "      <td>...</td>\n",
              "      <td>...</td>\n",
              "      <td>...</td>\n",
              "      <td>...</td>\n",
              "      <td>...</td>\n",
              "      <td>...</td>\n",
              "    </tr>\n",
              "    <tr>\n",
              "      <th>336</th>\n",
              "      <td>5.0</td>\n",
              "      <td>Vraiment une des meilleures séries que j'ai vu...</td>\n",
              "      <td>2021-10-24</td>\n",
              "      <td>0</td>\n",
              "      <td>1</td>\n",
              "      <td>Vraiment une des meilleures séries que j'ai vu...</td>\n",
              "      <td>[Vraiment, une, des, meilleures, séries, que, ...</td>\n",
              "    </tr>\n",
              "    <tr>\n",
              "      <th>337</th>\n",
              "      <td>4.5</td>\n",
              "      <td>Une série qui fait réfléchir.La série met en s...</td>\n",
              "      <td>2021-10-26</td>\n",
              "      <td>0</td>\n",
              "      <td>0</td>\n",
              "      <td>Une série qui fait réfléchirLa série met en sc...</td>\n",
              "      <td>[Une, série, qui, fait, réfléchirLa, série, me...</td>\n",
              "    </tr>\n",
              "    <tr>\n",
              "      <th>338</th>\n",
              "      <td>4.0</td>\n",
              "      <td>très bonne série nous tiens en haleine du débu...</td>\n",
              "      <td>2021-10-26</td>\n",
              "      <td>0</td>\n",
              "      <td>0</td>\n",
              "      <td>très bonne série nous tiens en haleine du débu...</td>\n",
              "      <td>[très, bonne, série, nous, tiens, en, haleine,...</td>\n",
              "    </tr>\n",
              "    <tr>\n",
              "      <th>339</th>\n",
              "      <td>3.5</td>\n",
              "      <td>Bonne série,je trouve que c'est une version so...</td>\n",
              "      <td>2021-10-21</td>\n",
              "      <td>0</td>\n",
              "      <td>0</td>\n",
              "      <td>Bonne sérieje trouve que c'est une version sof...</td>\n",
              "      <td>[Bonne, sérieje, trouve, que, c'est, une, vers...</td>\n",
              "    </tr>\n",
              "    <tr>\n",
              "      <th>340</th>\n",
              "      <td>4.5</td>\n",
              "      <td>Squid Game, encore une série Coréenne exceptio...</td>\n",
              "      <td>2021-10-26</td>\n",
              "      <td>0</td>\n",
              "      <td>0</td>\n",
              "      <td>Squid Game encore une série Coréenne exception...</td>\n",
              "      <td>[Squid, Game, encore, une, série, Coréenne, ex...</td>\n",
              "    </tr>\n",
              "  </tbody>\n",
              "</table>\n",
              "<p>341 rows × 7 columns</p>\n",
              "</div>\n",
              "      <button class=\"colab-df-convert\" onclick=\"convertToInteractive('df-145faf40-6de8-4b15-ab9b-354d7f325a34')\"\n",
              "              title=\"Convert this dataframe to an interactive table.\"\n",
              "              style=\"display:none;\">\n",
              "        \n",
              "  <svg xmlns=\"http://www.w3.org/2000/svg\" height=\"24px\"viewBox=\"0 0 24 24\"\n",
              "       width=\"24px\">\n",
              "    <path d=\"M0 0h24v24H0V0z\" fill=\"none\"/>\n",
              "    <path d=\"M18.56 5.44l.94 2.06.94-2.06 2.06-.94-2.06-.94-.94-2.06-.94 2.06-2.06.94zm-11 1L8.5 8.5l.94-2.06 2.06-.94-2.06-.94L8.5 2.5l-.94 2.06-2.06.94zm10 10l.94 2.06.94-2.06 2.06-.94-2.06-.94-.94-2.06-.94 2.06-2.06.94z\"/><path d=\"M17.41 7.96l-1.37-1.37c-.4-.4-.92-.59-1.43-.59-.52 0-1.04.2-1.43.59L10.3 9.45l-7.72 7.72c-.78.78-.78 2.05 0 2.83L4 21.41c.39.39.9.59 1.41.59.51 0 1.02-.2 1.41-.59l7.78-7.78 2.81-2.81c.8-.78.8-2.07 0-2.86zM5.41 20L4 18.59l7.72-7.72 1.47 1.35L5.41 20z\"/>\n",
              "  </svg>\n",
              "      </button>\n",
              "      \n",
              "  <style>\n",
              "    .colab-df-container {\n",
              "      display:flex;\n",
              "      flex-wrap:wrap;\n",
              "      gap: 12px;\n",
              "    }\n",
              "\n",
              "    .colab-df-convert {\n",
              "      background-color: #E8F0FE;\n",
              "      border: none;\n",
              "      border-radius: 50%;\n",
              "      cursor: pointer;\n",
              "      display: none;\n",
              "      fill: #1967D2;\n",
              "      height: 32px;\n",
              "      padding: 0 0 0 0;\n",
              "      width: 32px;\n",
              "    }\n",
              "\n",
              "    .colab-df-convert:hover {\n",
              "      background-color: #E2EBFA;\n",
              "      box-shadow: 0px 1px 2px rgba(60, 64, 67, 0.3), 0px 1px 3px 1px rgba(60, 64, 67, 0.15);\n",
              "      fill: #174EA6;\n",
              "    }\n",
              "\n",
              "    [theme=dark] .colab-df-convert {\n",
              "      background-color: #3B4455;\n",
              "      fill: #D2E3FC;\n",
              "    }\n",
              "\n",
              "    [theme=dark] .colab-df-convert:hover {\n",
              "      background-color: #434B5C;\n",
              "      box-shadow: 0px 1px 3px 1px rgba(0, 0, 0, 0.15);\n",
              "      filter: drop-shadow(0px 1px 2px rgba(0, 0, 0, 0.3));\n",
              "      fill: #FFFFFF;\n",
              "    }\n",
              "  </style>\n",
              "\n",
              "      <script>\n",
              "        const buttonEl =\n",
              "          document.querySelector('#df-145faf40-6de8-4b15-ab9b-354d7f325a34 button.colab-df-convert');\n",
              "        buttonEl.style.display =\n",
              "          google.colab.kernel.accessAllowed ? 'block' : 'none';\n",
              "\n",
              "        async function convertToInteractive(key) {\n",
              "          const element = document.querySelector('#df-145faf40-6de8-4b15-ab9b-354d7f325a34');\n",
              "          const dataTable =\n",
              "            await google.colab.kernel.invokeFunction('convertToInteractive',\n",
              "                                                     [key], {});\n",
              "          if (!dataTable) return;\n",
              "\n",
              "          const docLinkHtml = 'Like what you see? Visit the ' +\n",
              "            '<a target=\"_blank\" href=https://colab.research.google.com/notebooks/data_table.ipynb>data table notebook</a>'\n",
              "            + ' to learn more about interactive tables.';\n",
              "          element.innerHTML = '';\n",
              "          dataTable['output_type'] = 'display_data';\n",
              "          await google.colab.output.renderOutput(dataTable, element);\n",
              "          const docLink = document.createElement('div');\n",
              "          docLink.innerHTML = docLinkHtml;\n",
              "          element.appendChild(docLink);\n",
              "        }\n",
              "      </script>\n",
              "    </div>\n",
              "  </div>\n",
              "  "
            ]
          },
          "metadata": {},
          "execution_count": 29
        }
      ]
    },
    {
      "cell_type": "code",
      "source": [
        "french_stopwords = set(stopwords.words('french'))\n",
        "french_stopwords"
      ],
      "metadata": {
        "colab": {
          "base_uri": "https://localhost:8080/"
        },
        "id": "JQHbz1n-0rSy",
        "outputId": "7693e518-4daf-45d2-bbec-279cce388c32"
      },
      "execution_count": 30,
      "outputs": [
        {
          "output_type": "execute_result",
          "data": {
            "text/plain": [
              "{'ai',\n",
              " 'aie',\n",
              " 'aient',\n",
              " 'aies',\n",
              " 'ait',\n",
              " 'as',\n",
              " 'au',\n",
              " 'aura',\n",
              " 'aurai',\n",
              " 'auraient',\n",
              " 'aurais',\n",
              " 'aurait',\n",
              " 'auras',\n",
              " 'aurez',\n",
              " 'auriez',\n",
              " 'aurions',\n",
              " 'aurons',\n",
              " 'auront',\n",
              " 'aux',\n",
              " 'avaient',\n",
              " 'avais',\n",
              " 'avait',\n",
              " 'avec',\n",
              " 'avez',\n",
              " 'aviez',\n",
              " 'avions',\n",
              " 'avons',\n",
              " 'ayant',\n",
              " 'ayante',\n",
              " 'ayantes',\n",
              " 'ayants',\n",
              " 'ayez',\n",
              " 'ayons',\n",
              " 'c',\n",
              " 'ce',\n",
              " 'ces',\n",
              " 'd',\n",
              " 'dans',\n",
              " 'de',\n",
              " 'des',\n",
              " 'du',\n",
              " 'elle',\n",
              " 'en',\n",
              " 'es',\n",
              " 'est',\n",
              " 'et',\n",
              " 'eu',\n",
              " 'eue',\n",
              " 'eues',\n",
              " 'eurent',\n",
              " 'eus',\n",
              " 'eusse',\n",
              " 'eussent',\n",
              " 'eusses',\n",
              " 'eussiez',\n",
              " 'eussions',\n",
              " 'eut',\n",
              " 'eux',\n",
              " 'eûmes',\n",
              " 'eût',\n",
              " 'eûtes',\n",
              " 'furent',\n",
              " 'fus',\n",
              " 'fusse',\n",
              " 'fussent',\n",
              " 'fusses',\n",
              " 'fussiez',\n",
              " 'fussions',\n",
              " 'fut',\n",
              " 'fûmes',\n",
              " 'fût',\n",
              " 'fûtes',\n",
              " 'il',\n",
              " 'ils',\n",
              " 'j',\n",
              " 'je',\n",
              " 'l',\n",
              " 'la',\n",
              " 'le',\n",
              " 'les',\n",
              " 'leur',\n",
              " 'lui',\n",
              " 'm',\n",
              " 'ma',\n",
              " 'mais',\n",
              " 'me',\n",
              " 'mes',\n",
              " 'moi',\n",
              " 'mon',\n",
              " 'même',\n",
              " 'n',\n",
              " 'ne',\n",
              " 'nos',\n",
              " 'notre',\n",
              " 'nous',\n",
              " 'on',\n",
              " 'ont',\n",
              " 'ou',\n",
              " 'par',\n",
              " 'pas',\n",
              " 'pour',\n",
              " 'qu',\n",
              " 'que',\n",
              " 'qui',\n",
              " 's',\n",
              " 'sa',\n",
              " 'se',\n",
              " 'sera',\n",
              " 'serai',\n",
              " 'seraient',\n",
              " 'serais',\n",
              " 'serait',\n",
              " 'seras',\n",
              " 'serez',\n",
              " 'seriez',\n",
              " 'serions',\n",
              " 'serons',\n",
              " 'seront',\n",
              " 'ses',\n",
              " 'soient',\n",
              " 'sois',\n",
              " 'soit',\n",
              " 'sommes',\n",
              " 'son',\n",
              " 'sont',\n",
              " 'soyez',\n",
              " 'soyons',\n",
              " 'suis',\n",
              " 'sur',\n",
              " 't',\n",
              " 'ta',\n",
              " 'te',\n",
              " 'tes',\n",
              " 'toi',\n",
              " 'ton',\n",
              " 'tu',\n",
              " 'un',\n",
              " 'une',\n",
              " 'vos',\n",
              " 'votre',\n",
              " 'vous',\n",
              " 'y',\n",
              " 'à',\n",
              " 'étaient',\n",
              " 'étais',\n",
              " 'était',\n",
              " 'étant',\n",
              " 'étante',\n",
              " 'étantes',\n",
              " 'étants',\n",
              " 'étiez',\n",
              " 'étions',\n",
              " 'été',\n",
              " 'étée',\n",
              " 'étées',\n",
              " 'étés',\n",
              " 'êtes'}"
            ]
          },
          "metadata": {},
          "execution_count": 30
        }
      ]
    },
    {
      "cell_type": "code",
      "source": [
        "data['token'] = data['token'].apply(lambda x : [word for word in x if word not in french_stopwords])"
      ],
      "metadata": {
        "id": "qpNIrNht0uIW"
      },
      "execution_count": 31,
      "outputs": []
    },
    {
      "cell_type": "code",
      "source": [
        "data.head()"
      ],
      "metadata": {
        "colab": {
          "base_uri": "https://localhost:8080/",
          "height": 206
        },
        "id": "UQs1KXmG0yhA",
        "outputId": "76c415ad-3ab3-4375-cfee-828748ab0fb8"
      },
      "execution_count": 32,
      "outputs": [
        {
          "output_type": "execute_result",
          "data": {
            "text/plain": [
              "   Note                                        Description       Date good  \\\n",
              "0   3.0  On s'attendait à une fin plus élaborée, claire... 2021-10-02   22   \n",
              "1   2.5  Encore une série très sur-côtée ! Tout est pré... 2021-10-01   24   \n",
              "2   4.5  Pas fan des séries coréennes en général. Je do... 2021-09-22   20   \n",
              "3   4.5  Disons le tout de suite, je suis fan depuis 30... 2021-10-05    9   \n",
              "4   4.0  Visuellement recherché, très ludique, rythmé e... 2021-09-25    7   \n",
              "\n",
              "  bad                                  description_clean  \\\n",
              "0  10  On s'attendait à une fin plus élaborée clairem...   \n",
              "1  12  Encore une série très sur-côtée  Tout est prév...   \n",
              "2  21  Pas fan des séries coréennes en général Je doi...   \n",
              "3  10  Disons le tout de suite je suis fan depuis  an...   \n",
              "4   9  Visuellement recherché très ludique rythmé et ...   \n",
              "\n",
              "                                               token  \n",
              "0  [On, s'attendait, fin, plus, élaborée, clairem...  \n",
              "1  [Encore, série, très, sur-côtée, Tout, prévisi...  \n",
              "2  [Pas, fan, séries, coréennes, général, Je, doi...  \n",
              "3  [Disons, tout, suite, fan, depuis, ans, produc...  \n",
              "4  [Visuellement, recherché, très, ludique, rythm...  "
            ],
            "text/html": [
              "\n",
              "  <div id=\"df-82023032-cc79-4c16-8d5d-98aeb3e47a5d\">\n",
              "    <div class=\"colab-df-container\">\n",
              "      <div>\n",
              "<style scoped>\n",
              "    .dataframe tbody tr th:only-of-type {\n",
              "        vertical-align: middle;\n",
              "    }\n",
              "\n",
              "    .dataframe tbody tr th {\n",
              "        vertical-align: top;\n",
              "    }\n",
              "\n",
              "    .dataframe thead th {\n",
              "        text-align: right;\n",
              "    }\n",
              "</style>\n",
              "<table border=\"1\" class=\"dataframe\">\n",
              "  <thead>\n",
              "    <tr style=\"text-align: right;\">\n",
              "      <th></th>\n",
              "      <th>Note</th>\n",
              "      <th>Description</th>\n",
              "      <th>Date</th>\n",
              "      <th>good</th>\n",
              "      <th>bad</th>\n",
              "      <th>description_clean</th>\n",
              "      <th>token</th>\n",
              "    </tr>\n",
              "  </thead>\n",
              "  <tbody>\n",
              "    <tr>\n",
              "      <th>0</th>\n",
              "      <td>3.0</td>\n",
              "      <td>On s'attendait à une fin plus élaborée, claire...</td>\n",
              "      <td>2021-10-02</td>\n",
              "      <td>22</td>\n",
              "      <td>10</td>\n",
              "      <td>On s'attendait à une fin plus élaborée clairem...</td>\n",
              "      <td>[On, s'attendait, fin, plus, élaborée, clairem...</td>\n",
              "    </tr>\n",
              "    <tr>\n",
              "      <th>1</th>\n",
              "      <td>2.5</td>\n",
              "      <td>Encore une série très sur-côtée ! Tout est pré...</td>\n",
              "      <td>2021-10-01</td>\n",
              "      <td>24</td>\n",
              "      <td>12</td>\n",
              "      <td>Encore une série très sur-côtée  Tout est prév...</td>\n",
              "      <td>[Encore, série, très, sur-côtée, Tout, prévisi...</td>\n",
              "    </tr>\n",
              "    <tr>\n",
              "      <th>2</th>\n",
              "      <td>4.5</td>\n",
              "      <td>Pas fan des séries coréennes en général. Je do...</td>\n",
              "      <td>2021-09-22</td>\n",
              "      <td>20</td>\n",
              "      <td>21</td>\n",
              "      <td>Pas fan des séries coréennes en général Je doi...</td>\n",
              "      <td>[Pas, fan, séries, coréennes, général, Je, doi...</td>\n",
              "    </tr>\n",
              "    <tr>\n",
              "      <th>3</th>\n",
              "      <td>4.5</td>\n",
              "      <td>Disons le tout de suite, je suis fan depuis 30...</td>\n",
              "      <td>2021-10-05</td>\n",
              "      <td>9</td>\n",
              "      <td>10</td>\n",
              "      <td>Disons le tout de suite je suis fan depuis  an...</td>\n",
              "      <td>[Disons, tout, suite, fan, depuis, ans, produc...</td>\n",
              "    </tr>\n",
              "    <tr>\n",
              "      <th>4</th>\n",
              "      <td>4.0</td>\n",
              "      <td>Visuellement recherché, très ludique, rythmé e...</td>\n",
              "      <td>2021-09-25</td>\n",
              "      <td>7</td>\n",
              "      <td>9</td>\n",
              "      <td>Visuellement recherché très ludique rythmé et ...</td>\n",
              "      <td>[Visuellement, recherché, très, ludique, rythm...</td>\n",
              "    </tr>\n",
              "  </tbody>\n",
              "</table>\n",
              "</div>\n",
              "      <button class=\"colab-df-convert\" onclick=\"convertToInteractive('df-82023032-cc79-4c16-8d5d-98aeb3e47a5d')\"\n",
              "              title=\"Convert this dataframe to an interactive table.\"\n",
              "              style=\"display:none;\">\n",
              "        \n",
              "  <svg xmlns=\"http://www.w3.org/2000/svg\" height=\"24px\"viewBox=\"0 0 24 24\"\n",
              "       width=\"24px\">\n",
              "    <path d=\"M0 0h24v24H0V0z\" fill=\"none\"/>\n",
              "    <path d=\"M18.56 5.44l.94 2.06.94-2.06 2.06-.94-2.06-.94-.94-2.06-.94 2.06-2.06.94zm-11 1L8.5 8.5l.94-2.06 2.06-.94-2.06-.94L8.5 2.5l-.94 2.06-2.06.94zm10 10l.94 2.06.94-2.06 2.06-.94-2.06-.94-.94-2.06-.94 2.06-2.06.94z\"/><path d=\"M17.41 7.96l-1.37-1.37c-.4-.4-.92-.59-1.43-.59-.52 0-1.04.2-1.43.59L10.3 9.45l-7.72 7.72c-.78.78-.78 2.05 0 2.83L4 21.41c.39.39.9.59 1.41.59.51 0 1.02-.2 1.41-.59l7.78-7.78 2.81-2.81c.8-.78.8-2.07 0-2.86zM5.41 20L4 18.59l7.72-7.72 1.47 1.35L5.41 20z\"/>\n",
              "  </svg>\n",
              "      </button>\n",
              "      \n",
              "  <style>\n",
              "    .colab-df-container {\n",
              "      display:flex;\n",
              "      flex-wrap:wrap;\n",
              "      gap: 12px;\n",
              "    }\n",
              "\n",
              "    .colab-df-convert {\n",
              "      background-color: #E8F0FE;\n",
              "      border: none;\n",
              "      border-radius: 50%;\n",
              "      cursor: pointer;\n",
              "      display: none;\n",
              "      fill: #1967D2;\n",
              "      height: 32px;\n",
              "      padding: 0 0 0 0;\n",
              "      width: 32px;\n",
              "    }\n",
              "\n",
              "    .colab-df-convert:hover {\n",
              "      background-color: #E2EBFA;\n",
              "      box-shadow: 0px 1px 2px rgba(60, 64, 67, 0.3), 0px 1px 3px 1px rgba(60, 64, 67, 0.15);\n",
              "      fill: #174EA6;\n",
              "    }\n",
              "\n",
              "    [theme=dark] .colab-df-convert {\n",
              "      background-color: #3B4455;\n",
              "      fill: #D2E3FC;\n",
              "    }\n",
              "\n",
              "    [theme=dark] .colab-df-convert:hover {\n",
              "      background-color: #434B5C;\n",
              "      box-shadow: 0px 1px 3px 1px rgba(0, 0, 0, 0.15);\n",
              "      filter: drop-shadow(0px 1px 2px rgba(0, 0, 0, 0.3));\n",
              "      fill: #FFFFFF;\n",
              "    }\n",
              "  </style>\n",
              "\n",
              "      <script>\n",
              "        const buttonEl =\n",
              "          document.querySelector('#df-82023032-cc79-4c16-8d5d-98aeb3e47a5d button.colab-df-convert');\n",
              "        buttonEl.style.display =\n",
              "          google.colab.kernel.accessAllowed ? 'block' : 'none';\n",
              "\n",
              "        async function convertToInteractive(key) {\n",
              "          const element = document.querySelector('#df-82023032-cc79-4c16-8d5d-98aeb3e47a5d');\n",
              "          const dataTable =\n",
              "            await google.colab.kernel.invokeFunction('convertToInteractive',\n",
              "                                                     [key], {});\n",
              "          if (!dataTable) return;\n",
              "\n",
              "          const docLinkHtml = 'Like what you see? Visit the ' +\n",
              "            '<a target=\"_blank\" href=https://colab.research.google.com/notebooks/data_table.ipynb>data table notebook</a>'\n",
              "            + ' to learn more about interactive tables.';\n",
              "          element.innerHTML = '';\n",
              "          dataTable['output_type'] = 'display_data';\n",
              "          await google.colab.output.renderOutput(dataTable, element);\n",
              "          const docLink = document.createElement('div');\n",
              "          docLink.innerHTML = docLinkHtml;\n",
              "          element.appendChild(docLink);\n",
              "        }\n",
              "      </script>\n",
              "    </div>\n",
              "  </div>\n",
              "  "
            ]
          },
          "metadata": {},
          "execution_count": 32
        }
      ]
    },
    {
      "cell_type": "markdown",
      "source": [
        "CRÉATION DE LA COLLONNE SENTIMENTS"
      ],
      "metadata": {
        "id": "83CjuaCI02X_"
      }
    },
    {
      "cell_type": "code",
      "source": [
        "plt.figure(figsize=(10,5))\n",
        "data['Note'].value_counts().sort_index().plot(kind='bar', color='mediumseagreen')\n",
        "plt.xticks(rotation=0, fontsize=14)\n",
        "plt.yticks(fontsize=14)\n",
        "plt.xlabel('Sentiment', fontsize=16)\n",
        "plt.ylabel('Nombre d\\'occurrence', fontsize=16)\n",
        "plt.show()"
      ],
      "metadata": {
        "colab": {
          "base_uri": "https://localhost:8080/",
          "height": 343
        },
        "id": "ymsqdqYe019K",
        "outputId": "1d669bcf-f61f-4ff9-932b-1adb007b332c"
      },
      "execution_count": 34,
      "outputs": [
        {
          "output_type": "display_data",
          "data": {
            "text/plain": [
              "<Figure size 720x360 with 1 Axes>"
            ],
            "image/png": "[encoded data removed]"
          },
          "metadata": {
            "needs_background": "light"
          }
        }
      ]
    },
    {
      "cell_type": "code",
      "source": [
        "data[\"Sentiment\"] = data['Note'].apply(lambda x: 0 if x<4 else 1)"
      ],
      "metadata": {
        "id": "eo4GF6Uc1BY2"
      },
      "execution_count": 35,
      "outputs": []
    },
    {
      "cell_type": "markdown",
      "source": [
        "STEMMING "
      ],
      "metadata": {
        "id": "bBvwjchZ1jtC"
      }
    },
    {
      "cell_type": "code",
      "source": [
        "from nltk.stem import SnowballStemmer"
      ],
      "metadata": {
        "id": "czVLRKYz1m00"
      },
      "execution_count": 36,
      "outputs": []
    },
    {
      "cell_type": "code",
      "source": [
        "stemmer = SnowballStemmer('french')\n",
        "data['stemming'] = data.token.copy().apply(lambda x: [stemmer.stem(item) for item in x])"
      ],
      "metadata": {
        "id": "PdImPrHY1yiJ"
      },
      "execution_count": 37,
      "outputs": []
    },
    {
      "cell_type": "code",
      "source": [
        "data.head()"
      ],
      "metadata": {
        "colab": {
          "base_uri": "https://localhost:8080/",
          "height": 336
        },
        "id": "SeODgGki16II",
        "outputId": "18a14a59-ff0d-4c84-d338-f49bc475b638"
      },
      "execution_count": 38,
      "outputs": [
        {
          "output_type": "execute_result",
          "data": {
            "text/plain": [
              "   Note                                        Description       Date good  \\\n",
              "0   3.0  On s'attendait à une fin plus élaborée, claire... 2021-10-02   22   \n",
              "1   2.5  Encore une série très sur-côtée ! Tout est pré... 2021-10-01   24   \n",
              "2   4.5  Pas fan des séries coréennes en général. Je do... 2021-09-22   20   \n",
              "3   4.5  Disons le tout de suite, je suis fan depuis 30... 2021-10-05    9   \n",
              "4   4.0  Visuellement recherché, très ludique, rythmé e... 2021-09-25    7   \n",
              "\n",
              "  bad                                  description_clean  \\\n",
              "0  10  On s'attendait à une fin plus élaborée clairem...   \n",
              "1  12  Encore une série très sur-côtée  Tout est prév...   \n",
              "2  21  Pas fan des séries coréennes en général Je doi...   \n",
              "3  10  Disons le tout de suite je suis fan depuis  an...   \n",
              "4   9  Visuellement recherché très ludique rythmé et ...   \n",
              "\n",
              "                                               token  Sentiment  \\\n",
              "0  [On, s'attendait, fin, plus, élaborée, clairem...          0   \n",
              "1  [Encore, série, très, sur-côtée, Tout, prévisi...          0   \n",
              "2  [Pas, fan, séries, coréennes, général, Je, doi...          1   \n",
              "3  [Disons, tout, suite, fan, depuis, ans, produc...          1   \n",
              "4  [Visuellement, recherché, très, ludique, rythm...          1   \n",
              "\n",
              "                                            stemming  \n",
              "0  [on, s'attend, fin, plus, élabor, clair, de, d...  \n",
              "1  [encor, ser, tres, sur-côt, tout, prévisibl, p...  \n",
              "2  [pas, fan, ser, coréen, général, je, dois, avo...  \n",
              "3  [dison, tout, suit, fan, depuis, an, product, ...  \n",
              "4  [visuel, recherch, tres, ludiqu, rythm, galer,...  "
            ],
            "text/html": [
              "\n",
              "  <div id=\"df-92f9de38-0c14-4342-99cc-ec442c952b07\">\n",
              "    <div class=\"colab-df-container\">\n",
              "      <div>\n",
              "<style scoped>\n",
              "    .dataframe tbody tr th:only-of-type {\n",
              "        vertical-align: middle;\n",
              "    }\n",
              "\n",
              "    .dataframe tbody tr th {\n",
              "        vertical-align: top;\n",
              "    }\n",
              "\n",
              "    .dataframe thead th {\n",
              "        text-align: right;\n",
              "    }\n",
              "</style>\n",
              "<table border=\"1\" class=\"dataframe\">\n",
              "  <thead>\n",
              "    <tr style=\"text-align: right;\">\n",
              "      <th></th>\n",
              "      <th>Note</th>\n",
              "      <th>Description</th>\n",
              "      <th>Date</th>\n",
              "      <th>good</th>\n",
              "      <th>bad</th>\n",
              "      <th>description_clean</th>\n",
              "      <th>token</th>\n",
              "      <th>Sentiment</th>\n",
              "      <th>stemming</th>\n",
              "    </tr>\n",
              "  </thead>\n",
              "  <tbody>\n",
              "    <tr>\n",
              "      <th>0</th>\n",
              "      <td>3.0</td>\n",
              "      <td>On s'attendait à une fin plus élaborée, claire...</td>\n",
              "      <td>2021-10-02</td>\n",
              "      <td>22</td>\n",
              "      <td>10</td>\n",
              "      <td>On s'attendait à une fin plus élaborée clairem...</td>\n",
              "      <td>[On, s'attendait, fin, plus, élaborée, clairem...</td>\n",
              "      <td>0</td>\n",
              "      <td>[on, s'attend, fin, plus, élabor, clair, de, d...</td>\n",
              "    </tr>\n",
              "    <tr>\n",
              "      <th>1</th>\n",
              "      <td>2.5</td>\n",
              "      <td>Encore une série très sur-côtée ! Tout est pré...</td>\n",
              "      <td>2021-10-01</td>\n",
              "      <td>24</td>\n",
              "      <td>12</td>\n",
              "      <td>Encore une série très sur-côtée  Tout est prév...</td>\n",
              "      <td>[Encore, série, très, sur-côtée, Tout, prévisi...</td>\n",
              "      <td>0</td>\n",
              "      <td>[encor, ser, tres, sur-côt, tout, prévisibl, p...</td>\n",
              "    </tr>\n",
              "    <tr>\n",
              "      <th>2</th>\n",
              "      <td>4.5</td>\n",
              "      <td>Pas fan des séries coréennes en général. Je do...</td>\n",
              "      <td>2021-09-22</td>\n",
              "      <td>20</td>\n",
              "      <td>21</td>\n",
              "      <td>Pas fan des séries coréennes en général Je doi...</td>\n",
              "      <td>[Pas, fan, séries, coréennes, général, Je, doi...</td>\n",
              "      <td>1</td>\n",
              "      <td>[pas, fan, ser, coréen, général, je, dois, avo...</td>\n",
              "    </tr>\n",
              "    <tr>\n",
              "      <th>3</th>\n",
              "      <td>4.5</td>\n",
              "      <td>Disons le tout de suite, je suis fan depuis 30...</td>\n",
              "      <td>2021-10-05</td>\n",
              "      <td>9</td>\n",
              "      <td>10</td>\n",
              "      <td>Disons le tout de suite je suis fan depuis  an...</td>\n",
              "      <td>[Disons, tout, suite, fan, depuis, ans, produc...</td>\n",
              "      <td>1</td>\n",
              "      <td>[dison, tout, suit, fan, depuis, an, product, ...</td>\n",
              "    </tr>\n",
              "    <tr>\n",
              "      <th>4</th>\n",
              "      <td>4.0</td>\n",
              "      <td>Visuellement recherché, très ludique, rythmé e...</td>\n",
              "      <td>2021-09-25</td>\n",
              "      <td>7</td>\n",
              "      <td>9</td>\n",
              "      <td>Visuellement recherché très ludique rythmé et ...</td>\n",
              "      <td>[Visuellement, recherché, très, ludique, rythm...</td>\n",
              "      <td>1</td>\n",
              "      <td>[visuel, recherch, tres, ludiqu, rythm, galer,...</td>\n",
              "    </tr>\n",
              "  </tbody>\n",
              "</table>\n",
              "</div>\n",
              "      <button class=\"colab-df-convert\" onclick=\"convertToInteractive('df-92f9de38-0c14-4342-99cc-ec442c952b07')\"\n",
              "              title=\"Convert this dataframe to an interactive table.\"\n",
              "              style=\"display:none;\">\n",
              "        \n",
              "  <svg xmlns=\"http://www.w3.org/2000/svg\" height=\"24px\"viewBox=\"0 0 24 24\"\n",
              "       width=\"24px\">\n",
              "    <path d=\"M0 0h24v24H0V0z\" fill=\"none\"/>\n",
              "    <path d=\"M18.56 5.44l.94 2.06.94-2.06 2.06-.94-2.06-.94-.94-2.06-.94 2.06-2.06.94zm-11 1L8.5 8.5l.94-2.06 2.06-.94-2.06-.94L8.5 2.5l-.94 2.06-2.06.94zm10 10l.94 2.06.94-2.06 2.06-.94-2.06-.94-.94-2.06-.94 2.06-2.06.94z\"/><path d=\"M17.41 7.96l-1.37-1.37c-.4-.4-.92-.59-1.43-.59-.52 0-1.04.2-1.43.59L10.3 9.45l-7.72 7.72c-.78.78-.78 2.05 0 2.83L4 21.41c.39.39.9.59 1.41.59.51 0 1.02-.2 1.41-.59l7.78-7.78 2.81-2.81c.8-.78.8-2.07 0-2.86zM5.41 20L4 18.59l7.72-7.72 1.47 1.35L5.41 20z\"/>\n",
              "  </svg>\n",
              "      </button>\n",
              "      \n",
              "  <style>\n",
              "    .colab-df-container {\n",
              "      display:flex;\n",
              "      flex-wrap:wrap;\n",
              "      gap: 12px;\n",
              "    }\n",
              "\n",
              "    .colab-df-convert {\n",
              "      background-color: #E8F0FE;\n",
              "      border: none;\n",
              "      border-radius: 50%;\n",
              "      cursor: pointer;\n",
              "      display: none;\n",
              "      fill: #1967D2;\n",
              "      height: 32px;\n",
              "      padding: 0 0 0 0;\n",
              "      width: 32px;\n",
              "    }\n",
              "\n",
              "    .colab-df-convert:hover {\n",
              "      background-color: #E2EBFA;\n",
              "      box-shadow: 0px 1px 2px rgba(60, 64, 67, 0.3), 0px 1px 3px 1px rgba(60, 64, 67, 0.15);\n",
              "      fill: #174EA6;\n",
              "    }\n",
              "\n",
              "    [theme=dark] .colab-df-convert {\n",
              "      background-color: #3B4455;\n",
              "      fill: #D2E3FC;\n",
              "    }\n",
              "\n",
              "    [theme=dark] .colab-df-convert:hover {\n",
              "      background-color: #434B5C;\n",
              "      box-shadow: 0px 1px 3px 1px rgba(0, 0, 0, 0.15);\n",
              "      filter: drop-shadow(0px 1px 2px rgba(0, 0, 0, 0.3));\n",
              "      fill: #FFFFFF;\n",
              "    }\n",
              "  </style>\n",
              "\n",
              "      <script>\n",
              "        const buttonEl =\n",
              "          document.querySelector('#df-92f9de38-0c14-4342-99cc-ec442c952b07 button.colab-df-convert');\n",
              "        buttonEl.style.display =\n",
              "          google.colab.kernel.accessAllowed ? 'block' : 'none';\n",
              "\n",
              "        async function convertToInteractive(key) {\n",
              "          const element = document.querySelector('#df-92f9de38-0c14-4342-99cc-ec442c952b07');\n",
              "          const dataTable =\n",
              "            await google.colab.kernel.invokeFunction('convertToInteractive',\n",
              "                                                     [key], {});\n",
              "          if (!dataTable) return;\n",
              "\n",
              "          const docLinkHtml = 'Like what you see? Visit the ' +\n",
              "            '<a target=\"_blank\" href=https://colab.research.google.com/notebooks/data_table.ipynb>data table notebook</a>'\n",
              "            + ' to learn more about interactive tables.';\n",
              "          element.innerHTML = '';\n",
              "          dataTable['output_type'] = 'display_data';\n",
              "          await google.colab.output.renderOutput(dataTable, element);\n",
              "          const docLink = document.createElement('div');\n",
              "          docLink.innerHTML = docLinkHtml;\n",
              "          element.appendChild(docLink);\n",
              "        }\n",
              "      </script>\n",
              "    </div>\n",
              "  </div>\n",
              "  "
            ]
          },
          "metadata": {},
          "execution_count": 38
        }
      ]
    },
    {
      "cell_type": "markdown",
      "source": [
        "TRAIN/ TEST SPLIT"
      ],
      "metadata": {
        "id": "xv9nKyiv2RhH"
      }
    },
    {
      "cell_type": "code",
      "source": [
        "from sklearn.model_selection import train_test_split\n",
        "x_train,x_test,y_train, y_test = train_test_split(data['stemming'], data['Sentiment'], test_size=0.3, random_state=27)"
      ],
      "metadata": {
        "id": "5oI1ZqLh2PXL"
      },
      "execution_count": 58,
      "outputs": []
    },
    {
      "cell_type": "code",
      "source": [
        "y_train.shape"
      ],
      "metadata": {
        "colab": {
          "base_uri": "https://localhost:8080/"
        },
        "id": "9kChq2p82f4z",
        "outputId": "19adffdd-4d36-44f6-c5a9-454bff2d3ea9"
      },
      "execution_count": 59,
      "outputs": [
        {
          "output_type": "execute_result",
          "data": {
            "text/plain": [
              "(238,)"
            ]
          },
          "metadata": {},
          "execution_count": 59
        }
      ]
    },
    {
      "cell_type": "code",
      "source": [
        "y_train.value_counts()"
      ],
      "metadata": {
        "colab": {
          "base_uri": "https://localhost:8080/"
        },
        "id": "mDpD1eXc2hBR",
        "outputId": "dd0e6d74-f7f0-4ca2-db75-a5c4023d5f7e"
      },
      "execution_count": 60,
      "outputs": [
        {
          "output_type": "execute_result",
          "data": {
            "text/plain": [
              "1    124\n",
              "0    114\n",
              "Name: Sentiment, dtype: int64"
            ]
          },
          "metadata": {},
          "execution_count": 60
        }
      ]
    },
    {
      "cell_type": "code",
      "source": [
        "y_test.value_counts()"
      ],
      "metadata": {
        "colab": {
          "base_uri": "https://localhost:8080/"
        },
        "id": "Y_N8mt6c2jeX",
        "outputId": "93b4d997-0707-4dfc-f776-8333aa37735d"
      },
      "execution_count": 61,
      "outputs": [
        {
          "output_type": "execute_result",
          "data": {
            "text/plain": [
              "1    55\n",
              "0    48\n",
              "Name: Sentiment, dtype: int64"
            ]
          },
          "metadata": {},
          "execution_count": 61
        }
      ]
    },
    {
      "cell_type": "code",
      "source": [
        "x_train"
      ],
      "metadata": {
        "colab": {
          "base_uri": "https://localhost:8080/"
        },
        "id": "PODTZuIy2lWt",
        "outputId": "46c5e054-a98d-476a-ade9-8f198592a215"
      },
      "execution_count": 62,
      "outputs": [
        {
          "output_type": "execute_result",
          "data": {
            "text/plain": [
              "90     [excellent, personnag, incroi, ains, jeux, sus...\n",
              "143    [tres, inspir, battl, royal, donc, vrai, nouve...\n",
              "80     [sort, prix, dang, version, encor, plus, proch...\n",
              "145    [la, ser, a, fait, l'effet, d'un, bomb, réalit...\n",
              "277              [plutôt, symp, j'ai, hât, voir, saison]\n",
              "                             ...                        \n",
              "312    [une, ser, fait, pass, temp, la, chut, plus, m...\n",
              "31     [franch, tres, surpr, cet, ser, just, incroi, ...\n",
              "328    [la, ser, regard, bien, univer, hung, gam, jeu...\n",
              "184    [cet, ser, excellent, est-ce, chef, d'œuvr, ma...\n",
              "19     [excellent, ser, plein, rebond, personnag, int...\n",
              "Name: stemming, Length: 238, dtype: object"
            ]
          },
          "metadata": {},
          "execution_count": 62
        }
      ]
    },
    {
      "cell_type": "markdown",
      "source": [
        "TF-IDF"
      ],
      "metadata": {
        "id": "b8V4ldN72uaQ"
      }
    },
    {
      "cell_type": "code",
      "source": [
        "from sklearn.feature_extraction.text import TfidfVectorizer"
      ],
      "metadata": {
        "id": "IGLl4s_V2wJv"
      },
      "execution_count": 63,
      "outputs": []
    },
    {
      "cell_type": "code",
      "source": [
        "tfidf_vectorizer = TfidfVectorizer()\n",
        "\n",
        "x_train_tfidf = tfidf_vectorizer.fit_transform([\" \".join(words) for words in x_train])\n",
        "labels_x_tfidf = tfidf_vectorizer.get_feature_names_out()\n",
        "\n",
        "x_test_tfidf = tfidf_vectorizer.transform([\" \".join(words) for words in x_test])"
      ],
      "metadata": {
        "id": "ydP8haYd25gm"
      },
      "execution_count": 64,
      "outputs": []
    },
    {
      "cell_type": "code",
      "source": [
        "x_train_tfidf.shape"
      ],
      "metadata": {
        "colab": {
          "base_uri": "https://localhost:8080/"
        },
        "id": "xBl_G1Es27kI",
        "outputId": "dfb2e502-ffaf-4eb7-8a02-5954ae58740a"
      },
      "execution_count": 65,
      "outputs": [
        {
          "output_type": "execute_result",
          "data": {
            "text/plain": [
              "(238, 2961)"
            ]
          },
          "metadata": {},
          "execution_count": 65
        }
      ]
    },
    {
      "cell_type": "code",
      "source": [
        "labels_x_tfidf.shape"
      ],
      "metadata": {
        "colab": {
          "base_uri": "https://localhost:8080/"
        },
        "id": "pwlCqYdC2871",
        "outputId": "0078bcd9-b060-421e-8704-26c6c6287379"
      },
      "execution_count": 66,
      "outputs": [
        {
          "output_type": "execute_result",
          "data": {
            "text/plain": [
              "(2961,)"
            ]
          },
          "metadata": {},
          "execution_count": 66
        }
      ]
    },
    {
      "cell_type": "code",
      "source": [
        "data_tdidf_train = pd.DataFrame(data=x_train_tfidf.toarray(), columns=labels_x_tfidf)"
      ],
      "metadata": {
        "id": "AICCgKtr2-vP"
      },
      "execution_count": 67,
      "outputs": []
    },
    {
      "cell_type": "code",
      "source": [
        "data_tdidf_train.head()"
      ],
      "metadata": {
        "colab": {
          "base_uri": "https://localhost:8080/",
          "height": 235
        },
        "id": "MpybAlbP3A83",
        "outputId": "02388991-7118-4183-b9f3-297c7dbb007b"
      },
      "execution_count": 55,
      "outputs": [
        {
          "output_type": "execute_result",
          "data": {
            "text/plain": [
              "   abandon  abattr  abim  abord  about  abri  abscon  absenc  absolu  absten  \\\n",
              "0      0.0     0.0   0.0    0.0    0.0   0.0     0.0     0.0     0.0     0.0   \n",
              "1      0.0     0.0   0.0    0.0    0.0   0.0     0.0     0.0     0.0     0.0   \n",
              "2      0.0     0.0   0.0    0.0    0.0   0.0     0.0     0.0     0.0     0.0   \n",
              "3      0.0     0.0   0.0    0.0    0.0   0.0     0.0     0.0     0.0     0.0   \n",
              "4      0.0     0.0   0.0    0.0    0.0   0.0     0.0     0.0     0.0     0.0   \n",
              "\n",
              "   ...  évident  évit  évolu  êre  êtr  être  île  œil  œuvr  œuvresc  \n",
              "0  ...      0.0   0.0    0.0  0.0  0.0   0.0  0.0  0.0   0.0      0.0  \n",
              "1  ...      0.0   0.0    0.0  0.0  0.0   0.0  0.0  0.0   0.0      0.0  \n",
              "2  ...      0.0   0.0    0.0  0.0  0.0   0.0  0.0  0.0   0.0      0.0  \n",
              "3  ...      0.0   0.0    0.0  0.0  0.0   0.0  0.0  0.0   0.0      0.0  \n",
              "4  ...      0.0   0.0    0.0  0.0  0.0   0.0  0.0  0.0   0.0      0.0  \n",
              "\n",
              "[5 rows x 2961 columns]"
            ],
            "text/html": [
              "\n",
              "  <div id=\"df-4f2fcaea-4a07-4713-8641-69f9c25e2634\">\n",
              "    <div class=\"colab-df-container\">\n",
              "      <div>\n",
              "<style scoped>\n",
              "    .dataframe tbody tr th:only-of-type {\n",
              "        vertical-align: middle;\n",
              "    }\n",
              "\n",
              "    .dataframe tbody tr th {\n",
              "        vertical-align: top;\n",
              "    }\n",
              "\n",
              "    .dataframe thead th {\n",
              "        text-align: right;\n",
              "    }\n",
              "</style>\n",
              "<table border=\"1\" class=\"dataframe\">\n",
              "  <thead>\n",
              "    <tr style=\"text-align: right;\">\n",
              "      <th></th>\n",
              "      <th>abandon</th>\n",
              "      <th>abattr</th>\n",
              "      <th>abim</th>\n",
              "      <th>abord</th>\n",
              "      <th>about</th>\n",
              "      <th>abri</th>\n",
              "      <th>abscon</th>\n",
              "      <th>absenc</th>\n",
              "      <th>absolu</th>\n",
              "      <th>absten</th>\n",
              "      <th>...</th>\n",
              "      <th>évident</th>\n",
              "      <th>évit</th>\n",
              "      <th>évolu</th>\n",
              "      <th>êre</th>\n",
              "      <th>êtr</th>\n",
              "      <th>être</th>\n",
              "      <th>île</th>\n",
              "      <th>œil</th>\n",
              "      <th>œuvr</th>\n",
              "      <th>œuvresc</th>\n",
              "    </tr>\n",
              "  </thead>\n",
              "  <tbody>\n",
              "    <tr>\n",
              "      <th>0</th>\n",
              "      <td>0.0</td>\n",
              "      <td>0.0</td>\n",
              "      <td>0.0</td>\n",
              "      <td>0.0</td>\n",
              "      <td>0.0</td>\n",
              "      <td>0.0</td>\n",
              "      <td>0.0</td>\n",
              "      <td>0.0</td>\n",
              "      <td>0.0</td>\n",
              "      <td>0.0</td>\n",
              "      <td>...</td>\n",
              "      <td>0.0</td>\n",
              "      <td>0.0</td>\n",
              "      <td>0.0</td>\n",
              "      <td>0.0</td>\n",
              "      <td>0.0</td>\n",
              "      <td>0.0</td>\n",
              "      <td>0.0</td>\n",
              "      <td>0.0</td>\n",
              "      <td>0.0</td>\n",
              "      <td>0.0</td>\n",
              "    </tr>\n",
              "    <tr>\n",
              "      <th>1</th>\n",
              "      <td>0.0</td>\n",
              "      <td>0.0</td>\n",
              "      <td>0.0</td>\n",
              "      <td>0.0</td>\n",
              "      <td>0.0</td>\n",
              "      <td>0.0</td>\n",
              "      <td>0.0</td>\n",
              "      <td>0.0</td>\n",
              "      <td>0.0</td>\n",
              "      <td>0.0</td>\n",
              "      <td>...</td>\n",
              "      <td>0.0</td>\n",
              "      <td>0.0</td>\n",
              "      <td>0.0</td>\n",
              "      <td>0.0</td>\n",
              "      <td>0.0</td>\n",
              "      <td>0.0</td>\n",
              "      <td>0.0</td>\n",
              "      <td>0.0</td>\n",
              "      <td>0.0</td>\n",
              "      <td>0.0</td>\n",
              "    </tr>\n",
              "    <tr>\n",
              "      <th>2</th>\n",
              "      <td>0.0</td>\n",
              "      <td>0.0</td>\n",
              "      <td>0.0</td>\n",
              "      <td>0.0</td>\n",
              "      <td>0.0</td>\n",
              "      <td>0.0</td>\n",
              "      <td>0.0</td>\n",
              "      <td>0.0</td>\n",
              "      <td>0.0</td>\n",
              "      <td>0.0</td>\n",
              "      <td>...</td>\n",
              "      <td>0.0</td>\n",
              "      <td>0.0</td>\n",
              "      <td>0.0</td>\n",
              "      <td>0.0</td>\n",
              "      <td>0.0</td>\n",
              "      <td>0.0</td>\n",
              "      <td>0.0</td>\n",
              "      <td>0.0</td>\n",
              "      <td>0.0</td>\n",
              "      <td>0.0</td>\n",
              "    </tr>\n",
              "    <tr>\n",
              "      <th>3</th>\n",
              "      <td>0.0</td>\n",
              "      <td>0.0</td>\n",
              "      <td>0.0</td>\n",
              "      <td>0.0</td>\n",
              "      <td>0.0</td>\n",
              "      <td>0.0</td>\n",
              "      <td>0.0</td>\n",
              "      <td>0.0</td>\n",
              "      <td>0.0</td>\n",
              "      <td>0.0</td>\n",
              "      <td>...</td>\n",
              "      <td>0.0</td>\n",
              "      <td>0.0</td>\n",
              "      <td>0.0</td>\n",
              "      <td>0.0</td>\n",
              "      <td>0.0</td>\n",
              "      <td>0.0</td>\n",
              "      <td>0.0</td>\n",
              "      <td>0.0</td>\n",
              "      <td>0.0</td>\n",
              "      <td>0.0</td>\n",
              "    </tr>\n",
              "    <tr>\n",
              "      <th>4</th>\n",
              "      <td>0.0</td>\n",
              "      <td>0.0</td>\n",
              "      <td>0.0</td>\n",
              "      <td>0.0</td>\n",
              "      <td>0.0</td>\n",
              "      <td>0.0</td>\n",
              "      <td>0.0</td>\n",
              "      <td>0.0</td>\n",
              "      <td>0.0</td>\n",
              "      <td>0.0</td>\n",
              "      <td>...</td>\n",
              "      <td>0.0</td>\n",
              "      <td>0.0</td>\n",
              "      <td>0.0</td>\n",
              "      <td>0.0</td>\n",
              "      <td>0.0</td>\n",
              "      <td>0.0</td>\n",
              "      <td>0.0</td>\n",
              "      <td>0.0</td>\n",
              "      <td>0.0</td>\n",
              "      <td>0.0</td>\n",
              "    </tr>\n",
              "  </tbody>\n",
              "</table>\n",
              "<p>5 rows × 2961 columns</p>\n",
              "</div>\n",
              "      <button class=\"colab-df-convert\" onclick=\"convertToInteractive('df-4f2fcaea-4a07-4713-8641-69f9c25e2634')\"\n",
              "              title=\"Convert this dataframe to an interactive table.\"\n",
              "              style=\"display:none;\">\n",
              "        \n",
              "  <svg xmlns=\"http://www.w3.org/2000/svg\" height=\"24px\"viewBox=\"0 0 24 24\"\n",
              "       width=\"24px\">\n",
              "    <path d=\"M0 0h24v24H0V0z\" fill=\"none\"/>\n",
              "    <path d=\"M18.56 5.44l.94 2.06.94-2.06 2.06-.94-2.06-.94-.94-2.06-.94 2.06-2.06.94zm-11 1L8.5 8.5l.94-2.06 2.06-.94-2.06-.94L8.5 2.5l-.94 2.06-2.06.94zm10 10l.94 2.06.94-2.06 2.06-.94-2.06-.94-.94-2.06-.94 2.06-2.06.94z\"/><path d=\"M17.41 7.96l-1.37-1.37c-.4-.4-.92-.59-1.43-.59-.52 0-1.04.2-1.43.59L10.3 9.45l-7.72 7.72c-.78.78-.78 2.05 0 2.83L4 21.41c.39.39.9.59 1.41.59.51 0 1.02-.2 1.41-.59l7.78-7.78 2.81-2.81c.8-.78.8-2.07 0-2.86zM5.41 20L4 18.59l7.72-7.72 1.47 1.35L5.41 20z\"/>\n",
              "  </svg>\n",
              "      </button>\n",
              "      \n",
              "  <style>\n",
              "    .colab-df-container {\n",
              "      display:flex;\n",
              "      flex-wrap:wrap;\n",
              "      gap: 12px;\n",
              "    }\n",
              "\n",
              "    .colab-df-convert {\n",
              "      background-color: #E8F0FE;\n",
              "      border: none;\n",
              "      border-radius: 50%;\n",
              "      cursor: pointer;\n",
              "      display: none;\n",
              "      fill: #1967D2;\n",
              "      height: 32px;\n",
              "      padding: 0 0 0 0;\n",
              "      width: 32px;\n",
              "    }\n",
              "\n",
              "    .colab-df-convert:hover {\n",
              "      background-color: #E2EBFA;\n",
              "      box-shadow: 0px 1px 2px rgba(60, 64, 67, 0.3), 0px 1px 3px 1px rgba(60, 64, 67, 0.15);\n",
              "      fill: #174EA6;\n",
              "    }\n",
              "\n",
              "    [theme=dark] .colab-df-convert {\n",
              "      background-color: #3B4455;\n",
              "      fill: #D2E3FC;\n",
              "    }\n",
              "\n",
              "    [theme=dark] .colab-df-convert:hover {\n",
              "      background-color: #434B5C;\n",
              "      box-shadow: 0px 1px 3px 1px rgba(0, 0, 0, 0.15);\n",
              "      filter: drop-shadow(0px 1px 2px rgba(0, 0, 0, 0.3));\n",
              "      fill: #FFFFFF;\n",
              "    }\n",
              "  </style>\n",
              "\n",
              "      <script>\n",
              "        const buttonEl =\n",
              "          document.querySelector('#df-4f2fcaea-4a07-4713-8641-69f9c25e2634 button.colab-df-convert');\n",
              "        buttonEl.style.display =\n",
              "          google.colab.kernel.accessAllowed ? 'block' : 'none';\n",
              "\n",
              "        async function convertToInteractive(key) {\n",
              "          const element = document.querySelector('#df-4f2fcaea-4a07-4713-8641-69f9c25e2634');\n",
              "          const dataTable =\n",
              "            await google.colab.kernel.invokeFunction('convertToInteractive',\n",
              "                                                     [key], {});\n",
              "          if (!dataTable) return;\n",
              "\n",
              "          const docLinkHtml = 'Like what you see? Visit the ' +\n",
              "            '<a target=\"_blank\" href=https://colab.research.google.com/notebooks/data_table.ipynb>data table notebook</a>'\n",
              "            + ' to learn more about interactive tables.';\n",
              "          element.innerHTML = '';\n",
              "          dataTable['output_type'] = 'display_data';\n",
              "          await google.colab.output.renderOutput(dataTable, element);\n",
              "          const docLink = document.createElement('div');\n",
              "          docLink.innerHTML = docLinkHtml;\n",
              "          element.appendChild(docLink);\n",
              "        }\n",
              "      </script>\n",
              "    </div>\n",
              "  </div>\n",
              "  "
            ]
          },
          "metadata": {},
          "execution_count": 55
        }
      ]
    },
    {
      "cell_type": "code",
      "source": [
        "y_train"
      ],
      "metadata": {
        "colab": {
          "base_uri": "https://localhost:8080/"
        },
        "id": "cr1dRycL3CpO",
        "outputId": "a87b5b78-83f9-41b8-df5a-006cacd43895"
      },
      "execution_count": 71,
      "outputs": [
        {
          "output_type": "execute_result",
          "data": {
            "text/plain": [
              "90     1\n",
              "143    0\n",
              "80     1\n",
              "145    0\n",
              "277    0\n",
              "      ..\n",
              "312    0\n",
              "31     1\n",
              "328    0\n",
              "184    1\n",
              "19     1\n",
              "Name: Sentiment, Length: 238, dtype: int64"
            ]
          },
          "metadata": {},
          "execution_count": 71
        }
      ]
    },
    {
      "cell_type": "code",
      "source": [
        "data_tdidf_train['sentiment'] = y_train"
      ],
      "metadata": {
        "id": "_u37hiFG4L48"
      },
      "execution_count": 72,
      "outputs": []
    },
    {
      "cell_type": "code",
      "source": [
        "x_train_tfidf.shape"
      ],
      "metadata": {
        "colab": {
          "base_uri": "https://localhost:8080/"
        },
        "id": "BKrZgodZ4O_f",
        "outputId": "691aa610-4e0b-48be-a66d-c0488415e97d"
      },
      "execution_count": 73,
      "outputs": [
        {
          "output_type": "execute_result",
          "data": {
            "text/plain": [
              "(238, 2961)"
            ]
          },
          "metadata": {},
          "execution_count": 73
        }
      ]
    },
    {
      "cell_type": "code",
      "source": [
        "x_test_tfidf.shape"
      ],
      "metadata": {
        "colab": {
          "base_uri": "https://localhost:8080/"
        },
        "id": "WT0NQll44RpJ",
        "outputId": "7e70690c-5a1f-4fa3-defb-a27c92ad6e32"
      },
      "execution_count": 74,
      "outputs": [
        {
          "output_type": "execute_result",
          "data": {
            "text/plain": [
              "(103, 2961)"
            ]
          },
          "metadata": {},
          "execution_count": 74
        }
      ]
    },
    {
      "cell_type": "code",
      "source": [
        "x_train_tfidf"
      ],
      "metadata": {
        "colab": {
          "base_uri": "https://localhost:8080/"
        },
        "id": "1wD4oOB54UmX",
        "outputId": "45af78ba-1da3-476c-99e8-7c9c1a6e4775"
      },
      "execution_count": 75,
      "outputs": [
        {
          "output_type": "execute_result",
          "data": {
            "text/plain": [
              "<238x2961 sparse matrix of type '<class 'numpy.float64'>'\n",
              "\twith 12060 stored elements in Compressed Sparse Row format>"
            ]
          },
          "metadata": {},
          "execution_count": 75
        }
      ]
    },
    {
      "cell_type": "markdown",
      "source": [
        "Modelisation"
      ],
      "metadata": {
        "id": "uFJIzw1Q4aFX"
      }
    },
    {
      "cell_type": "code",
      "source": [
        "data_best_word = data_tdidf_train.groupby(['sentiment']).sum()\n",
        "data_best_word "
      ],
      "metadata": {
        "colab": {
          "base_uri": "https://localhost:8080/",
          "height": 236
        },
        "id": "WYm8NnOV4ayE",
        "outputId": "ab59f28b-53a3-4db3-8c4a-b9de46b3f69d"
      },
      "execution_count": 76,
      "outputs": [
        {
          "output_type": "execute_result",
          "data": {
            "text/plain": [
              "            abandon    abattr      abim     abord     about      abri  \\\n",
              "sentiment                                                               \n",
              "0.0        0.000000  0.101425  0.000000  0.303216  0.036896  0.036896   \n",
              "1.0        0.118241  0.000000  0.180492  0.250475  0.000000  0.000000   \n",
              "\n",
              "             abscon    absenc    absolu  absten  ...   évident      évit  \\\n",
              "sentiment                                        ...                       \n",
              "0.0        0.039678  0.000000  0.302582     0.0  ...  0.334311  0.370251   \n",
              "1.0        0.000000  0.167673  0.354560     0.0  ...  0.210839  0.074653   \n",
              "\n",
              "              évolu  êre       êtr      être       île       œil      œuvr  \\\n",
              "sentiment                                                                    \n",
              "0.0        0.148209  0.0  0.914302  1.200748  0.147130  0.033391  0.275879   \n",
              "1.0        0.078872  0.0  0.571319  0.664542  0.106653  0.170531  0.592472   \n",
              "\n",
              "           œuvresc  \n",
              "sentiment           \n",
              "0.0            0.0  \n",
              "1.0            0.0  \n",
              "\n",
              "[2 rows x 2961 columns]"
            ],
            "text/html": [
              "\n",
              "  <div id=\"df-5c181829-7659-4413-b3f7-596b90532ad1\">\n",
              "    <div class=\"colab-df-container\">\n",
              "      <div>\n",
              "<style scoped>\n",
              "    .dataframe tbody tr th:only-of-type {\n",
              "        vertical-align: middle;\n",
              "    }\n",
              "\n",
              "    .dataframe tbody tr th {\n",
              "        vertical-align: top;\n",
              "    }\n",
              "\n",
              "    .dataframe thead th {\n",
              "        text-align: right;\n",
              "    }\n",
              "</style>\n",
              "<table border=\"1\" class=\"dataframe\">\n",
              "  <thead>\n",
              "    <tr style=\"text-align: right;\">\n",
              "      <th></th>\n",
              "      <th>abandon</th>\n",
              "      <th>abattr</th>\n",
              "      <th>abim</th>\n",
              "      <th>abord</th>\n",
              "      <th>about</th>\n",
              "      <th>abri</th>\n",
              "      <th>abscon</th>\n",
              "      <th>absenc</th>\n",
              "      <th>absolu</th>\n",
              "      <th>absten</th>\n",
              "      <th>...</th>\n",
              "      <th>évident</th>\n",
              "      <th>évit</th>\n",
              "      <th>évolu</th>\n",
              "      <th>êre</th>\n",
              "      <th>êtr</th>\n",
              "      <th>être</th>\n",
              "      <th>île</th>\n",
              "      <th>œil</th>\n",
              "      <th>œuvr</th>\n",
              "      <th>œuvresc</th>\n",
              "    </tr>\n",
              "    <tr>\n",
              "      <th>sentiment</th>\n",
              "      <th></th>\n",
              "      <th></th>\n",
              "      <th></th>\n",
              "      <th></th>\n",
              "      <th></th>\n",
              "      <th></th>\n",
              "      <th></th>\n",
              "      <th></th>\n",
              "      <th></th>\n",
              "      <th></th>\n",
              "      <th></th>\n",
              "      <th></th>\n",
              "      <th></th>\n",
              "      <th></th>\n",
              "      <th></th>\n",
              "      <th></th>\n",
              "      <th></th>\n",
              "      <th></th>\n",
              "      <th></th>\n",
              "      <th></th>\n",
              "      <th></th>\n",
              "    </tr>\n",
              "  </thead>\n",
              "  <tbody>\n",
              "    <tr>\n",
              "      <th>0.0</th>\n",
              "      <td>0.000000</td>\n",
              "      <td>0.101425</td>\n",
              "      <td>0.000000</td>\n",
              "      <td>0.303216</td>\n",
              "      <td>0.036896</td>\n",
              "      <td>0.036896</td>\n",
              "      <td>0.039678</td>\n",
              "      <td>0.000000</td>\n",
              "      <td>0.302582</td>\n",
              "      <td>0.0</td>\n",
              "      <td>...</td>\n",
              "      <td>0.334311</td>\n",
              "      <td>0.370251</td>\n",
              "      <td>0.148209</td>\n",
              "      <td>0.0</td>\n",
              "      <td>0.914302</td>\n",
              "      <td>1.200748</td>\n",
              "      <td>0.147130</td>\n",
              "      <td>0.033391</td>\n",
              "      <td>0.275879</td>\n",
              "      <td>0.0</td>\n",
              "    </tr>\n",
              "    <tr>\n",
              "      <th>1.0</th>\n",
              "      <td>0.118241</td>\n",
              "      <td>0.000000</td>\n",
              "      <td>0.180492</td>\n",
              "      <td>0.250475</td>\n",
              "      <td>0.000000</td>\n",
              "      <td>0.000000</td>\n",
              "      <td>0.000000</td>\n",
              "      <td>0.167673</td>\n",
              "      <td>0.354560</td>\n",
              "      <td>0.0</td>\n",
              "      <td>...</td>\n",
              "      <td>0.210839</td>\n",
              "      <td>0.074653</td>\n",
              "      <td>0.078872</td>\n",
              "      <td>0.0</td>\n",
              "      <td>0.571319</td>\n",
              "      <td>0.664542</td>\n",
              "      <td>0.106653</td>\n",
              "      <td>0.170531</td>\n",
              "      <td>0.592472</td>\n",
              "      <td>0.0</td>\n",
              "    </tr>\n",
              "  </tbody>\n",
              "</table>\n",
              "<p>2 rows × 2961 columns</p>\n",
              "</div>\n",
              "      <button class=\"colab-df-convert\" onclick=\"convertToInteractive('df-5c181829-7659-4413-b3f7-596b90532ad1')\"\n",
              "              title=\"Convert this dataframe to an interactive table.\"\n",
              "              style=\"display:none;\">\n",
              "        \n",
              "  <svg xmlns=\"http://www.w3.org/2000/svg\" height=\"24px\"viewBox=\"0 0 24 24\"\n",
              "       width=\"24px\">\n",
              "    <path d=\"M0 0h24v24H0V0z\" fill=\"none\"/>\n",
              "    <path d=\"M18.56 5.44l.94 2.06.94-2.06 2.06-.94-2.06-.94-.94-2.06-.94 2.06-2.06.94zm-11 1L8.5 8.5l.94-2.06 2.06-.94-2.06-.94L8.5 2.5l-.94 2.06-2.06.94zm10 10l.94 2.06.94-2.06 2.06-.94-2.06-.94-.94-2.06-.94 2.06-2.06.94z\"/><path d=\"M17.41 7.96l-1.37-1.37c-.4-.4-.92-.59-1.43-.59-.52 0-1.04.2-1.43.59L10.3 9.45l-7.72 7.72c-.78.78-.78 2.05 0 2.83L4 21.41c.39.39.9.59 1.41.59.51 0 1.02-.2 1.41-.59l7.78-7.78 2.81-2.81c.8-.78.8-2.07 0-2.86zM5.41 20L4 18.59l7.72-7.72 1.47 1.35L5.41 20z\"/>\n",
              "  </svg>\n",
              "      </button>\n",
              "      \n",
              "  <style>\n",
              "    .colab-df-container {\n",
              "      display:flex;\n",
              "      flex-wrap:wrap;\n",
              "      gap: 12px;\n",
              "    }\n",
              "\n",
              "    .colab-df-convert {\n",
              "      background-color: #E8F0FE;\n",
              "      border: none;\n",
              "      border-radius: 50%;\n",
              "      cursor: pointer;\n",
              "      display: none;\n",
              "      fill: #1967D2;\n",
              "      height: 32px;\n",
              "      padding: 0 0 0 0;\n",
              "      width: 32px;\n",
              "    }\n",
              "\n",
              "    .colab-df-convert:hover {\n",
              "      background-color: #E2EBFA;\n",
              "      box-shadow: 0px 1px 2px rgba(60, 64, 67, 0.3), 0px 1px 3px 1px rgba(60, 64, 67, 0.15);\n",
              "      fill: #174EA6;\n",
              "    }\n",
              "\n",
              "    [theme=dark] .colab-df-convert {\n",
              "      background-color: #3B4455;\n",
              "      fill: #D2E3FC;\n",
              "    }\n",
              "\n",
              "    [theme=dark] .colab-df-convert:hover {\n",
              "      background-color: #434B5C;\n",
              "      box-shadow: 0px 1px 3px 1px rgba(0, 0, 0, 0.15);\n",
              "      filter: drop-shadow(0px 1px 2px rgba(0, 0, 0, 0.3));\n",
              "      fill: #FFFFFF;\n",
              "    }\n",
              "  </style>\n",
              "\n",
              "      <script>\n",
              "        const buttonEl =\n",
              "          document.querySelector('#df-5c181829-7659-4413-b3f7-596b90532ad1 button.colab-df-convert');\n",
              "        buttonEl.style.display =\n",
              "          google.colab.kernel.accessAllowed ? 'block' : 'none';\n",
              "\n",
              "        async function convertToInteractive(key) {\n",
              "          const element = document.querySelector('#df-5c181829-7659-4413-b3f7-596b90532ad1');\n",
              "          const dataTable =\n",
              "            await google.colab.kernel.invokeFunction('convertToInteractive',\n",
              "                                                     [key], {});\n",
              "          if (!dataTable) return;\n",
              "\n",
              "          const docLinkHtml = 'Like what you see? Visit the ' +\n",
              "            '<a target=\"_blank\" href=https://colab.research.google.com/notebooks/data_table.ipynb>data table notebook</a>'\n",
              "            + ' to learn more about interactive tables.';\n",
              "          element.innerHTML = '';\n",
              "          dataTable['output_type'] = 'display_data';\n",
              "          await google.colab.output.renderOutput(dataTable, element);\n",
              "          const docLink = document.createElement('div');\n",
              "          docLink.innerHTML = docLinkHtml;\n",
              "          element.appendChild(docLink);\n",
              "        }\n",
              "      </script>\n",
              "    </div>\n",
              "  </div>\n",
              "  "
            ]
          },
          "metadata": {},
          "execution_count": 76
        }
      ]
    },
    {
      "cell_type": "code",
      "source": [
        "#on fait la transosition de la matrice\n",
        "data_best_word_transposed = data_best_word.T "
      ],
      "metadata": {
        "id": "HWQQMKk34iX6"
      },
      "execution_count": 78,
      "outputs": []
    },
    {
      "cell_type": "code",
      "source": [
        "data_best_word_transposed.head()"
      ],
      "metadata": {
        "colab": {
          "base_uri": "https://localhost:8080/",
          "height": 206
        },
        "id": "bAP-CPlB4sI3",
        "outputId": "30327963-3491-493a-a011-f4fa6aae2541"
      },
      "execution_count": 79,
      "outputs": [
        {
          "output_type": "execute_result",
          "data": {
            "text/plain": [
              "sentiment       0.0       1.0\n",
              "abandon    0.000000  0.118241\n",
              "abattr     0.101425  0.000000\n",
              "abim       0.000000  0.180492\n",
              "abord      0.303216  0.250475\n",
              "about      0.036896  0.000000"
            ],
            "text/html": [
              "\n",
              "  <div id=\"df-0ac350c9-045a-4d4f-a570-fff67440010f\">\n",
              "    <div class=\"colab-df-container\">\n",
              "      <div>\n",
              "<style scoped>\n",
              "    .dataframe tbody tr th:only-of-type {\n",
              "        vertical-align: middle;\n",
              "    }\n",
              "\n",
              "    .dataframe tbody tr th {\n",
              "        vertical-align: top;\n",
              "    }\n",
              "\n",
              "    .dataframe thead th {\n",
              "        text-align: right;\n",
              "    }\n",
              "</style>\n",
              "<table border=\"1\" class=\"dataframe\">\n",
              "  <thead>\n",
              "    <tr style=\"text-align: right;\">\n",
              "      <th>sentiment</th>\n",
              "      <th>0.0</th>\n",
              "      <th>1.0</th>\n",
              "    </tr>\n",
              "  </thead>\n",
              "  <tbody>\n",
              "    <tr>\n",
              "      <th>abandon</th>\n",
              "      <td>0.000000</td>\n",
              "      <td>0.118241</td>\n",
              "    </tr>\n",
              "    <tr>\n",
              "      <th>abattr</th>\n",
              "      <td>0.101425</td>\n",
              "      <td>0.000000</td>\n",
              "    </tr>\n",
              "    <tr>\n",
              "      <th>abim</th>\n",
              "      <td>0.000000</td>\n",
              "      <td>0.180492</td>\n",
              "    </tr>\n",
              "    <tr>\n",
              "      <th>abord</th>\n",
              "      <td>0.303216</td>\n",
              "      <td>0.250475</td>\n",
              "    </tr>\n",
              "    <tr>\n",
              "      <th>about</th>\n",
              "      <td>0.036896</td>\n",
              "      <td>0.000000</td>\n",
              "    </tr>\n",
              "  </tbody>\n",
              "</table>\n",
              "</div>\n",
              "      <button class=\"colab-df-convert\" onclick=\"convertToInteractive('df-0ac350c9-045a-4d4f-a570-fff67440010f')\"\n",
              "              title=\"Convert this dataframe to an interactive table.\"\n",
              "              style=\"display:none;\">\n",
              "        \n",
              "  <svg xmlns=\"http://www.w3.org/2000/svg\" height=\"24px\"viewBox=\"0 0 24 24\"\n",
              "       width=\"24px\">\n",
              "    <path d=\"M0 0h24v24H0V0z\" fill=\"none\"/>\n",
              "    <path d=\"M18.56 5.44l.94 2.06.94-2.06 2.06-.94-2.06-.94-.94-2.06-.94 2.06-2.06.94zm-11 1L8.5 8.5l.94-2.06 2.06-.94-2.06-.94L8.5 2.5l-.94 2.06-2.06.94zm10 10l.94 2.06.94-2.06 2.06-.94-2.06-.94-.94-2.06-.94 2.06-2.06.94z\"/><path d=\"M17.41 7.96l-1.37-1.37c-.4-.4-.92-.59-1.43-.59-.52 0-1.04.2-1.43.59L10.3 9.45l-7.72 7.72c-.78.78-.78 2.05 0 2.83L4 21.41c.39.39.9.59 1.41.59.51 0 1.02-.2 1.41-.59l7.78-7.78 2.81-2.81c.8-.78.8-2.07 0-2.86zM5.41 20L4 18.59l7.72-7.72 1.47 1.35L5.41 20z\"/>\n",
              "  </svg>\n",
              "      </button>\n",
              "      \n",
              "  <style>\n",
              "    .colab-df-container {\n",
              "      display:flex;\n",
              "      flex-wrap:wrap;\n",
              "      gap: 12px;\n",
              "    }\n",
              "\n",
              "    .colab-df-convert {\n",
              "      background-color: #E8F0FE;\n",
              "      border: none;\n",
              "      border-radius: 50%;\n",
              "      cursor: pointer;\n",
              "      display: none;\n",
              "      fill: #1967D2;\n",
              "      height: 32px;\n",
              "      padding: 0 0 0 0;\n",
              "      width: 32px;\n",
              "    }\n",
              "\n",
              "    .colab-df-convert:hover {\n",
              "      background-color: #E2EBFA;\n",
              "      box-shadow: 0px 1px 2px rgba(60, 64, 67, 0.3), 0px 1px 3px 1px rgba(60, 64, 67, 0.15);\n",
              "      fill: #174EA6;\n",
              "    }\n",
              "\n",
              "    [theme=dark] .colab-df-convert {\n",
              "      background-color: #3B4455;\n",
              "      fill: #D2E3FC;\n",
              "    }\n",
              "\n",
              "    [theme=dark] .colab-df-convert:hover {\n",
              "      background-color: #434B5C;\n",
              "      box-shadow: 0px 1px 3px 1px rgba(0, 0, 0, 0.15);\n",
              "      filter: drop-shadow(0px 1px 2px rgba(0, 0, 0, 0.3));\n",
              "      fill: #FFFFFF;\n",
              "    }\n",
              "  </style>\n",
              "\n",
              "      <script>\n",
              "        const buttonEl =\n",
              "          document.querySelector('#df-0ac350c9-045a-4d4f-a570-fff67440010f button.colab-df-convert');\n",
              "        buttonEl.style.display =\n",
              "          google.colab.kernel.accessAllowed ? 'block' : 'none';\n",
              "\n",
              "        async function convertToInteractive(key) {\n",
              "          const element = document.querySelector('#df-0ac350c9-045a-4d4f-a570-fff67440010f');\n",
              "          const dataTable =\n",
              "            await google.colab.kernel.invokeFunction('convertToInteractive',\n",
              "                                                     [key], {});\n",
              "          if (!dataTable) return;\n",
              "\n",
              "          const docLinkHtml = 'Like what you see? Visit the ' +\n",
              "            '<a target=\"_blank\" href=https://colab.research.google.com/notebooks/data_table.ipynb>data table notebook</a>'\n",
              "            + ' to learn more about interactive tables.';\n",
              "          element.innerHTML = '';\n",
              "          dataTable['output_type'] = 'display_data';\n",
              "          await google.colab.output.renderOutput(dataTable, element);\n",
              "          const docLink = document.createElement('div');\n",
              "          docLink.innerHTML = docLinkHtml;\n",
              "          element.appendChild(docLink);\n",
              "        }\n",
              "      </script>\n",
              "    </div>\n",
              "  </div>\n",
              "  "
            ]
          },
          "metadata": {},
          "execution_count": 79
        }
      ]
    },
    {
      "cell_type": "code",
      "source": [
        "data_best_word_transposed.describe()"
      ],
      "metadata": {
        "colab": {
          "base_uri": "https://localhost:8080/",
          "height": 300
        },
        "id": "JRXZuidt4vyd",
        "outputId": "5d11ecc2-4c3a-4659-82b5-0642c90c04e9"
      },
      "execution_count": 80,
      "outputs": [
        {
          "output_type": "execute_result",
          "data": {
            "text/plain": [
              "sentiment          0.0          1.0\n",
              "count      2961.000000  2961.000000\n",
              "mean          0.172145     0.184594\n",
              "std           0.325319     0.374815\n",
              "min           0.000000     0.000000\n",
              "25%           0.000000     0.000000\n",
              "50%           0.066609     0.084260\n",
              "75%           0.210200     0.224360\n",
              "max           5.266215     6.080413"
            ],
            "text/html": [
              "\n",
              "  <div id=\"df-2f90f1ce-84b1-4ef9-b4ae-b2f42188a9ca\">\n",
              "    <div class=\"colab-df-container\">\n",
              "      <div>\n",
              "<style scoped>\n",
              "    .dataframe tbody tr th:only-of-type {\n",
              "        vertical-align: middle;\n",
              "    }\n",
              "\n",
              "    .dataframe tbody tr th {\n",
              "        vertical-align: top;\n",
              "    }\n",
              "\n",
              "    .dataframe thead th {\n",
              "        text-align: right;\n",
              "    }\n",
              "</style>\n",
              "<table border=\"1\" class=\"dataframe\">\n",
              "  <thead>\n",
              "    <tr style=\"text-align: right;\">\n",
              "      <th>sentiment</th>\n",
              "      <th>0.0</th>\n",
              "      <th>1.0</th>\n",
              "    </tr>\n",
              "  </thead>\n",
              "  <tbody>\n",
              "    <tr>\n",
              "      <th>count</th>\n",
              "      <td>2961.000000</td>\n",
              "      <td>2961.000000</td>\n",
              "    </tr>\n",
              "    <tr>\n",
              "      <th>mean</th>\n",
              "      <td>0.172145</td>\n",
              "      <td>0.184594</td>\n",
              "    </tr>\n",
              "    <tr>\n",
              "      <th>std</th>\n",
              "      <td>0.325319</td>\n",
              "      <td>0.374815</td>\n",
              "    </tr>\n",
              "    <tr>\n",
              "      <th>min</th>\n",
              "      <td>0.000000</td>\n",
              "      <td>0.000000</td>\n",
              "    </tr>\n",
              "    <tr>\n",
              "      <th>25%</th>\n",
              "      <td>0.000000</td>\n",
              "      <td>0.000000</td>\n",
              "    </tr>\n",
              "    <tr>\n",
              "      <th>50%</th>\n",
              "      <td>0.066609</td>\n",
              "      <td>0.084260</td>\n",
              "    </tr>\n",
              "    <tr>\n",
              "      <th>75%</th>\n",
              "      <td>0.210200</td>\n",
              "      <td>0.224360</td>\n",
              "    </tr>\n",
              "    <tr>\n",
              "      <th>max</th>\n",
              "      <td>5.266215</td>\n",
              "      <td>6.080413</td>\n",
              "    </tr>\n",
              "  </tbody>\n",
              "</table>\n",
              "</div>\n",
              "      <button class=\"colab-df-convert\" onclick=\"convertToInteractive('df-2f90f1ce-84b1-4ef9-b4ae-b2f42188a9ca')\"\n",
              "              title=\"Convert this dataframe to an interactive table.\"\n",
              "              style=\"display:none;\">\n",
              "        \n",
              "  <svg xmlns=\"http://www.w3.org/2000/svg\" height=\"24px\"viewBox=\"0 0 24 24\"\n",
              "       width=\"24px\">\n",
              "    <path d=\"M0 0h24v24H0V0z\" fill=\"none\"/>\n",
              "    <path d=\"M18.56 5.44l.94 2.06.94-2.06 2.06-.94-2.06-.94-.94-2.06-.94 2.06-2.06.94zm-11 1L8.5 8.5l.94-2.06 2.06-.94-2.06-.94L8.5 2.5l-.94 2.06-2.06.94zm10 10l.94 2.06.94-2.06 2.06-.94-2.06-.94-.94-2.06-.94 2.06-2.06.94z\"/><path d=\"M17.41 7.96l-1.37-1.37c-.4-.4-.92-.59-1.43-.59-.52 0-1.04.2-1.43.59L10.3 9.45l-7.72 7.72c-.78.78-.78 2.05 0 2.83L4 21.41c.39.39.9.59 1.41.59.51 0 1.02-.2 1.41-.59l7.78-7.78 2.81-2.81c.8-.78.8-2.07 0-2.86zM5.41 20L4 18.59l7.72-7.72 1.47 1.35L5.41 20z\"/>\n",
              "  </svg>\n",
              "      </button>\n",
              "      \n",
              "  <style>\n",
              "    .colab-df-container {\n",
              "      display:flex;\n",
              "      flex-wrap:wrap;\n",
              "      gap: 12px;\n",
              "    }\n",
              "\n",
              "    .colab-df-convert {\n",
              "      background-color: #E8F0FE;\n",
              "      border: none;\n",
              "      border-radius: 50%;\n",
              "      cursor: pointer;\n",
              "      display: none;\n",
              "      fill: #1967D2;\n",
              "      height: 32px;\n",
              "      padding: 0 0 0 0;\n",
              "      width: 32px;\n",
              "    }\n",
              "\n",
              "    .colab-df-convert:hover {\n",
              "      background-color: #E2EBFA;\n",
              "      box-shadow: 0px 1px 2px rgba(60, 64, 67, 0.3), 0px 1px 3px 1px rgba(60, 64, 67, 0.15);\n",
              "      fill: #174EA6;\n",
              "    }\n",
              "\n",
              "    [theme=dark] .colab-df-convert {\n",
              "      background-color: #3B4455;\n",
              "      fill: #D2E3FC;\n",
              "    }\n",
              "\n",
              "    [theme=dark] .colab-df-convert:hover {\n",
              "      background-color: #434B5C;\n",
              "      box-shadow: 0px 1px 3px 1px rgba(0, 0, 0, 0.15);\n",
              "      filter: drop-shadow(0px 1px 2px rgba(0, 0, 0, 0.3));\n",
              "      fill: #FFFFFF;\n",
              "    }\n",
              "  </style>\n",
              "\n",
              "      <script>\n",
              "        const buttonEl =\n",
              "          document.querySelector('#df-2f90f1ce-84b1-4ef9-b4ae-b2f42188a9ca button.colab-df-convert');\n",
              "        buttonEl.style.display =\n",
              "          google.colab.kernel.accessAllowed ? 'block' : 'none';\n",
              "\n",
              "        async function convertToInteractive(key) {\n",
              "          const element = document.querySelector('#df-2f90f1ce-84b1-4ef9-b4ae-b2f42188a9ca');\n",
              "          const dataTable =\n",
              "            await google.colab.kernel.invokeFunction('convertToInteractive',\n",
              "                                                     [key], {});\n",
              "          if (!dataTable) return;\n",
              "\n",
              "          const docLinkHtml = 'Like what you see? Visit the ' +\n",
              "            '<a target=\"_blank\" href=https://colab.research.google.com/notebooks/data_table.ipynb>data table notebook</a>'\n",
              "            + ' to learn more about interactive tables.';\n",
              "          element.innerHTML = '';\n",
              "          dataTable['output_type'] = 'display_data';\n",
              "          await google.colab.output.renderOutput(dataTable, element);\n",
              "          const docLink = document.createElement('div');\n",
              "          docLink.innerHTML = docLinkHtml;\n",
              "          element.appendChild(docLink);\n",
              "        }\n",
              "      </script>\n",
              "    </div>\n",
              "  </div>\n",
              "  "
            ]
          },
          "metadata": {},
          "execution_count": 80
        }
      ]
    },
    {
      "cell_type": "code",
      "source": [
        "word_neg = data_best_word_transposed.iloc[:,0].sort_values(ascending=False).head(150)"
      ],
      "metadata": {
        "id": "QotyJyIr4xhr"
      },
      "execution_count": 81,
      "outputs": []
    },
    {
      "cell_type": "code",
      "source": [
        "word_pos = data_best_word_transposed.iloc[:,1].sort_values(ascending=False).head(150)"
      ],
      "metadata": {
        "id": "Px0PzvNg49rD"
      },
      "execution_count": 82,
      "outputs": []
    },
    {
      "cell_type": "code",
      "source": [
        "word_tri = [word for word in word_neg.index if word not in word_pos.index]"
      ],
      "metadata": {
        "id": "eqwDdZWS5EIV"
      },
      "execution_count": 83,
      "outputs": []
    },
    {
      "cell_type": "code",
      "source": [
        "x_test.head()"
      ],
      "metadata": {
        "colab": {
          "base_uri": "https://localhost:8080/"
        },
        "id": "2vo7PZhp5F0Z",
        "outputId": "3223c57d-dcfe-4cea-fc78-0124a058a633"
      },
      "execution_count": 84,
      "outputs": [
        {
          "output_type": "execute_result",
          "data": {
            "text/plain": [
              "195    [pas, déplais, regard, d'énorm, ficel, scénari...\n",
              "236    [j'ai, pass, bon, moment, dev, squid, gam, déc...\n",
              "21     [décor, imag, sublim, melang, battl, royal, se...\n",
              "325    [on, a, toujour, droit, sempiternel, pseudo-ex...\n",
              "216    [malgr, l'engou, international, cet, ser, trou...\n",
              "Name: stemming, dtype: object"
            ]
          },
          "metadata": {},
          "execution_count": 84
        }
      ]
    },
    {
      "cell_type": "code",
      "source": [
        "y_test_predict = x_test.apply(lambda x: 0 if any(e in x for e in word_tri) else 1)"
      ],
      "metadata": {
        "id": "llYRS33T5G6h"
      },
      "execution_count": 85,
      "outputs": []
    },
    {
      "cell_type": "code",
      "source": [
        "y_test_predict"
      ],
      "metadata": {
        "colab": {
          "base_uri": "https://localhost:8080/"
        },
        "id": "F6Jixn2f5JmC",
        "outputId": "da5efb3a-e89b-4ed3-c078-084c3a33ae86"
      },
      "execution_count": 86,
      "outputs": [
        {
          "output_type": "execute_result",
          "data": {
            "text/plain": [
              "195    0\n",
              "236    0\n",
              "21     0\n",
              "325    0\n",
              "216    1\n",
              "      ..\n",
              "29     0\n",
              "260    0\n",
              "252    0\n",
              "208    0\n",
              "226    1\n",
              "Name: stemming, Length: 103, dtype: int64"
            ]
          },
          "metadata": {},
          "execution_count": 86
        }
      ]
    },
    {
      "cell_type": "code",
      "source": [
        "from sklearn.metrics import confusion_matrix"
      ],
      "metadata": {
        "id": "aYG_vfWD5LO0"
      },
      "execution_count": 87,
      "outputs": []
    },
    {
      "cell_type": "code",
      "source": [
        "confusion_matrix(y_test, y_test_predict)"
      ],
      "metadata": {
        "colab": {
          "base_uri": "https://localhost:8080/"
        },
        "id": "FgSx7VAL5Mtq",
        "outputId": "608f4b56-c1ed-488b-e9ba-0762fdd2a716"
      },
      "execution_count": 88,
      "outputs": [
        {
          "output_type": "execute_result",
          "data": {
            "text/plain": [
              "array([[45,  3],\n",
              "       [45, 10]])"
            ]
          },
          "metadata": {},
          "execution_count": 88
        }
      ]
    },
    {
      "cell_type": "code",
      "source": [
        "cm = confusion_matrix(y_test, y_test_predict)\n",
        "\n",
        "disp = ConfusionMatrixDisplay(confusion_matrix=cm)\n",
        "\n",
        "disp.plot(xticks_rotation='vertical')\n",
        "\n",
        "plt.show()"
      ],
      "metadata": {
        "colab": {
          "base_uri": "https://localhost:8080/",
          "height": 280
        },
        "id": "eJBd4lrP5TXU",
        "outputId": "7be544f0-cd19-4326-9bf4-5203ffc3c024"
      },
      "execution_count": 90,
      "outputs": [
        {
          "output_type": "display_data",
          "data": {
            "text/plain": [
              "<Figure size 432x288 with 2 Axes>"
            ],
            "image/png": "[encoded data removed]"
          },
          "metadata": {
            "needs_background": "light"
          }
        }
      ]
    },
    {
      "cell_type": "markdown",
      "source": [
        "MISE EN PLACE DU NAIVE BAYES "
      ],
      "metadata": {
        "id": "iX_Hsq8k5crI"
      }
    },
    {
      "cell_type": "code",
      "source": [
        "from sklearn.feature_extraction.text import CountVectorizer"
      ],
      "metadata": {
        "id": "KVTx100l5gSL"
      },
      "execution_count": 91,
      "outputs": []
    },
    {
      "cell_type": "code",
      "source": [
        "#on fait appel a notre function\n",
        "coun_vect = CountVectorizer() \n",
        "# Counter vectorize the Element N of Dataframe Event column\n",
        "count_matrix = coun_vect.fit_transform([\" \".join(words) for words in x_test]) \n",
        "# opn fait la conversion de la matrice rn tableau\n",
        "count_array = count_matrix.toarray() \n",
        "data_count = pd.DataFrame(data=count_array,columns = coun_vect.get_feature_names())"
      ],
      "metadata": {
        "colab": {
          "base_uri": "https://localhost:8080/"
        },
        "id": "Dnilke5x5lhW",
        "outputId": "8b6f96b4-82fe-4380-99ba-ae9780421a95"
      },
      "execution_count": 102,
      "outputs": [
        {
          "output_type": "stream",
          "name": "stderr",
          "text": [
            "/usr/local/lib/python3.7/dist-packages/sklearn/utils/deprecation.py:87: FutureWarning: Function get_feature_names is deprecated; get_feature_names is deprecated in 1.0 and will be removed in 1.2. Please use get_feature_names_out instead.\n",
            "  warnings.warn(msg, category=FutureWarning)\n"
          ]
        }
      ]
    },
    {
      "cell_type": "code",
      "source": [
        "data_count"
      ],
      "metadata": {
        "colab": {
          "base_uri": "https://localhost:8080/",
          "height": 423
        },
        "id": "95JY0CiD5nhC",
        "outputId": "500f21f4-da10-4d0f-a3ff-f4b21a371816"
      },
      "execution_count": 103,
      "outputs": [
        {
          "output_type": "execute_result",
          "data": {
            "text/plain": [
              "     abdul  abois  abord  abordel  abordeun  absenc  absolu  absurd  accept  \\\n",
              "0        0      0      0        0         0       0       0       0       0   \n",
              "1        0      0      0        0         0       0       0       0       0   \n",
              "2        0      0      0        0         0       0       0       0       0   \n",
              "3        0      0      0        0         0       0       0       0       0   \n",
              "4        0      0      0        0         0       0       0       0       0   \n",
              "..     ...    ...    ...      ...       ...     ...     ...     ...     ...   \n",
              "98       0      0      1        0         0       0       0       0       0   \n",
              "99       0      0      0        0         0       0       0       0       0   \n",
              "100      0      0      0        0         0       0       0       0       0   \n",
              "101      0      0      0        0         0       0       1       0       0   \n",
              "102      0      0      0        0         0       0       0       0       0   \n",
              "\n",
              "     accroch  ...  éven  éventuel  évident  évit  évolu  évoqu  êtr  être  îl  \\\n",
              "0          0  ...     0         0        0     0      0      0    0     0   0   \n",
              "1          0  ...     0         0        0     0      0      0    0     0   0   \n",
              "2          0  ...     0         0        0     0      0      0    0     0   0   \n",
              "3          0  ...     0         0        0     0      0      0    0     0   0   \n",
              "4          0  ...     0         0        0     0      0      0    0     0   0   \n",
              "..       ...  ...   ...       ...      ...   ...    ...    ...  ...   ...  ..   \n",
              "98         0  ...     0         0        0     0      0      0    0     0   0   \n",
              "99         0  ...     0         0        0     0      0      0    0     0   0   \n",
              "100        0  ...     0         0        0     0      0      0    0     0   0   \n",
              "101        1  ...     0         0        0     0      0      0    0     1   0   \n",
              "102        0  ...     0         0        0     0      0      0    0     0   0   \n",
              "\n",
              "     œuvr  \n",
              "0       0  \n",
              "1       0  \n",
              "2       0  \n",
              "3       1  \n",
              "4       0  \n",
              "..    ...  \n",
              "98      0  \n",
              "99      0  \n",
              "100     0  \n",
              "101     0  \n",
              "102     0  \n",
              "\n",
              "[103 rows x 1707 columns]"
            ],
            "text/html": [
              "\n",
              "  <div id=\"df-20893f5b-aa72-4f05-80e1-aba5df82d10b\">\n",
              "    <div class=\"colab-df-container\">\n",
              "      <div>\n",
              "<style scoped>\n",
              "    .dataframe tbody tr th:only-of-type {\n",
              "        vertical-align: middle;\n",
              "    }\n",
              "\n",
              "    .dataframe tbody tr th {\n",
              "        vertical-align: top;\n",
              "    }\n",
              "\n",
              "    .dataframe thead th {\n",
              "        text-align: right;\n",
              "    }\n",
              "</style>\n",
              "<table border=\"1\" class=\"dataframe\">\n",
              "  <thead>\n",
              "    <tr style=\"text-align: right;\">\n",
              "      <th></th>\n",
              "      <th>abdul</th>\n",
              "      <th>abois</th>\n",
              "      <th>abord</th>\n",
              "      <th>abordel</th>\n",
              "      <th>abordeun</th>\n",
              "      <th>absenc</th>\n",
              "      <th>absolu</th>\n",
              "      <th>absurd</th>\n",
              "      <th>accept</th>\n",
              "      <th>accroch</th>\n",
              "      <th>...</th>\n",
              "      <th>éven</th>\n",
              "      <th>éventuel</th>\n",
              "      <th>évident</th>\n",
              "      <th>évit</th>\n",
              "      <th>évolu</th>\n",
              "      <th>évoqu</th>\n",
              "      <th>êtr</th>\n",
              "      <th>être</th>\n",
              "      <th>îl</th>\n",
              "      <th>œuvr</th>\n",
              "    </tr>\n",
              "  </thead>\n",
              "  <tbody>\n",
              "    <tr>\n",
              "      <th>0</th>\n",
              "      <td>0</td>\n",
              "      <td>0</td>\n",
              "      <td>0</td>\n",
              "      <td>0</td>\n",
              "      <td>0</td>\n",
              "      <td>0</td>\n",
              "      <td>0</td>\n",
              "      <td>0</td>\n",
              "      <td>0</td>\n",
              "      <td>0</td>\n",
              "      <td>...</td>\n",
              "      <td>0</td>\n",
              "      <td>0</td>\n",
              "      <td>0</td>\n",
              "      <td>0</td>\n",
              "      <td>0</td>\n",
              "      <td>0</td>\n",
              "      <td>0</td>\n",
              "      <td>0</td>\n",
              "      <td>0</td>\n",
              "      <td>0</td>\n",
              "    </tr>\n",
              "    <tr>\n",
              "      <th>1</th>\n",
              "      <td>0</td>\n",
              "      <td>0</td>\n",
              "      <td>0</td>\n",
              "      <td>0</td>\n",
              "      <td>0</td>\n",
              "      <td>0</td>\n",
              "      <td>0</td>\n",
              "      <td>0</td>\n",
              "      <td>0</td>\n",
              "      <td>0</td>\n",
              "      <td>...</td>\n",
              "      <td>0</td>\n",
              "      <td>0</td>\n",
              "      <td>0</td>\n",
              "      <td>0</td>\n",
              "      <td>0</td>\n",
              "      <td>0</td>\n",
              "      <td>0</td>\n",
              "      <td>0</td>\n",
              "      <td>0</td>\n",
              "      <td>0</td>\n",
              "    </tr>\n",
              "    <tr>\n",
              "      <th>2</th>\n",
              "      <td>0</td>\n",
              "      <td>0</td>\n",
              "      <td>0</td>\n",
              "      <td>0</td>\n",
              "      <td>0</td>\n",
              "      <td>0</td>\n",
              "      <td>0</td>\n",
              "      <td>0</td>\n",
              "      <td>0</td>\n",
              "      <td>0</td>\n",
              "      <td>...</td>\n",
              "      <td>0</td>\n",
              "      <td>0</td>\n",
              "      <td>0</td>\n",
              "      <td>0</td>\n",
              "      <td>0</td>\n",
              "      <td>0</td>\n",
              "      <td>0</td>\n",
              "      <td>0</td>\n",
              "      <td>0</td>\n",
              "      <td>0</td>\n",
              "    </tr>\n",
              "    <tr>\n",
              "      <th>3</th>\n",
              "      <td>0</td>\n",
              "      <td>0</td>\n",
              "      <td>0</td>\n",
              "      <td>0</td>\n",
              "      <td>0</td>\n",
              "      <td>0</td>\n",
              "      <td>0</td>\n",
              "      <td>0</td>\n",
              "      <td>0</td>\n",
              "      <td>0</td>\n",
              "      <td>...</td>\n",
              "      <td>0</td>\n",
              "      <td>0</td>\n",
              "      <td>0</td>\n",
              "      <td>0</td>\n",
              "      <td>0</td>\n",
              "      <td>0</td>\n",
              "      <td>0</td>\n",
              "      <td>0</td>\n",
              "      <td>0</td>\n",
              "      <td>1</td>\n",
              "    </tr>\n",
              "    <tr>\n",
              "      <th>4</th>\n",
              "      <td>0</td>\n",
              "      <td>0</td>\n",
              "      <td>0</td>\n",
              "      <td>0</td>\n",
              "      <td>0</td>\n",
              "      <td>0</td>\n",
              "      <td>0</td>\n",
              "      <td>0</td>\n",
              "      <td>0</td>\n",
              "      <td>0</td>\n",
              "      <td>...</td>\n",
              "      <td>0</td>\n",
              "      <td>0</td>\n",
              "      <td>0</td>\n",
              "      <td>0</td>\n",
              "      <td>0</td>\n",
              "      <td>0</td>\n",
              "      <td>0</td>\n",
              "      <td>0</td>\n",
              "      <td>0</td>\n",
              "      <td>0</td>\n",
              "    </tr>\n",
              "    <tr>\n",
              "      <th>...</th>\n",
              "      <td>...</td>\n",
              "      <td>...</td>\n",
              "      <td>...</td>\n",
              "      <td>...</td>\n",
              "      <td>...</td>\n",
              "      <td>...</td>\n",
              "      <td>...</td>\n",
              "      <td>...</td>\n",
              "      <td>...</td>\n",
              "      <td>...</td>\n",
              "      <td>...</td>\n",
              "      <td>...</td>\n",
              "      <td>...</td>\n",
              "      <td>...</td>\n",
              "      <td>...</td>\n",
              "      <td>...</td>\n",
              "      <td>...</td>\n",
              "      <td>...</td>\n",
              "      <td>...</td>\n",
              "      <td>...</td>\n",
              "      <td>...</td>\n",
              "    </tr>\n",
              "    <tr>\n",
              "      <th>98</th>\n",
              "      <td>0</td>\n",
              "      <td>0</td>\n",
              "      <td>1</td>\n",
              "      <td>0</td>\n",
              "      <td>0</td>\n",
              "      <td>0</td>\n",
              "      <td>0</td>\n",
              "      <td>0</td>\n",
              "      <td>0</td>\n",
              "      <td>0</td>\n",
              "      <td>...</td>\n",
              "      <td>0</td>\n",
              "      <td>0</td>\n",
              "      <td>0</td>\n",
              "      <td>0</td>\n",
              "      <td>0</td>\n",
              "      <td>0</td>\n",
              "      <td>0</td>\n",
              "      <td>0</td>\n",
              "      <td>0</td>\n",
              "      <td>0</td>\n",
              "    </tr>\n",
              "    <tr>\n",
              "      <th>99</th>\n",
              "      <td>0</td>\n",
              "      <td>0</td>\n",
              "      <td>0</td>\n",
              "      <td>0</td>\n",
              "      <td>0</td>\n",
              "      <td>0</td>\n",
              "      <td>0</td>\n",
              "      <td>0</td>\n",
              "      <td>0</td>\n",
              "      <td>0</td>\n",
              "      <td>...</td>\n",
              "      <td>0</td>\n",
              "      <td>0</td>\n",
              "      <td>0</td>\n",
              "      <td>0</td>\n",
              "      <td>0</td>\n",
              "      <td>0</td>\n",
              "      <td>0</td>\n",
              "      <td>0</td>\n",
              "      <td>0</td>\n",
              "      <td>0</td>\n",
              "    </tr>\n",
              "    <tr>\n",
              "      <th>100</th>\n",
              "      <td>0</td>\n",
              "      <td>0</td>\n",
              "      <td>0</td>\n",
              "      <td>0</td>\n",
              "      <td>0</td>\n",
              "      <td>0</td>\n",
              "      <td>0</td>\n",
              "      <td>0</td>\n",
              "      <td>0</td>\n",
              "      <td>0</td>\n",
              "      <td>...</td>\n",
              "      <td>0</td>\n",
              "      <td>0</td>\n",
              "      <td>0</td>\n",
              "      <td>0</td>\n",
              "      <td>0</td>\n",
              "      <td>0</td>\n",
              "      <td>0</td>\n",
              "      <td>0</td>\n",
              "      <td>0</td>\n",
              "      <td>0</td>\n",
              "    </tr>\n",
              "    <tr>\n",
              "      <th>101</th>\n",
              "      <td>0</td>\n",
              "      <td>0</td>\n",
              "      <td>0</td>\n",
              "      <td>0</td>\n",
              "      <td>0</td>\n",
              "      <td>0</td>\n",
              "      <td>1</td>\n",
              "      <td>0</td>\n",
              "      <td>0</td>\n",
              "      <td>1</td>\n",
              "      <td>...</td>\n",
              "      <td>0</td>\n",
              "      <td>0</td>\n",
              "      <td>0</td>\n",
              "      <td>0</td>\n",
              "      <td>0</td>\n",
              "      <td>0</td>\n",
              "      <td>0</td>\n",
              "      <td>1</td>\n",
              "      <td>0</td>\n",
              "      <td>0</td>\n",
              "    </tr>\n",
              "    <tr>\n",
              "      <th>102</th>\n",
              "      <td>0</td>\n",
              "      <td>0</td>\n",
              "      <td>0</td>\n",
              "      <td>0</td>\n",
              "      <td>0</td>\n",
              "      <td>0</td>\n",
              "      <td>0</td>\n",
              "      <td>0</td>\n",
              "      <td>0</td>\n",
              "      <td>0</td>\n",
              "      <td>...</td>\n",
              "      <td>0</td>\n",
              "      <td>0</td>\n",
              "      <td>0</td>\n",
              "      <td>0</td>\n",
              "      <td>0</td>\n",
              "      <td>0</td>\n",
              "      <td>0</td>\n",
              "      <td>0</td>\n",
              "      <td>0</td>\n",
              "      <td>0</td>\n",
              "    </tr>\n",
              "  </tbody>\n",
              "</table>\n",
              "<p>103 rows × 1707 columns</p>\n",
              "</div>\n",
              "      <button class=\"colab-df-convert\" onclick=\"convertToInteractive('df-20893f5b-aa72-4f05-80e1-aba5df82d10b')\"\n",
              "              title=\"Convert this dataframe to an interactive table.\"\n",
              "              style=\"display:none;\">\n",
              "        \n",
              "  <svg xmlns=\"http://www.w3.org/2000/svg\" height=\"24px\"viewBox=\"0 0 24 24\"\n",
              "       width=\"24px\">\n",
              "    <path d=\"M0 0h24v24H0V0z\" fill=\"none\"/>\n",
              "    <path d=\"M18.56 5.44l.94 2.06.94-2.06 2.06-.94-2.06-.94-.94-2.06-.94 2.06-2.06.94zm-11 1L8.5 8.5l.94-2.06 2.06-.94-2.06-.94L8.5 2.5l-.94 2.06-2.06.94zm10 10l.94 2.06.94-2.06 2.06-.94-2.06-.94-.94-2.06-.94 2.06-2.06.94z\"/><path d=\"M17.41 7.96l-1.37-1.37c-.4-.4-.92-.59-1.43-.59-.52 0-1.04.2-1.43.59L10.3 9.45l-7.72 7.72c-.78.78-.78 2.05 0 2.83L4 21.41c.39.39.9.59 1.41.59.51 0 1.02-.2 1.41-.59l7.78-7.78 2.81-2.81c.8-.78.8-2.07 0-2.86zM5.41 20L4 18.59l7.72-7.72 1.47 1.35L5.41 20z\"/>\n",
              "  </svg>\n",
              "      </button>\n",
              "      \n",
              "  <style>\n",
              "    .colab-df-container {\n",
              "      display:flex;\n",
              "      flex-wrap:wrap;\n",
              "      gap: 12px;\n",
              "    }\n",
              "\n",
              "    .colab-df-convert {\n",
              "      background-color: #E8F0FE;\n",
              "      border: none;\n",
              "      border-radius: 50%;\n",
              "      cursor: pointer;\n",
              "      display: none;\n",
              "      fill: #1967D2;\n",
              "      height: 32px;\n",
              "      padding: 0 0 0 0;\n",
              "      width: 32px;\n",
              "    }\n",
              "\n",
              "    .colab-df-convert:hover {\n",
              "      background-color: #E2EBFA;\n",
              "      box-shadow: 0px 1px 2px rgba(60, 64, 67, 0.3), 0px 1px 3px 1px rgba(60, 64, 67, 0.15);\n",
              "      fill: #174EA6;\n",
              "    }\n",
              "\n",
              "    [theme=dark] .colab-df-convert {\n",
              "      background-color: #3B4455;\n",
              "      fill: #D2E3FC;\n",
              "    }\n",
              "\n",
              "    [theme=dark] .colab-df-convert:hover {\n",
              "      background-color: #434B5C;\n",
              "      box-shadow: 0px 1px 3px 1px rgba(0, 0, 0, 0.15);\n",
              "      filter: drop-shadow(0px 1px 2px rgba(0, 0, 0, 0.3));\n",
              "      fill: #FFFFFF;\n",
              "    }\n",
              "  </style>\n",
              "\n",
              "      <script>\n",
              "        const buttonEl =\n",
              "          document.querySelector('#df-20893f5b-aa72-4f05-80e1-aba5df82d10b button.colab-df-convert');\n",
              "        buttonEl.style.display =\n",
              "          google.colab.kernel.accessAllowed ? 'block' : 'none';\n",
              "\n",
              "        async function convertToInteractive(key) {\n",
              "          const element = document.querySelector('#df-20893f5b-aa72-4f05-80e1-aba5df82d10b');\n",
              "          const dataTable =\n",
              "            await google.colab.kernel.invokeFunction('convertToInteractive',\n",
              "                                                     [key], {});\n",
              "          if (!dataTable) return;\n",
              "\n",
              "          const docLinkHtml = 'Like what you see? Visit the ' +\n",
              "            '<a target=\"_blank\" href=https://colab.research.google.com/notebooks/data_table.ipynb>data table notebook</a>'\n",
              "            + ' to learn more about interactive tables.';\n",
              "          element.innerHTML = '';\n",
              "          dataTable['output_type'] = 'display_data';\n",
              "          await google.colab.output.renderOutput(dataTable, element);\n",
              "          const docLink = document.createElement('div');\n",
              "          docLink.innerHTML = docLinkHtml;\n",
              "          element.appendChild(docLink);\n",
              "        }\n",
              "      </script>\n",
              "    </div>\n",
              "  </div>\n",
              "  "
            ]
          },
          "metadata": {},
          "execution_count": 103
        }
      ]
    },
    {
      "cell_type": "code",
      "source": [
        "data['Sentiment']"
      ],
      "metadata": {
        "colab": {
          "base_uri": "https://localhost:8080/"
        },
        "id": "VGfBtVtm5uSU",
        "outputId": "efac143f-3483-42be-aa8f-2560efcfd234"
      },
      "execution_count": 96,
      "outputs": [
        {
          "output_type": "execute_result",
          "data": {
            "text/plain": [
              "0      0\n",
              "1      0\n",
              "2      1\n",
              "3      1\n",
              "4      1\n",
              "      ..\n",
              "336    1\n",
              "337    1\n",
              "338    1\n",
              "339    0\n",
              "340    1\n",
              "Name: Sentiment, Length: 341, dtype: int64"
            ]
          },
          "metadata": {},
          "execution_count": 96
        }
      ]
    },
    {
      "cell_type": "code",
      "source": [
        "x_train, x_test, y_train, y_test = train_test_split(data_count, data['Sentiment'][:103], test_size=0.33)"
      ],
      "metadata": {
        "id": "JfpFVOTL5yVG"
      },
      "execution_count": 104,
      "outputs": []
    },
    {
      "cell_type": "code",
      "source": [
        "# on a le Model de Bernouilli\n",
        "from sklearn.naive_bayes import BernoulliNB \n",
        "bnb = BernoulliNB()\n",
        "bnb.fit(x_train, y_train)"
      ],
      "metadata": {
        "colab": {
          "base_uri": "https://localhost:8080/"
        },
        "id": "GuduRDIe6UNQ",
        "outputId": "db353344-7097-4b7f-ada5-461c296e404d"
      },
      "execution_count": 106,
      "outputs": [
        {
          "output_type": "execute_result",
          "data": {
            "text/plain": [
              "BernoulliNB()"
            ]
          },
          "metadata": {},
          "execution_count": 106
        }
      ]
    },
    {
      "cell_type": "code",
      "source": [
        "y_pred = bnb.predict(x_test)\n",
        "y_pred"
      ],
      "metadata": {
        "colab": {
          "base_uri": "https://localhost:8080/"
        },
        "id": "QtsOr3_K6a4n",
        "outputId": "601a9990-ac46-463c-992a-4334425dfc93"
      },
      "execution_count": 107,
      "outputs": [
        {
          "output_type": "execute_result",
          "data": {
            "text/plain": [
              "array([1, 1, 1, 1, 1, 1, 1, 1, 1, 1, 1, 1, 1, 1, 1, 1, 1, 0, 1, 1, 1, 0,\n",
              "       1, 1, 1, 1, 1, 1, 1, 1, 1, 1, 1, 1])"
            ]
          },
          "metadata": {},
          "execution_count": 107
        }
      ]
    },
    {
      "cell_type": "code",
      "source": [
        "(confusion_matrix(y_test, y_pred))"
      ],
      "metadata": {
        "colab": {
          "base_uri": "https://localhost:8080/"
        },
        "id": "dJAPaoLC6cQq",
        "outputId": "5bc2f2f6-67e3-4bd6-8f34-93012be3224b"
      },
      "execution_count": 108,
      "outputs": [
        {
          "output_type": "execute_result",
          "data": {
            "text/plain": [
              "array([[ 2, 14],\n",
              "       [ 0, 18]])"
            ]
          },
          "metadata": {},
          "execution_count": 108
        }
      ]
    },
    {
      "cell_type": "code",
      "source": [
        "cm = confusion_matrix(y_test, y_pred)\n",
        "\n",
        "disp = ConfusionMatrixDisplay(confusion_matrix=cm)\n",
        "\n",
        "disp.plot(xticks_rotation='vertical')\n",
        "\n",
        "plt.show()"
      ],
      "metadata": {
        "colab": {
          "base_uri": "https://localhost:8080/",
          "height": 280
        },
        "id": "Xsoc0F1j6eYD",
        "outputId": "70710f74-a922-4674-8260-62b6acb7458b"
      },
      "execution_count": 109,
      "outputs": [
        {
          "output_type": "display_data",
          "data": {
            "text/plain": [
              "<Figure size 432x288 with 2 Axes>"
            ],
            "image/png": "[encoded data removed]"
          },
          "metadata": {
            "needs_background": "light"
          }
        }
      ]
    },
    {
      "cell_type": "code",
      "source": [
        "# model multinomial \n",
        "from sklearn.naive_bayes import MultinomialNB \n",
        "mn = MultinomialNB()\n",
        "mn.fit(x_train, y_train)\n"
      ],
      "metadata": {
        "colab": {
          "base_uri": "https://localhost:8080/"
        },
        "id": "kBjYPfjl6sBJ",
        "outputId": "ef16efbd-d355-48a8-9551-c47358e82698"
      },
      "execution_count": 111,
      "outputs": [
        {
          "output_type": "execute_result",
          "data": {
            "text/plain": [
              "MultinomialNB()"
            ]
          },
          "metadata": {},
          "execution_count": 111
        }
      ]
    },
    {
      "cell_type": "code",
      "source": [
        "y_pred = mnb.predict(x_test)"
      ],
      "metadata": {
        "id": "oHt1V7p56yo3"
      },
      "execution_count": 112,
      "outputs": []
    },
    {
      "cell_type": "code",
      "source": [
        "(confusion_matrix(y_test, y_pred))"
      ],
      "metadata": {
        "colab": {
          "base_uri": "https://localhost:8080/"
        },
        "id": "zYprZ8Ma61Ht",
        "outputId": "13d6a6c1-2a3d-4278-e5b9-91231cdf702c"
      },
      "execution_count": 113,
      "outputs": [
        {
          "output_type": "execute_result",
          "data": {
            "text/plain": [
              "array([[ 4, 12],\n",
              "       [ 7, 11]])"
            ]
          },
          "metadata": {},
          "execution_count": 113
        }
      ]
    },
    {
      "cell_type": "code",
      "source": [
        "cm = confusion_matrix(y_test, y_pred)\n",
        "\n",
        "disp = ConfusionMatrixDisplay(confusion_matrix=cm)\n",
        "\n",
        "disp.plot(xticks_rotation='vertical')\n",
        "\n",
        "plt.show()"
      ],
      "metadata": {
        "colab": {
          "base_uri": "https://localhost:8080/",
          "height": 280
        },
        "id": "K4sHWbLZ63GA",
        "outputId": "8f190985-ac43-47b9-dff1-c2dc8eb80685"
      },
      "execution_count": 114,
      "outputs": [
        {
          "output_type": "display_data",
          "data": {
            "text/plain": [
              "<Figure size 432x288 with 2 Axes>"
            ],
            "image/png": "[encoded data removed]"
          },
          "metadata": {
            "needs_background": "light"
          }
        }
      ]
    },
    {
      "cell_type": "code",
      "source": [
        "from sklearn.naive_bayes import GaussianNB\n",
        "gnb = GaussianNB()\n",
        "gnb.fit(x_train, y_train)\n"
      ],
      "metadata": {
        "colab": {
          "base_uri": "https://localhost:8080/"
        },
        "id": "yRui8XPp65Q3",
        "outputId": "cf1c4cfc-46c1-408b-eab1-ac21e6f46579"
      },
      "execution_count": 115,
      "outputs": [
        {
          "output_type": "execute_result",
          "data": {
            "text/plain": [
              "GaussianNB()"
            ]
          },
          "metadata": {},
          "execution_count": 115
        }
      ]
    },
    {
      "cell_type": "code",
      "source": [
        "y_pred = gnb.predict(x_test)"
      ],
      "metadata": {
        "id": "2zl-4nnh675q"
      },
      "execution_count": 116,
      "outputs": []
    },
    {
      "cell_type": "code",
      "source": [
        "(confusion_matrix(y_test, y_pred))"
      ],
      "metadata": {
        "colab": {
          "base_uri": "https://localhost:8080/"
        },
        "id": "9z1LKTIy69gg",
        "outputId": "70909ad2-d910-41e7-b0fc-d1936f088b86"
      },
      "execution_count": 117,
      "outputs": [
        {
          "output_type": "execute_result",
          "data": {
            "text/plain": [
              "array([[7, 9],\n",
              "       [9, 9]])"
            ]
          },
          "metadata": {},
          "execution_count": 117
        }
      ]
    },
    {
      "cell_type": "code",
      "source": [
        "cm = confusion_matrix(y_test, y_pred)\n",
        "\n",
        "disp = ConfusionMatrixDisplay(confusion_matrix=cm)\n",
        "\n",
        "disp.plot(xticks_rotation='vertical')\n",
        "\n",
        "plt.show()"
      ],
      "metadata": {
        "colab": {
          "base_uri": "https://localhost:8080/",
          "height": 280
        },
        "id": "drJu9L7N6_kT",
        "outputId": "40647fc2-7036-4a3e-c563-9d10099fa4ed"
      },
      "execution_count": 118,
      "outputs": [
        {
          "output_type": "display_data",
          "data": {
            "text/plain": [
              "<Figure size 432x288 with 2 Axes>"
            ],
            "image/png": "[encoded data removed]"
          },
          "metadata": {
            "needs_background": "light"
          }
        }
      ]
    }
  ]
}